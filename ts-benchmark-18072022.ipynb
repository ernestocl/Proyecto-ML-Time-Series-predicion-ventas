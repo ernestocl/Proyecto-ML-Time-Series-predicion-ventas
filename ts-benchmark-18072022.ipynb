{
  "cells": [
    {
      "cell_type": "markdown",
      "metadata": {
        "id": "view-in-github",
        "colab_type": "text"
      },
      "source": [
        "<a href=\"https://colab.research.google.com/gist/ernestocl/d3e470aceaea9884fcea59070d135348/ts-benchmark-18072022.ipynb\" target=\"_parent\"><img src=\"https://colab.research.google.com/assets/colab-badge.svg\" alt=\"Open In Colab\"/></a>"
      ]
    },
    {
      "cell_type": "code",
      "execution_count": null,
      "id": "5152fba6",
      "metadata": {
        "_cell_guid": "b1076dfc-b9ad-4769-8c92-a6c4dae69d19",
        "_uuid": "8f2839f25d086af736a60e9eeb907d3b93b6e0e5",
        "execution": {
          "iopub.execute_input": "2022-07-20T19:18:49.684218Z",
          "iopub.status.busy": "2022-07-20T19:18:49.683256Z",
          "iopub.status.idle": "2022-07-20T19:18:49.695495Z",
          "shell.execute_reply": "2022-07-20T19:18:49.694678Z"
        },
        "papermill": {
          "duration": 0.0324,
          "end_time": "2022-07-20T19:18:49.697919",
          "exception": false,
          "start_time": "2022-07-20T19:18:49.665519",
          "status": "completed"
        },
        "tags": [],
        "id": "5152fba6"
      },
      "outputs": [],
      "source": [
        "import pandas as pd\n",
        "import numpy as np\n",
        "\n",
        "# silence warnings\n",
        "import warnings\n",
        "warnings.filterwarnings(\"ignore\")\n",
        "\n",
        "# operating system\n",
        "import os\n",
        "\n",
        "# time calculation to track some processes\n",
        "import time\n",
        "\n",
        "# numeric and matrix operations\n",
        "import numpy as np\n",
        "import pandas as pd\n",
        "\n",
        "from sklearn.preprocessing import LabelEncoder\n",
        "import datetime\n",
        "\n",
        "\n",
        "# loading ploting libraries\n",
        "import matplotlib.pyplot as plt\n",
        "import seaborn as sns\n",
        "plt.style.use('ggplot')\n",
        "%matplotlib inline\n",
        "\n",
        "# python core library for machine learning and data science\n",
        "from sklearn.pipeline import Pipeline\n",
        "from sklearn.preprocessing import StandardScaler, MinMaxScaler\n",
        "from sklearn.base import BaseEstimator, TransformerMixin\n",
        "from sklearn.impute import KNNImputer, SimpleImputer\n",
        "from sklearn.cluster import KMeans"
      ]
    },
    {
      "cell_type": "code",
      "source": [
        "from google.colab import drive\n",
        "drive.mount('/content/drive')"
      ],
      "metadata": {
        "colab": {
          "base_uri": "https://localhost:8080/"
        },
        "id": "spBwBcXR9t33",
        "outputId": "3aadc5a8-6570-4246-c7a7-0084d0d8d434"
      },
      "id": "spBwBcXR9t33",
      "execution_count": null,
      "outputs": [
        {
          "output_type": "stream",
          "name": "stdout",
          "text": [
            "Drive already mounted at /content/drive; to attempt to forcibly remount, call drive.mount(\"/content/drive\", force_remount=True).\n"
          ]
        }
      ]
    },
    {
      "cell_type": "code",
      "source": [
        "df = pd.read_csv(\"/content/drive/MyDrive/MASTER EN DATA SCIENCE/Módulo 4 - Machine Learning/Módulo 4.3 - Machine  Learning TimeSeries/Proyecto ciudades rusas/sales_train_merged.csv\", index_col = 0)\n",
        "df2 = pd.read_csv(\"/content/drive/MyDrive/MASTER EN DATA SCIENCE/Módulo 4 - Machine Learning/Módulo 4.3 - Machine  Learning TimeSeries/Proyecto ciudades rusas/sales_test_mean.csv\")"
      ],
      "metadata": {
        "id": "8vlFj6fS-S7x"
      },
      "id": "8vlFj6fS-S7x",
      "execution_count": null,
      "outputs": []
    },
    {
      "cell_type": "code",
      "execution_count": null,
      "id": "ef8c15fc",
      "metadata": {
        "execution": {
          "iopub.execute_input": "2022-07-20T19:18:50.156273Z",
          "iopub.status.busy": "2022-07-20T19:18:50.155635Z",
          "iopub.status.idle": "2022-07-20T19:18:50.177075Z",
          "shell.execute_reply": "2022-07-20T19:18:50.175984Z"
        },
        "papermill": {
          "duration": 0.039957,
          "end_time": "2022-07-20T19:18:50.180041",
          "exception": false,
          "start_time": "2022-07-20T19:18:50.140084",
          "status": "completed"
        },
        "tags": [],
        "colab": {
          "base_uri": "https://localhost:8080/"
        },
        "id": "ef8c15fc",
        "outputId": "749b22e8-3e4e-426a-95fc-280845eea344"
      },
      "outputs": [
        {
          "output_type": "stream",
          "name": "stdout",
          "text": [
            "<class 'pandas.core.frame.DataFrame'>\n",
            "Int64Index: 87963 entries, 0 to 87962\n",
            "Data columns (total 11 columns):\n",
            " #   Column              Non-Null Count  Dtype  \n",
            "---  ------              --------------  -----  \n",
            " 0   date                87963 non-null  object \n",
            " 1   city                87963 non-null  object \n",
            " 2   shop_id             87963 non-null  int64  \n",
            " 3   shop_name           87963 non-null  object \n",
            " 4   item_category_id    87963 non-null  int64  \n",
            " 5   item_category_name  87963 non-null  object \n",
            " 6   item_id             87963 non-null  int64  \n",
            " 7   item_name           87963 non-null  object \n",
            " 8   unique_id           87963 non-null  object \n",
            " 9   item_price          87963 non-null  float64\n",
            " 10  item_cnt_day        87963 non-null  float64\n",
            "dtypes: float64(2), int64(3), object(6)\n",
            "memory usage: 8.1+ MB\n"
          ]
        },
        {
          "output_type": "execute_result",
          "data": {
            "text/plain": [
              "(87963, 11)"
            ]
          },
          "metadata": {},
          "execution_count": 425
        }
      ],
      "source": [
        "df.head()\n",
        "df.info()\n",
        "df.shape\n",
        "# city -> city_id\n",
        "# montar el df completo --> hay muchos nulos\n",
        "# agrupar las ventas por mes\n",
        "\n",
        "# cruzar los dos dfs\n",
        "# imputar los nulos\n",
        "\n",
        "# función que me saque variables de ts rápido\n",
        "\n",
        "# train test split\n",
        "# modelo\n",
        "\n",
        "# evaluar el modelo\n",
        "# enviar el submit a kaggle"
      ]
    },
    {
      "cell_type": "code",
      "source": [
        "df2.shape"
      ],
      "metadata": {
        "colab": {
          "base_uri": "https://localhost:8080/"
        },
        "id": "oGI62l5iEmCM",
        "outputId": "500e1f96-7a36-4393-df00-e8a88c629bb1"
      },
      "id": "oGI62l5iEmCM",
      "execution_count": null,
      "outputs": [
        {
          "output_type": "execute_result",
          "data": {
            "text/plain": [
              "(299, 2)"
            ]
          },
          "metadata": {},
          "execution_count": 426
        }
      ]
    },
    {
      "cell_type": "code",
      "source": [
        "df"
      ],
      "metadata": {
        "colab": {
          "base_uri": "https://localhost:8080/",
          "height": 641
        },
        "id": "DQuU9GsLeQat",
        "outputId": "595d57c9-268d-4d0b-8411-d723f3bd35bb"
      },
      "id": "DQuU9GsLeQat",
      "execution_count": null,
      "outputs": [
        {
          "output_type": "execute_result",
          "data": {
            "text/plain": [
              "             date   city  shop_id           shop_name  item_category_id  \\\n",
              "0      2013-01-03  Moscú       25  Moscú SEC \"Atrium\"                55   \n",
              "1      2013-01-05  Moscú       25  Moscú SEC \"Atrium\"                55   \n",
              "2      2013-01-07  Moscú       25  Moscú SEC \"Atrium\"                55   \n",
              "3      2013-01-08  Moscú       25  Moscú SEC \"Atrium\"                55   \n",
              "4      2013-01-10  Moscú       25  Moscú SEC \"Atrium\"                55   \n",
              "...           ...    ...      ...                 ...               ...   \n",
              "87958  2015-09-09  Moscú       25  Moscú SEC \"Atrium\"                71   \n",
              "87959  2015-09-10  Moscú       25  Moscú SEC \"Atrium\"                71   \n",
              "87960  2015-09-11  Moscú       25  Moscú SEC \"Atrium\"                71   \n",
              "87961  2015-09-13  Moscú       25  Moscú SEC \"Atrium\"                71   \n",
              "87962  2015-09-02  Moscú       25  Moscú SEC \"Atrium\"                71   \n",
              "\n",
              "                              item_category_name  item_id  \\\n",
              "0             Música - CD de la producción local     2574   \n",
              "1             Música - CD de la producción local     2574   \n",
              "2             Música - CD de la producción local     2574   \n",
              "3             Música - CD de la producción local     2574   \n",
              "4             Música - CD de la producción local     2574   \n",
              "...                                          ...      ...   \n",
              "87958  Regalos - Bolsas, álbumes, Mats d / ratón    20949   \n",
              "87959  Regalos - Bolsas, álbumes, Mats d / ratón    20949   \n",
              "87960  Regalos - Bolsas, álbumes, Mats d / ratón    20949   \n",
              "87961  Regalos - Bolsas, álbumes, Mats d / ratón    20949   \n",
              "87962  Regalos - Bolsas, álbumes, Mats d / ratón    20949   \n",
              "\n",
              "                                               item_name unique_id  \\\n",
              "0      Del Rey Lana Nació para morir la edición de Pa...   25-2574   \n",
              "1      Del Rey Lana Nació para morir la edición de Pa...   25-2574   \n",
              "2      Del Rey Lana Nació para morir la edición de Pa...   25-2574   \n",
              "3      Del Rey Lana Nació para morir la edición de Pa...   25-2574   \n",
              "4      Del Rey Lana Nació para morir la edición de Pa...   25-2574   \n",
              "...                                                  ...       ...   \n",
              "87958  Paquete corporativo Mike 1C Interés blanco (34...  25-20949   \n",
              "87959  Paquete corporativo Mike 1C Interés blanco (34...  25-20949   \n",
              "87960  Paquete corporativo Mike 1C Interés blanco (34...  25-20949   \n",
              "87961  Paquete corporativo Mike 1C Interés blanco (34...  25-20949   \n",
              "87962  Paquete corporativo Mike 1C Interés blanco (34...  25-20949   \n",
              "\n",
              "       item_price  item_cnt_day  \n",
              "0           399.0           2.0  \n",
              "1           399.0           1.0  \n",
              "2           399.0           1.0  \n",
              "3           399.0           2.0  \n",
              "4           399.0           1.0  \n",
              "...           ...           ...  \n",
              "87958         5.0          17.0  \n",
              "87959         5.0          18.0  \n",
              "87960         5.0          21.0  \n",
              "87961         5.0          11.0  \n",
              "87962         5.0          13.0  \n",
              "\n",
              "[87963 rows x 11 columns]"
            ],
            "text/html": [
              "\n",
              "  <div id=\"df-9a5d5ea2-2f38-4dd2-95ea-b84c16399444\">\n",
              "    <div class=\"colab-df-container\">\n",
              "      <div>\n",
              "<style scoped>\n",
              "    .dataframe tbody tr th:only-of-type {\n",
              "        vertical-align: middle;\n",
              "    }\n",
              "\n",
              "    .dataframe tbody tr th {\n",
              "        vertical-align: top;\n",
              "    }\n",
              "\n",
              "    .dataframe thead th {\n",
              "        text-align: right;\n",
              "    }\n",
              "</style>\n",
              "<table border=\"1\" class=\"dataframe\">\n",
              "  <thead>\n",
              "    <tr style=\"text-align: right;\">\n",
              "      <th></th>\n",
              "      <th>date</th>\n",
              "      <th>city</th>\n",
              "      <th>shop_id</th>\n",
              "      <th>shop_name</th>\n",
              "      <th>item_category_id</th>\n",
              "      <th>item_category_name</th>\n",
              "      <th>item_id</th>\n",
              "      <th>item_name</th>\n",
              "      <th>unique_id</th>\n",
              "      <th>item_price</th>\n",
              "      <th>item_cnt_day</th>\n",
              "    </tr>\n",
              "  </thead>\n",
              "  <tbody>\n",
              "    <tr>\n",
              "      <th>0</th>\n",
              "      <td>2013-01-03</td>\n",
              "      <td>Moscú</td>\n",
              "      <td>25</td>\n",
              "      <td>Moscú SEC \"Atrium\"</td>\n",
              "      <td>55</td>\n",
              "      <td>Música - CD de la producción local</td>\n",
              "      <td>2574</td>\n",
              "      <td>Del Rey Lana Nació para morir la edición de Pa...</td>\n",
              "      <td>25-2574</td>\n",
              "      <td>399.0</td>\n",
              "      <td>2.0</td>\n",
              "    </tr>\n",
              "    <tr>\n",
              "      <th>1</th>\n",
              "      <td>2013-01-05</td>\n",
              "      <td>Moscú</td>\n",
              "      <td>25</td>\n",
              "      <td>Moscú SEC \"Atrium\"</td>\n",
              "      <td>55</td>\n",
              "      <td>Música - CD de la producción local</td>\n",
              "      <td>2574</td>\n",
              "      <td>Del Rey Lana Nació para morir la edición de Pa...</td>\n",
              "      <td>25-2574</td>\n",
              "      <td>399.0</td>\n",
              "      <td>1.0</td>\n",
              "    </tr>\n",
              "    <tr>\n",
              "      <th>2</th>\n",
              "      <td>2013-01-07</td>\n",
              "      <td>Moscú</td>\n",
              "      <td>25</td>\n",
              "      <td>Moscú SEC \"Atrium\"</td>\n",
              "      <td>55</td>\n",
              "      <td>Música - CD de la producción local</td>\n",
              "      <td>2574</td>\n",
              "      <td>Del Rey Lana Nació para morir la edición de Pa...</td>\n",
              "      <td>25-2574</td>\n",
              "      <td>399.0</td>\n",
              "      <td>1.0</td>\n",
              "    </tr>\n",
              "    <tr>\n",
              "      <th>3</th>\n",
              "      <td>2013-01-08</td>\n",
              "      <td>Moscú</td>\n",
              "      <td>25</td>\n",
              "      <td>Moscú SEC \"Atrium\"</td>\n",
              "      <td>55</td>\n",
              "      <td>Música - CD de la producción local</td>\n",
              "      <td>2574</td>\n",
              "      <td>Del Rey Lana Nació para morir la edición de Pa...</td>\n",
              "      <td>25-2574</td>\n",
              "      <td>399.0</td>\n",
              "      <td>2.0</td>\n",
              "    </tr>\n",
              "    <tr>\n",
              "      <th>4</th>\n",
              "      <td>2013-01-10</td>\n",
              "      <td>Moscú</td>\n",
              "      <td>25</td>\n",
              "      <td>Moscú SEC \"Atrium\"</td>\n",
              "      <td>55</td>\n",
              "      <td>Música - CD de la producción local</td>\n",
              "      <td>2574</td>\n",
              "      <td>Del Rey Lana Nació para morir la edición de Pa...</td>\n",
              "      <td>25-2574</td>\n",
              "      <td>399.0</td>\n",
              "      <td>1.0</td>\n",
              "    </tr>\n",
              "    <tr>\n",
              "      <th>...</th>\n",
              "      <td>...</td>\n",
              "      <td>...</td>\n",
              "      <td>...</td>\n",
              "      <td>...</td>\n",
              "      <td>...</td>\n",
              "      <td>...</td>\n",
              "      <td>...</td>\n",
              "      <td>...</td>\n",
              "      <td>...</td>\n",
              "      <td>...</td>\n",
              "      <td>...</td>\n",
              "    </tr>\n",
              "    <tr>\n",
              "      <th>87958</th>\n",
              "      <td>2015-09-09</td>\n",
              "      <td>Moscú</td>\n",
              "      <td>25</td>\n",
              "      <td>Moscú SEC \"Atrium\"</td>\n",
              "      <td>71</td>\n",
              "      <td>Regalos - Bolsas, álbumes, Mats d / ratón</td>\n",
              "      <td>20949</td>\n",
              "      <td>Paquete corporativo Mike 1C Interés blanco (34...</td>\n",
              "      <td>25-20949</td>\n",
              "      <td>5.0</td>\n",
              "      <td>17.0</td>\n",
              "    </tr>\n",
              "    <tr>\n",
              "      <th>87959</th>\n",
              "      <td>2015-09-10</td>\n",
              "      <td>Moscú</td>\n",
              "      <td>25</td>\n",
              "      <td>Moscú SEC \"Atrium\"</td>\n",
              "      <td>71</td>\n",
              "      <td>Regalos - Bolsas, álbumes, Mats d / ratón</td>\n",
              "      <td>20949</td>\n",
              "      <td>Paquete corporativo Mike 1C Interés blanco (34...</td>\n",
              "      <td>25-20949</td>\n",
              "      <td>5.0</td>\n",
              "      <td>18.0</td>\n",
              "    </tr>\n",
              "    <tr>\n",
              "      <th>87960</th>\n",
              "      <td>2015-09-11</td>\n",
              "      <td>Moscú</td>\n",
              "      <td>25</td>\n",
              "      <td>Moscú SEC \"Atrium\"</td>\n",
              "      <td>71</td>\n",
              "      <td>Regalos - Bolsas, álbumes, Mats d / ratón</td>\n",
              "      <td>20949</td>\n",
              "      <td>Paquete corporativo Mike 1C Interés blanco (34...</td>\n",
              "      <td>25-20949</td>\n",
              "      <td>5.0</td>\n",
              "      <td>21.0</td>\n",
              "    </tr>\n",
              "    <tr>\n",
              "      <th>87961</th>\n",
              "      <td>2015-09-13</td>\n",
              "      <td>Moscú</td>\n",
              "      <td>25</td>\n",
              "      <td>Moscú SEC \"Atrium\"</td>\n",
              "      <td>71</td>\n",
              "      <td>Regalos - Bolsas, álbumes, Mats d / ratón</td>\n",
              "      <td>20949</td>\n",
              "      <td>Paquete corporativo Mike 1C Interés blanco (34...</td>\n",
              "      <td>25-20949</td>\n",
              "      <td>5.0</td>\n",
              "      <td>11.0</td>\n",
              "    </tr>\n",
              "    <tr>\n",
              "      <th>87962</th>\n",
              "      <td>2015-09-02</td>\n",
              "      <td>Moscú</td>\n",
              "      <td>25</td>\n",
              "      <td>Moscú SEC \"Atrium\"</td>\n",
              "      <td>71</td>\n",
              "      <td>Regalos - Bolsas, álbumes, Mats d / ratón</td>\n",
              "      <td>20949</td>\n",
              "      <td>Paquete corporativo Mike 1C Interés blanco (34...</td>\n",
              "      <td>25-20949</td>\n",
              "      <td>5.0</td>\n",
              "      <td>13.0</td>\n",
              "    </tr>\n",
              "  </tbody>\n",
              "</table>\n",
              "<p>87963 rows × 11 columns</p>\n",
              "</div>\n",
              "      <button class=\"colab-df-convert\" onclick=\"convertToInteractive('df-9a5d5ea2-2f38-4dd2-95ea-b84c16399444')\"\n",
              "              title=\"Convert this dataframe to an interactive table.\"\n",
              "              style=\"display:none;\">\n",
              "        \n",
              "  <svg xmlns=\"http://www.w3.org/2000/svg\" height=\"24px\"viewBox=\"0 0 24 24\"\n",
              "       width=\"24px\">\n",
              "    <path d=\"M0 0h24v24H0V0z\" fill=\"none\"/>\n",
              "    <path d=\"M18.56 5.44l.94 2.06.94-2.06 2.06-.94-2.06-.94-.94-2.06-.94 2.06-2.06.94zm-11 1L8.5 8.5l.94-2.06 2.06-.94-2.06-.94L8.5 2.5l-.94 2.06-2.06.94zm10 10l.94 2.06.94-2.06 2.06-.94-2.06-.94-.94-2.06-.94 2.06-2.06.94z\"/><path d=\"M17.41 7.96l-1.37-1.37c-.4-.4-.92-.59-1.43-.59-.52 0-1.04.2-1.43.59L10.3 9.45l-7.72 7.72c-.78.78-.78 2.05 0 2.83L4 21.41c.39.39.9.59 1.41.59.51 0 1.02-.2 1.41-.59l7.78-7.78 2.81-2.81c.8-.78.8-2.07 0-2.86zM5.41 20L4 18.59l7.72-7.72 1.47 1.35L5.41 20z\"/>\n",
              "  </svg>\n",
              "      </button>\n",
              "      \n",
              "  <style>\n",
              "    .colab-df-container {\n",
              "      display:flex;\n",
              "      flex-wrap:wrap;\n",
              "      gap: 12px;\n",
              "    }\n",
              "\n",
              "    .colab-df-convert {\n",
              "      background-color: #E8F0FE;\n",
              "      border: none;\n",
              "      border-radius: 50%;\n",
              "      cursor: pointer;\n",
              "      display: none;\n",
              "      fill: #1967D2;\n",
              "      height: 32px;\n",
              "      padding: 0 0 0 0;\n",
              "      width: 32px;\n",
              "    }\n",
              "\n",
              "    .colab-df-convert:hover {\n",
              "      background-color: #E2EBFA;\n",
              "      box-shadow: 0px 1px 2px rgba(60, 64, 67, 0.3), 0px 1px 3px 1px rgba(60, 64, 67, 0.15);\n",
              "      fill: #174EA6;\n",
              "    }\n",
              "\n",
              "    [theme=dark] .colab-df-convert {\n",
              "      background-color: #3B4455;\n",
              "      fill: #D2E3FC;\n",
              "    }\n",
              "\n",
              "    [theme=dark] .colab-df-convert:hover {\n",
              "      background-color: #434B5C;\n",
              "      box-shadow: 0px 1px 3px 1px rgba(0, 0, 0, 0.15);\n",
              "      filter: drop-shadow(0px 1px 2px rgba(0, 0, 0, 0.3));\n",
              "      fill: #FFFFFF;\n",
              "    }\n",
              "  </style>\n",
              "\n",
              "      <script>\n",
              "        const buttonEl =\n",
              "          document.querySelector('#df-9a5d5ea2-2f38-4dd2-95ea-b84c16399444 button.colab-df-convert');\n",
              "        buttonEl.style.display =\n",
              "          google.colab.kernel.accessAllowed ? 'block' : 'none';\n",
              "\n",
              "        async function convertToInteractive(key) {\n",
              "          const element = document.querySelector('#df-9a5d5ea2-2f38-4dd2-95ea-b84c16399444');\n",
              "          const dataTable =\n",
              "            await google.colab.kernel.invokeFunction('convertToInteractive',\n",
              "                                                     [key], {});\n",
              "          if (!dataTable) return;\n",
              "\n",
              "          const docLinkHtml = 'Like what you see? Visit the ' +\n",
              "            '<a target=\"_blank\" href=https://colab.research.google.com/notebooks/data_table.ipynb>data table notebook</a>'\n",
              "            + ' to learn more about interactive tables.';\n",
              "          element.innerHTML = '';\n",
              "          dataTable['output_type'] = 'display_data';\n",
              "          await google.colab.output.renderOutput(dataTable, element);\n",
              "          const docLink = document.createElement('div');\n",
              "          docLink.innerHTML = docLinkHtml;\n",
              "          element.appendChild(docLink);\n",
              "        }\n",
              "      </script>\n",
              "    </div>\n",
              "  </div>\n",
              "  "
            ]
          },
          "metadata": {},
          "execution_count": 427
        }
      ]
    },
    {
      "cell_type": "code",
      "source": [
        "df2"
      ],
      "metadata": {
        "colab": {
          "base_uri": "https://localhost:8080/",
          "height": 424
        },
        "id": "25Ami-ouEluo",
        "outputId": "549cf504-10d7-47ee-d2b9-0b9586b30f59"
      },
      "id": "25Ami-ouEluo",
      "execution_count": null,
      "outputs": [
        {
          "output_type": "execute_result",
          "data": {
            "text/plain": [
              "    unique_id      sales\n",
              "0    11-20949  10.561873\n",
              "1     11-4181  10.561873\n",
              "2    12-11365  10.561873\n",
              "3    12-11369  10.561873\n",
              "4    12-11370  10.561873\n",
              "..        ...        ...\n",
              "294    6-5823  10.561873\n",
              "295    6-7856  10.561873\n",
              "296   7-17717  10.561873\n",
              "297   7-20949  10.561873\n",
              "298    7-5822  10.561873\n",
              "\n",
              "[299 rows x 2 columns]"
            ],
            "text/html": [
              "\n",
              "  <div id=\"df-599fbc89-623e-4068-acb1-8c3fe20c72a6\">\n",
              "    <div class=\"colab-df-container\">\n",
              "      <div>\n",
              "<style scoped>\n",
              "    .dataframe tbody tr th:only-of-type {\n",
              "        vertical-align: middle;\n",
              "    }\n",
              "\n",
              "    .dataframe tbody tr th {\n",
              "        vertical-align: top;\n",
              "    }\n",
              "\n",
              "    .dataframe thead th {\n",
              "        text-align: right;\n",
              "    }\n",
              "</style>\n",
              "<table border=\"1\" class=\"dataframe\">\n",
              "  <thead>\n",
              "    <tr style=\"text-align: right;\">\n",
              "      <th></th>\n",
              "      <th>unique_id</th>\n",
              "      <th>sales</th>\n",
              "    </tr>\n",
              "  </thead>\n",
              "  <tbody>\n",
              "    <tr>\n",
              "      <th>0</th>\n",
              "      <td>11-20949</td>\n",
              "      <td>10.561873</td>\n",
              "    </tr>\n",
              "    <tr>\n",
              "      <th>1</th>\n",
              "      <td>11-4181</td>\n",
              "      <td>10.561873</td>\n",
              "    </tr>\n",
              "    <tr>\n",
              "      <th>2</th>\n",
              "      <td>12-11365</td>\n",
              "      <td>10.561873</td>\n",
              "    </tr>\n",
              "    <tr>\n",
              "      <th>3</th>\n",
              "      <td>12-11369</td>\n",
              "      <td>10.561873</td>\n",
              "    </tr>\n",
              "    <tr>\n",
              "      <th>4</th>\n",
              "      <td>12-11370</td>\n",
              "      <td>10.561873</td>\n",
              "    </tr>\n",
              "    <tr>\n",
              "      <th>...</th>\n",
              "      <td>...</td>\n",
              "      <td>...</td>\n",
              "    </tr>\n",
              "    <tr>\n",
              "      <th>294</th>\n",
              "      <td>6-5823</td>\n",
              "      <td>10.561873</td>\n",
              "    </tr>\n",
              "    <tr>\n",
              "      <th>295</th>\n",
              "      <td>6-7856</td>\n",
              "      <td>10.561873</td>\n",
              "    </tr>\n",
              "    <tr>\n",
              "      <th>296</th>\n",
              "      <td>7-17717</td>\n",
              "      <td>10.561873</td>\n",
              "    </tr>\n",
              "    <tr>\n",
              "      <th>297</th>\n",
              "      <td>7-20949</td>\n",
              "      <td>10.561873</td>\n",
              "    </tr>\n",
              "    <tr>\n",
              "      <th>298</th>\n",
              "      <td>7-5822</td>\n",
              "      <td>10.561873</td>\n",
              "    </tr>\n",
              "  </tbody>\n",
              "</table>\n",
              "<p>299 rows × 2 columns</p>\n",
              "</div>\n",
              "      <button class=\"colab-df-convert\" onclick=\"convertToInteractive('df-599fbc89-623e-4068-acb1-8c3fe20c72a6')\"\n",
              "              title=\"Convert this dataframe to an interactive table.\"\n",
              "              style=\"display:none;\">\n",
              "        \n",
              "  <svg xmlns=\"http://www.w3.org/2000/svg\" height=\"24px\"viewBox=\"0 0 24 24\"\n",
              "       width=\"24px\">\n",
              "    <path d=\"M0 0h24v24H0V0z\" fill=\"none\"/>\n",
              "    <path d=\"M18.56 5.44l.94 2.06.94-2.06 2.06-.94-2.06-.94-.94-2.06-.94 2.06-2.06.94zm-11 1L8.5 8.5l.94-2.06 2.06-.94-2.06-.94L8.5 2.5l-.94 2.06-2.06.94zm10 10l.94 2.06.94-2.06 2.06-.94-2.06-.94-.94-2.06-.94 2.06-2.06.94z\"/><path d=\"M17.41 7.96l-1.37-1.37c-.4-.4-.92-.59-1.43-.59-.52 0-1.04.2-1.43.59L10.3 9.45l-7.72 7.72c-.78.78-.78 2.05 0 2.83L4 21.41c.39.39.9.59 1.41.59.51 0 1.02-.2 1.41-.59l7.78-7.78 2.81-2.81c.8-.78.8-2.07 0-2.86zM5.41 20L4 18.59l7.72-7.72 1.47 1.35L5.41 20z\"/>\n",
              "  </svg>\n",
              "      </button>\n",
              "      \n",
              "  <style>\n",
              "    .colab-df-container {\n",
              "      display:flex;\n",
              "      flex-wrap:wrap;\n",
              "      gap: 12px;\n",
              "    }\n",
              "\n",
              "    .colab-df-convert {\n",
              "      background-color: #E8F0FE;\n",
              "      border: none;\n",
              "      border-radius: 50%;\n",
              "      cursor: pointer;\n",
              "      display: none;\n",
              "      fill: #1967D2;\n",
              "      height: 32px;\n",
              "      padding: 0 0 0 0;\n",
              "      width: 32px;\n",
              "    }\n",
              "\n",
              "    .colab-df-convert:hover {\n",
              "      background-color: #E2EBFA;\n",
              "      box-shadow: 0px 1px 2px rgba(60, 64, 67, 0.3), 0px 1px 3px 1px rgba(60, 64, 67, 0.15);\n",
              "      fill: #174EA6;\n",
              "    }\n",
              "\n",
              "    [theme=dark] .colab-df-convert {\n",
              "      background-color: #3B4455;\n",
              "      fill: #D2E3FC;\n",
              "    }\n",
              "\n",
              "    [theme=dark] .colab-df-convert:hover {\n",
              "      background-color: #434B5C;\n",
              "      box-shadow: 0px 1px 3px 1px rgba(0, 0, 0, 0.15);\n",
              "      filter: drop-shadow(0px 1px 2px rgba(0, 0, 0, 0.3));\n",
              "      fill: #FFFFFF;\n",
              "    }\n",
              "  </style>\n",
              "\n",
              "      <script>\n",
              "        const buttonEl =\n",
              "          document.querySelector('#df-599fbc89-623e-4068-acb1-8c3fe20c72a6 button.colab-df-convert');\n",
              "        buttonEl.style.display =\n",
              "          google.colab.kernel.accessAllowed ? 'block' : 'none';\n",
              "\n",
              "        async function convertToInteractive(key) {\n",
              "          const element = document.querySelector('#df-599fbc89-623e-4068-acb1-8c3fe20c72a6');\n",
              "          const dataTable =\n",
              "            await google.colab.kernel.invokeFunction('convertToInteractive',\n",
              "                                                     [key], {});\n",
              "          if (!dataTable) return;\n",
              "\n",
              "          const docLinkHtml = 'Like what you see? Visit the ' +\n",
              "            '<a target=\"_blank\" href=https://colab.research.google.com/notebooks/data_table.ipynb>data table notebook</a>'\n",
              "            + ' to learn more about interactive tables.';\n",
              "          element.innerHTML = '';\n",
              "          dataTable['output_type'] = 'display_data';\n",
              "          await google.colab.output.renderOutput(dataTable, element);\n",
              "          const docLink = document.createElement('div');\n",
              "          docLink.innerHTML = docLinkHtml;\n",
              "          element.appendChild(docLink);\n",
              "        }\n",
              "      </script>\n",
              "    </div>\n",
              "  </div>\n",
              "  "
            ]
          },
          "metadata": {},
          "execution_count": 428
        }
      ]
    },
    {
      "cell_type": "markdown",
      "id": "288b40d4",
      "metadata": {
        "papermill": {
          "duration": 0.013795,
          "end_time": "2022-07-20T19:18:50.208069",
          "exception": false,
          "start_time": "2022-07-20T19:18:50.194274",
          "status": "completed"
        },
        "tags": [],
        "id": "288b40d4"
      },
      "source": [
        "# City - city_id"
      ]
    },
    {
      "cell_type": "code",
      "execution_count": null,
      "id": "172b7c9b",
      "metadata": {
        "execution": {
          "iopub.execute_input": "2022-07-20T19:18:50.237756Z",
          "iopub.status.busy": "2022-07-20T19:18:50.237345Z",
          "iopub.status.idle": "2022-07-20T19:18:51.304667Z",
          "shell.execute_reply": "2022-07-20T19:18:51.303541Z"
        },
        "papermill": {
          "duration": 1.085097,
          "end_time": "2022-07-20T19:18:51.307177",
          "exception": false,
          "start_time": "2022-07-20T19:18:50.222080",
          "status": "completed"
        },
        "tags": [],
        "id": "172b7c9b"
      },
      "outputs": [],
      "source": [
        "from sklearn.preprocessing import LabelEncoder"
      ]
    },
    {
      "cell_type": "code",
      "execution_count": null,
      "id": "94adcdfd",
      "metadata": {
        "execution": {
          "iopub.execute_input": "2022-07-20T19:18:51.337566Z",
          "iopub.status.busy": "2022-07-20T19:18:51.336854Z",
          "iopub.status.idle": "2022-07-20T19:18:51.341427Z",
          "shell.execute_reply": "2022-07-20T19:18:51.340374Z"
        },
        "papermill": {
          "duration": 0.021847,
          "end_time": "2022-07-20T19:18:51.343365",
          "exception": false,
          "start_time": "2022-07-20T19:18:51.321518",
          "status": "completed"
        },
        "tags": [],
        "id": "94adcdfd"
      },
      "outputs": [],
      "source": [
        "encoder = LabelEncoder()"
      ]
    },
    {
      "cell_type": "code",
      "execution_count": null,
      "id": "19c9c0d3",
      "metadata": {
        "execution": {
          "iopub.execute_input": "2022-07-20T19:18:51.373630Z",
          "iopub.status.busy": "2022-07-20T19:18:51.373003Z",
          "iopub.status.idle": "2022-07-20T19:18:51.396242Z",
          "shell.execute_reply": "2022-07-20T19:18:51.395265Z"
        },
        "papermill": {
          "duration": 0.040858,
          "end_time": "2022-07-20T19:18:51.398537",
          "exception": false,
          "start_time": "2022-07-20T19:18:51.357679",
          "status": "completed"
        },
        "tags": [],
        "id": "19c9c0d3"
      },
      "outputs": [],
      "source": [
        "df[\"city_id\"] = encoder.fit_transform(df[\"city\"])"
      ]
    },
    {
      "cell_type": "code",
      "execution_count": null,
      "id": "1bee2170",
      "metadata": {
        "execution": {
          "iopub.execute_input": "2022-07-20T19:18:51.429323Z",
          "iopub.status.busy": "2022-07-20T19:18:51.428624Z",
          "iopub.status.idle": "2022-07-20T19:18:51.443422Z",
          "shell.execute_reply": "2022-07-20T19:18:51.442585Z"
        },
        "papermill": {
          "duration": 0.032411,
          "end_time": "2022-07-20T19:18:51.445372",
          "exception": false,
          "start_time": "2022-07-20T19:18:51.412961",
          "status": "completed"
        },
        "tags": [],
        "colab": {
          "base_uri": "https://localhost:8080/"
        },
        "id": "1bee2170",
        "outputId": "b698f0dc-d2b0-4b0c-bfbf-e25b21da89e0"
      },
      "outputs": [
        {
          "output_type": "execute_result",
          "data": {
            "text/plain": [
              "7     36562\n",
              "23     8561\n",
              "16     7004\n",
              "22     3634\n",
              "14     2856\n",
              "2      2497\n",
              "19     2451\n",
              "11     2210\n",
              "18     2049\n",
              "6      1819\n",
              "4      1692\n",
              "15     1644\n",
              "13     1564\n",
              "5      1551\n",
              "21     1432\n",
              "24     1325\n",
              "8      1260\n",
              "3      1119\n",
              "1      1072\n",
              "10     1003\n",
              "12      954\n",
              "9       910\n",
              "20      877\n",
              "25      746\n",
              "0       615\n",
              "17      556\n",
              "Name: city_id, dtype: int64"
            ]
          },
          "metadata": {},
          "execution_count": 432
        }
      ],
      "source": [
        "df['city_id'].value_counts()"
      ]
    },
    {
      "cell_type": "markdown",
      "id": "ed876533",
      "metadata": {
        "papermill": {
          "duration": 0.014167,
          "end_time": "2022-07-20T19:18:51.474129",
          "exception": false,
          "start_time": "2022-07-20T19:18:51.459962",
          "status": "completed"
        },
        "tags": [],
        "id": "ed876533"
      },
      "source": [
        "# Montar el df completo"
      ]
    },
    {
      "cell_type": "code",
      "execution_count": null,
      "id": "f67e2e8b",
      "metadata": {
        "execution": {
          "iopub.execute_input": "2022-07-20T19:18:51.504753Z",
          "iopub.status.busy": "2022-07-20T19:18:51.504165Z",
          "iopub.status.idle": "2022-07-20T19:18:51.507883Z",
          "shell.execute_reply": "2022-07-20T19:18:51.506968Z"
        },
        "papermill": {
          "duration": 0.02143,
          "end_time": "2022-07-20T19:18:51.509903",
          "exception": false,
          "start_time": "2022-07-20T19:18:51.488473",
          "status": "completed"
        },
        "tags": [],
        "id": "f67e2e8b"
      },
      "outputs": [],
      "source": [
        "import datetime"
      ]
    },
    {
      "cell_type": "code",
      "execution_count": null,
      "id": "8abe49f4",
      "metadata": {
        "execution": {
          "iopub.execute_input": "2022-07-20T19:18:51.540646Z",
          "iopub.status.busy": "2022-07-20T19:18:51.540232Z",
          "iopub.status.idle": "2022-07-20T19:18:51.545266Z",
          "shell.execute_reply": "2022-07-20T19:18:51.543985Z"
        },
        "papermill": {
          "duration": 0.023009,
          "end_time": "2022-07-20T19:18:51.547349",
          "exception": false,
          "start_time": "2022-07-20T19:18:51.524340",
          "status": "completed"
        },
        "tags": [],
        "id": "8abe49f4"
      },
      "outputs": [],
      "source": [
        "start_date = datetime.datetime(2013, 1, 1)\n",
        "end_date = datetime.datetime(2015, 10, 31)"
      ]
    },
    {
      "cell_type": "code",
      "execution_count": null,
      "id": "e4b16f8d",
      "metadata": {
        "execution": {
          "iopub.execute_input": "2022-07-20T19:18:51.578950Z",
          "iopub.status.busy": "2022-07-20T19:18:51.578565Z",
          "iopub.status.idle": "2022-07-20T19:18:51.591101Z",
          "shell.execute_reply": "2022-07-20T19:18:51.589945Z"
        },
        "papermill": {
          "duration": 0.030663,
          "end_time": "2022-07-20T19:18:51.593117",
          "exception": false,
          "start_time": "2022-07-20T19:18:51.562454",
          "status": "completed"
        },
        "tags": [],
        "colab": {
          "base_uri": "https://localhost:8080/"
        },
        "id": "e4b16f8d",
        "outputId": "9d7d3bbc-cd46-412e-983a-eb6d2d1530c3"
      },
      "outputs": [
        {
          "output_type": "execute_result",
          "data": {
            "text/plain": [
              "DatetimeIndex(['2013-01-31', '2013-02-28', '2013-03-31', '2013-04-30',\n",
              "               '2013-05-31', '2013-06-30', '2013-07-31', '2013-08-31',\n",
              "               '2013-09-30', '2013-10-31', '2013-11-30', '2013-12-31',\n",
              "               '2014-01-31', '2014-02-28', '2014-03-31', '2014-04-30',\n",
              "               '2014-05-31', '2014-06-30', '2014-07-31', '2014-08-31',\n",
              "               '2014-09-30', '2014-10-31', '2014-11-30', '2014-12-31',\n",
              "               '2015-01-31', '2015-02-28', '2015-03-31', '2015-04-30',\n",
              "               '2015-05-31', '2015-06-30', '2015-07-31', '2015-08-31',\n",
              "               '2015-09-30', '2015-10-31'],\n",
              "              dtype='datetime64[ns]', freq='M')"
            ]
          },
          "metadata": {},
          "execution_count": 435
        }
      ],
      "source": [
        "date_range = pd.date_range(start = start_date, end = end_date, freq = \"M\")\n",
        "date_range"
      ]
    },
    {
      "cell_type": "code",
      "execution_count": null,
      "id": "50cbb14e",
      "metadata": {
        "execution": {
          "iopub.execute_input": "2022-07-20T19:18:51.624863Z",
          "iopub.status.busy": "2022-07-20T19:18:51.624046Z",
          "iopub.status.idle": "2022-07-20T19:18:51.636473Z",
          "shell.execute_reply": "2022-07-20T19:18:51.635666Z"
        },
        "papermill": {
          "duration": 0.030668,
          "end_time": "2022-07-20T19:18:51.638643",
          "exception": false,
          "start_time": "2022-07-20T19:18:51.607975",
          "status": "completed"
        },
        "tags": [],
        "id": "50cbb14e",
        "outputId": "f3e6e2fc-b310-488a-9996-f29d2b16ae7d",
        "colab": {
          "base_uri": "https://localhost:8080/"
        }
      },
      "outputs": [
        {
          "output_type": "execute_result",
          "data": {
            "text/plain": [
              "array(['25-2574', '25-2808', '25-2308', '25-5821', '25-5822', '25-5823',\n",
              "       '25-3851', '24-7856', '24-5822', '24-3007', '24-2308', '24-2808',\n",
              "       '25-14931', '25-13881', '25-17717', '25-16184', '25-16227',\n",
              "       '25-16071', '25-7856', '25-7893', '25-7894', '22-464', '19-17717',\n",
              "       '22-839', '22-482', '19-2808', '19-2308', '19-5822', '22-13370',\n",
              "       '22-17717', '21-17717', '28-7893', '28-7894', '28-7856', '28-4244',\n",
              "       '28-2808', '28-2308', '28-16227', '28-13881', '28-17717',\n",
              "       '26-7856', '26-17717', '26-5822', '4-7856', '4-17717', '6-17717',\n",
              "       '6-7856', '6-5822', '6-5823', '6-5821', '57-12134', '57-7894',\n",
              "       '57-7893', '57-3077', '57-2808', '57-2308', '57-1905', '57-6185',\n",
              "       '57-7856', '57-4244', '57-4248', '57-5822', '58-12134', '58-7893',\n",
              "       '58-7894', '58-4248', '58-3077', '15-17717', '16-7856', '16-5822',\n",
              "       '15-5822', '15-2308', '15-2808', '18-7856', '18-5822', '18-17717',\n",
              "       '16-17717', '7-5822', '7-17717', '14-5822', '14-17717', '12-11365',\n",
              "       '12-11369', '12-11373', '12-11370', '12-482', '31-5272', '31-5643',\n",
              "       '31-5823', '31-5822', '31-5821', '31-5820', '31-2308', '31-2252',\n",
              "       '31-3719', '31-3851', '31-6740', '31-7856', '31-7893', '31-7894',\n",
              "       '31-32', '31-1905', '31-13881', '31-12134', '31-17717', '31-16227',\n",
              "       '31-15256', '31-15438', '59-5822', '53-17717', '47-2308',\n",
              "       '47-5822', '50-5822', '50-7893', '50-4244', '42-17717', '52-5822',\n",
              "       '53-2308', '53-2808', '38-17717', '35-17717', '37-2808', '38-2808',\n",
              "       '46-7856', '46-7894', '42-5822', '42-5821', '42-5823', '42-7856',\n",
              "       '42-7894', '42-2808', '45-2808', '44-22088', '44-22087', '46-5822',\n",
              "       '46-2308', '56-5822', '59-17717', '24-17717', '24-2445', '24-5380',\n",
              "       '25-2445', '21-5822', '3-17717', '58-4244', '57-5380', '31-2445',\n",
              "       '31-2753', '31-11921', '25-11921', '28-5822', '28-5823', '28-5821',\n",
              "       '28-2445', '46-17717', '31-6738', '31-6457', '31-21427',\n",
              "       '31-21440', '28-6457', '25-6738', '25-6457', '57-21427', '5-17717',\n",
              "       '25-16169', '22-20949', '28-16169', '28-20949', '25-20949',\n",
              "       '26-20949', '7-20949', '11-20949', '3-20949', '6-20949',\n",
              "       '18-20949', '19-20949', '16-20949', '53-20949', '42-20949',\n",
              "       '59-20949', '56-20949', '31-16169', '31-15063', '31-11496',\n",
              "       '31-20949', '41-20949', '21-20949', '24-20949', '38-20949',\n",
              "       '37-20949', '44-20949', '45-20949', '46-20949', '31-6497',\n",
              "       '35-20949', '50-20949', '52-20949', '58-6497', '57-20949',\n",
              "       '55-15077', '55-3715', '55-11272', '55-6429', '55-798', '55-492',\n",
              "       '14-20949', '15-20949', '47-20949', '4-20949', '5-20949',\n",
              "       '28-6497', '28-16787', '31-16787', '25-6497', '58-20949',\n",
              "       '50-16787', '28-4870', '31-21377', '31-4870', '25-4870', '58-4870',\n",
              "       '57-4870', '50-4870', '47-4870', '58-4178', '59-4181', '46-4181',\n",
              "       '57-4181', '57-4178', '31-4181', '31-4178', '31-10292', '24-4178',\n",
              "       '24-4181', '22-4181', '22-4178', '19-4181', '6-4181', '15-4181',\n",
              "       '15-4178', '16-4181', '11-4181', '53-3734', '47-3732', '22-22167',\n",
              "       '18-3732', '25-3732', '25-3734', '4-4181', '15-3732', '31-14019',\n",
              "       '31-3732', '31-3734', '31-3331', '31-10659', '28-3732', '28-3734',\n",
              "       '28-3329', '57-3734', '58-3734', '55-803', '31-10298', '55-22166',\n",
              "       '25-1855', '57-10298', '31-5672', '31-2269', '25-5672', '58-14227',\n",
              "       '57-14227', '42-5672', '28-20608', '22-806', '49-20949', '55-805',\n",
              "       '55-4878', '55-21486', '25-16287', '31-3928', '39-20949',\n",
              "       '55-13342', '57-21404', '48-20949', '28-21404', '31-21404',\n",
              "       '28-4872', '47-17717', '48-17717', '34-20949', '31-16790',\n",
              "       '55-7967', '55-7966', '31-6503', '31-9355', '28-6503', '22-486',\n",
              "       '55-13097', '55-13099', '55-13098'], dtype=object)"
            ]
          },
          "metadata": {},
          "execution_count": 436
        }
      ],
      "source": [
        "unique_id = df[\"unique_id\"].unique()\n",
        "unique_id"
      ]
    },
    {
      "cell_type": "code",
      "execution_count": null,
      "id": "732afde6",
      "metadata": {
        "execution": {
          "iopub.execute_input": "2022-07-20T19:18:51.671262Z",
          "iopub.status.busy": "2022-07-20T19:18:51.670278Z",
          "iopub.status.idle": "2022-07-20T19:18:51.689297Z",
          "shell.execute_reply": "2022-07-20T19:18:51.688188Z"
        },
        "papermill": {
          "duration": 0.037809,
          "end_time": "2022-07-20T19:18:51.691622",
          "exception": false,
          "start_time": "2022-07-20T19:18:51.653813",
          "status": "completed"
        },
        "tags": [],
        "id": "732afde6",
        "outputId": "306ee750-23b1-4648-dc3c-48880f352893",
        "colab": {
          "base_uri": "https://localhost:8080/",
          "height": 206
        }
      },
      "outputs": [
        {
          "output_type": "execute_result",
          "data": {
            "text/plain": [
              "        date unique_id\n",
              "0 2013-01-31   25-2574\n",
              "1 2013-01-31   25-2808\n",
              "2 2013-01-31   25-2308\n",
              "3 2013-01-31   25-5821\n",
              "4 2013-01-31   25-5822"
            ],
            "text/html": [
              "\n",
              "  <div id=\"df-dbe6e398-3598-4b11-8e19-2b9b95b23442\">\n",
              "    <div class=\"colab-df-container\">\n",
              "      <div>\n",
              "<style scoped>\n",
              "    .dataframe tbody tr th:only-of-type {\n",
              "        vertical-align: middle;\n",
              "    }\n",
              "\n",
              "    .dataframe tbody tr th {\n",
              "        vertical-align: top;\n",
              "    }\n",
              "\n",
              "    .dataframe thead th {\n",
              "        text-align: right;\n",
              "    }\n",
              "</style>\n",
              "<table border=\"1\" class=\"dataframe\">\n",
              "  <thead>\n",
              "    <tr style=\"text-align: right;\">\n",
              "      <th></th>\n",
              "      <th>date</th>\n",
              "      <th>unique_id</th>\n",
              "    </tr>\n",
              "  </thead>\n",
              "  <tbody>\n",
              "    <tr>\n",
              "      <th>0</th>\n",
              "      <td>2013-01-31</td>\n",
              "      <td>25-2574</td>\n",
              "    </tr>\n",
              "    <tr>\n",
              "      <th>1</th>\n",
              "      <td>2013-01-31</td>\n",
              "      <td>25-2808</td>\n",
              "    </tr>\n",
              "    <tr>\n",
              "      <th>2</th>\n",
              "      <td>2013-01-31</td>\n",
              "      <td>25-2308</td>\n",
              "    </tr>\n",
              "    <tr>\n",
              "      <th>3</th>\n",
              "      <td>2013-01-31</td>\n",
              "      <td>25-5821</td>\n",
              "    </tr>\n",
              "    <tr>\n",
              "      <th>4</th>\n",
              "      <td>2013-01-31</td>\n",
              "      <td>25-5822</td>\n",
              "    </tr>\n",
              "  </tbody>\n",
              "</table>\n",
              "</div>\n",
              "      <button class=\"colab-df-convert\" onclick=\"convertToInteractive('df-dbe6e398-3598-4b11-8e19-2b9b95b23442')\"\n",
              "              title=\"Convert this dataframe to an interactive table.\"\n",
              "              style=\"display:none;\">\n",
              "        \n",
              "  <svg xmlns=\"http://www.w3.org/2000/svg\" height=\"24px\"viewBox=\"0 0 24 24\"\n",
              "       width=\"24px\">\n",
              "    <path d=\"M0 0h24v24H0V0z\" fill=\"none\"/>\n",
              "    <path d=\"M18.56 5.44l.94 2.06.94-2.06 2.06-.94-2.06-.94-.94-2.06-.94 2.06-2.06.94zm-11 1L8.5 8.5l.94-2.06 2.06-.94-2.06-.94L8.5 2.5l-.94 2.06-2.06.94zm10 10l.94 2.06.94-2.06 2.06-.94-2.06-.94-.94-2.06-.94 2.06-2.06.94z\"/><path d=\"M17.41 7.96l-1.37-1.37c-.4-.4-.92-.59-1.43-.59-.52 0-1.04.2-1.43.59L10.3 9.45l-7.72 7.72c-.78.78-.78 2.05 0 2.83L4 21.41c.39.39.9.59 1.41.59.51 0 1.02-.2 1.41-.59l7.78-7.78 2.81-2.81c.8-.78.8-2.07 0-2.86zM5.41 20L4 18.59l7.72-7.72 1.47 1.35L5.41 20z\"/>\n",
              "  </svg>\n",
              "      </button>\n",
              "      \n",
              "  <style>\n",
              "    .colab-df-container {\n",
              "      display:flex;\n",
              "      flex-wrap:wrap;\n",
              "      gap: 12px;\n",
              "    }\n",
              "\n",
              "    .colab-df-convert {\n",
              "      background-color: #E8F0FE;\n",
              "      border: none;\n",
              "      border-radius: 50%;\n",
              "      cursor: pointer;\n",
              "      display: none;\n",
              "      fill: #1967D2;\n",
              "      height: 32px;\n",
              "      padding: 0 0 0 0;\n",
              "      width: 32px;\n",
              "    }\n",
              "\n",
              "    .colab-df-convert:hover {\n",
              "      background-color: #E2EBFA;\n",
              "      box-shadow: 0px 1px 2px rgba(60, 64, 67, 0.3), 0px 1px 3px 1px rgba(60, 64, 67, 0.15);\n",
              "      fill: #174EA6;\n",
              "    }\n",
              "\n",
              "    [theme=dark] .colab-df-convert {\n",
              "      background-color: #3B4455;\n",
              "      fill: #D2E3FC;\n",
              "    }\n",
              "\n",
              "    [theme=dark] .colab-df-convert:hover {\n",
              "      background-color: #434B5C;\n",
              "      box-shadow: 0px 1px 3px 1px rgba(0, 0, 0, 0.15);\n",
              "      filter: drop-shadow(0px 1px 2px rgba(0, 0, 0, 0.3));\n",
              "      fill: #FFFFFF;\n",
              "    }\n",
              "  </style>\n",
              "\n",
              "      <script>\n",
              "        const buttonEl =\n",
              "          document.querySelector('#df-dbe6e398-3598-4b11-8e19-2b9b95b23442 button.colab-df-convert');\n",
              "        buttonEl.style.display =\n",
              "          google.colab.kernel.accessAllowed ? 'block' : 'none';\n",
              "\n",
              "        async function convertToInteractive(key) {\n",
              "          const element = document.querySelector('#df-dbe6e398-3598-4b11-8e19-2b9b95b23442');\n",
              "          const dataTable =\n",
              "            await google.colab.kernel.invokeFunction('convertToInteractive',\n",
              "                                                     [key], {});\n",
              "          if (!dataTable) return;\n",
              "\n",
              "          const docLinkHtml = 'Like what you see? Visit the ' +\n",
              "            '<a target=\"_blank\" href=https://colab.research.google.com/notebooks/data_table.ipynb>data table notebook</a>'\n",
              "            + ' to learn more about interactive tables.';\n",
              "          element.innerHTML = '';\n",
              "          dataTable['output_type'] = 'display_data';\n",
              "          await google.colab.output.renderOutput(dataTable, element);\n",
              "          const docLink = document.createElement('div');\n",
              "          docLink.innerHTML = docLinkHtml;\n",
              "          element.appendChild(docLink);\n",
              "        }\n",
              "      </script>\n",
              "    </div>\n",
              "  </div>\n",
              "  "
            ]
          },
          "metadata": {},
          "execution_count": 437
        }
      ],
      "source": [
        "multiindex = pd.MultiIndex.from_product([date_range, unique_id])\n",
        "full_df = pd.DataFrame(index = multiindex).reset_index()\n",
        "full_df.columns = [\"date\", \"unique_id\"]\n",
        "full_df.head()"
      ]
    },
    {
      "cell_type": "code",
      "execution_count": null,
      "id": "7f40fe99",
      "metadata": {
        "execution": {
          "iopub.execute_input": "2022-07-20T19:18:51.724533Z",
          "iopub.status.busy": "2022-07-20T19:18:51.724091Z",
          "iopub.status.idle": "2022-07-20T19:18:51.736309Z",
          "shell.execute_reply": "2022-07-20T19:18:51.735414Z"
        },
        "papermill": {
          "duration": 0.031313,
          "end_time": "2022-07-20T19:18:51.738467",
          "exception": false,
          "start_time": "2022-07-20T19:18:51.707154",
          "status": "completed"
        },
        "tags": [],
        "id": "7f40fe99",
        "outputId": "2e143b92-cdd8-4ea3-ef63-78101638dc22",
        "colab": {
          "base_uri": "https://localhost:8080/"
        }
      },
      "outputs": [
        {
          "output_type": "execute_result",
          "data": {
            "text/plain": [
              "unique_id\n",
              "11-20949    34\n",
              "11-4181     34\n",
              "12-11365    34\n",
              "12-11369    34\n",
              "12-11370    34\n",
              "            ..\n",
              "6-5823      34\n",
              "6-7856      34\n",
              "7-17717     34\n",
              "7-20949     34\n",
              "7-5822      34\n",
              "Length: 299, dtype: int64"
            ]
          },
          "metadata": {},
          "execution_count": 438
        }
      ],
      "source": [
        "full_df.groupby([\"unique_id\"]).size()"
      ]
    },
    {
      "cell_type": "code",
      "execution_count": null,
      "id": "d3000239",
      "metadata": {
        "execution": {
          "iopub.execute_input": "2022-07-20T19:18:51.771299Z",
          "iopub.status.busy": "2022-07-20T19:18:51.770470Z",
          "iopub.status.idle": "2022-07-20T19:18:51.777371Z",
          "shell.execute_reply": "2022-07-20T19:18:51.776530Z"
        },
        "papermill": {
          "duration": 0.025952,
          "end_time": "2022-07-20T19:18:51.779653",
          "exception": false,
          "start_time": "2022-07-20T19:18:51.753701",
          "status": "completed"
        },
        "tags": [],
        "id": "d3000239",
        "outputId": "a94e4928-582d-4852-fd97-b86633fe2800",
        "colab": {
          "base_uri": "https://localhost:8080/"
        }
      },
      "outputs": [
        {
          "output_type": "execute_result",
          "data": {
            "text/plain": [
              "(10166, 2)"
            ]
          },
          "metadata": {},
          "execution_count": 439
        }
      ],
      "source": [
        "full_df.shape"
      ]
    },
    {
      "cell_type": "code",
      "source": [
        "df"
      ],
      "metadata": {
        "colab": {
          "base_uri": "https://localhost:8080/",
          "height": 641
        },
        "id": "w_8TC285sHY7",
        "outputId": "c4044d97-f5cb-439c-96a4-b4dec1666580"
      },
      "id": "w_8TC285sHY7",
      "execution_count": null,
      "outputs": [
        {
          "output_type": "execute_result",
          "data": {
            "text/plain": [
              "             date   city  shop_id           shop_name  item_category_id  \\\n",
              "0      2013-01-03  Moscú       25  Moscú SEC \"Atrium\"                55   \n",
              "1      2013-01-05  Moscú       25  Moscú SEC \"Atrium\"                55   \n",
              "2      2013-01-07  Moscú       25  Moscú SEC \"Atrium\"                55   \n",
              "3      2013-01-08  Moscú       25  Moscú SEC \"Atrium\"                55   \n",
              "4      2013-01-10  Moscú       25  Moscú SEC \"Atrium\"                55   \n",
              "...           ...    ...      ...                 ...               ...   \n",
              "87958  2015-09-09  Moscú       25  Moscú SEC \"Atrium\"                71   \n",
              "87959  2015-09-10  Moscú       25  Moscú SEC \"Atrium\"                71   \n",
              "87960  2015-09-11  Moscú       25  Moscú SEC \"Atrium\"                71   \n",
              "87961  2015-09-13  Moscú       25  Moscú SEC \"Atrium\"                71   \n",
              "87962  2015-09-02  Moscú       25  Moscú SEC \"Atrium\"                71   \n",
              "\n",
              "                              item_category_name  item_id  \\\n",
              "0             Música - CD de la producción local     2574   \n",
              "1             Música - CD de la producción local     2574   \n",
              "2             Música - CD de la producción local     2574   \n",
              "3             Música - CD de la producción local     2574   \n",
              "4             Música - CD de la producción local     2574   \n",
              "...                                          ...      ...   \n",
              "87958  Regalos - Bolsas, álbumes, Mats d / ratón    20949   \n",
              "87959  Regalos - Bolsas, álbumes, Mats d / ratón    20949   \n",
              "87960  Regalos - Bolsas, álbumes, Mats d / ratón    20949   \n",
              "87961  Regalos - Bolsas, álbumes, Mats d / ratón    20949   \n",
              "87962  Regalos - Bolsas, álbumes, Mats d / ratón    20949   \n",
              "\n",
              "                                               item_name unique_id  \\\n",
              "0      Del Rey Lana Nació para morir la edición de Pa...   25-2574   \n",
              "1      Del Rey Lana Nació para morir la edición de Pa...   25-2574   \n",
              "2      Del Rey Lana Nació para morir la edición de Pa...   25-2574   \n",
              "3      Del Rey Lana Nació para morir la edición de Pa...   25-2574   \n",
              "4      Del Rey Lana Nació para morir la edición de Pa...   25-2574   \n",
              "...                                                  ...       ...   \n",
              "87958  Paquete corporativo Mike 1C Interés blanco (34...  25-20949   \n",
              "87959  Paquete corporativo Mike 1C Interés blanco (34...  25-20949   \n",
              "87960  Paquete corporativo Mike 1C Interés blanco (34...  25-20949   \n",
              "87961  Paquete corporativo Mike 1C Interés blanco (34...  25-20949   \n",
              "87962  Paquete corporativo Mike 1C Interés blanco (34...  25-20949   \n",
              "\n",
              "       item_price  item_cnt_day  city_id  \n",
              "0           399.0           2.0        7  \n",
              "1           399.0           1.0        7  \n",
              "2           399.0           1.0        7  \n",
              "3           399.0           2.0        7  \n",
              "4           399.0           1.0        7  \n",
              "...           ...           ...      ...  \n",
              "87958         5.0          17.0        7  \n",
              "87959         5.0          18.0        7  \n",
              "87960         5.0          21.0        7  \n",
              "87961         5.0          11.0        7  \n",
              "87962         5.0          13.0        7  \n",
              "\n",
              "[87963 rows x 12 columns]"
            ],
            "text/html": [
              "\n",
              "  <div id=\"df-40f09ef9-3e9e-4961-9fb9-a6d1d4114336\">\n",
              "    <div class=\"colab-df-container\">\n",
              "      <div>\n",
              "<style scoped>\n",
              "    .dataframe tbody tr th:only-of-type {\n",
              "        vertical-align: middle;\n",
              "    }\n",
              "\n",
              "    .dataframe tbody tr th {\n",
              "        vertical-align: top;\n",
              "    }\n",
              "\n",
              "    .dataframe thead th {\n",
              "        text-align: right;\n",
              "    }\n",
              "</style>\n",
              "<table border=\"1\" class=\"dataframe\">\n",
              "  <thead>\n",
              "    <tr style=\"text-align: right;\">\n",
              "      <th></th>\n",
              "      <th>date</th>\n",
              "      <th>city</th>\n",
              "      <th>shop_id</th>\n",
              "      <th>shop_name</th>\n",
              "      <th>item_category_id</th>\n",
              "      <th>item_category_name</th>\n",
              "      <th>item_id</th>\n",
              "      <th>item_name</th>\n",
              "      <th>unique_id</th>\n",
              "      <th>item_price</th>\n",
              "      <th>item_cnt_day</th>\n",
              "      <th>city_id</th>\n",
              "    </tr>\n",
              "  </thead>\n",
              "  <tbody>\n",
              "    <tr>\n",
              "      <th>0</th>\n",
              "      <td>2013-01-03</td>\n",
              "      <td>Moscú</td>\n",
              "      <td>25</td>\n",
              "      <td>Moscú SEC \"Atrium\"</td>\n",
              "      <td>55</td>\n",
              "      <td>Música - CD de la producción local</td>\n",
              "      <td>2574</td>\n",
              "      <td>Del Rey Lana Nació para morir la edición de Pa...</td>\n",
              "      <td>25-2574</td>\n",
              "      <td>399.0</td>\n",
              "      <td>2.0</td>\n",
              "      <td>7</td>\n",
              "    </tr>\n",
              "    <tr>\n",
              "      <th>1</th>\n",
              "      <td>2013-01-05</td>\n",
              "      <td>Moscú</td>\n",
              "      <td>25</td>\n",
              "      <td>Moscú SEC \"Atrium\"</td>\n",
              "      <td>55</td>\n",
              "      <td>Música - CD de la producción local</td>\n",
              "      <td>2574</td>\n",
              "      <td>Del Rey Lana Nació para morir la edición de Pa...</td>\n",
              "      <td>25-2574</td>\n",
              "      <td>399.0</td>\n",
              "      <td>1.0</td>\n",
              "      <td>7</td>\n",
              "    </tr>\n",
              "    <tr>\n",
              "      <th>2</th>\n",
              "      <td>2013-01-07</td>\n",
              "      <td>Moscú</td>\n",
              "      <td>25</td>\n",
              "      <td>Moscú SEC \"Atrium\"</td>\n",
              "      <td>55</td>\n",
              "      <td>Música - CD de la producción local</td>\n",
              "      <td>2574</td>\n",
              "      <td>Del Rey Lana Nació para morir la edición de Pa...</td>\n",
              "      <td>25-2574</td>\n",
              "      <td>399.0</td>\n",
              "      <td>1.0</td>\n",
              "      <td>7</td>\n",
              "    </tr>\n",
              "    <tr>\n",
              "      <th>3</th>\n",
              "      <td>2013-01-08</td>\n",
              "      <td>Moscú</td>\n",
              "      <td>25</td>\n",
              "      <td>Moscú SEC \"Atrium\"</td>\n",
              "      <td>55</td>\n",
              "      <td>Música - CD de la producción local</td>\n",
              "      <td>2574</td>\n",
              "      <td>Del Rey Lana Nació para morir la edición de Pa...</td>\n",
              "      <td>25-2574</td>\n",
              "      <td>399.0</td>\n",
              "      <td>2.0</td>\n",
              "      <td>7</td>\n",
              "    </tr>\n",
              "    <tr>\n",
              "      <th>4</th>\n",
              "      <td>2013-01-10</td>\n",
              "      <td>Moscú</td>\n",
              "      <td>25</td>\n",
              "      <td>Moscú SEC \"Atrium\"</td>\n",
              "      <td>55</td>\n",
              "      <td>Música - CD de la producción local</td>\n",
              "      <td>2574</td>\n",
              "      <td>Del Rey Lana Nació para morir la edición de Pa...</td>\n",
              "      <td>25-2574</td>\n",
              "      <td>399.0</td>\n",
              "      <td>1.0</td>\n",
              "      <td>7</td>\n",
              "    </tr>\n",
              "    <tr>\n",
              "      <th>...</th>\n",
              "      <td>...</td>\n",
              "      <td>...</td>\n",
              "      <td>...</td>\n",
              "      <td>...</td>\n",
              "      <td>...</td>\n",
              "      <td>...</td>\n",
              "      <td>...</td>\n",
              "      <td>...</td>\n",
              "      <td>...</td>\n",
              "      <td>...</td>\n",
              "      <td>...</td>\n",
              "      <td>...</td>\n",
              "    </tr>\n",
              "    <tr>\n",
              "      <th>87958</th>\n",
              "      <td>2015-09-09</td>\n",
              "      <td>Moscú</td>\n",
              "      <td>25</td>\n",
              "      <td>Moscú SEC \"Atrium\"</td>\n",
              "      <td>71</td>\n",
              "      <td>Regalos - Bolsas, álbumes, Mats d / ratón</td>\n",
              "      <td>20949</td>\n",
              "      <td>Paquete corporativo Mike 1C Interés blanco (34...</td>\n",
              "      <td>25-20949</td>\n",
              "      <td>5.0</td>\n",
              "      <td>17.0</td>\n",
              "      <td>7</td>\n",
              "    </tr>\n",
              "    <tr>\n",
              "      <th>87959</th>\n",
              "      <td>2015-09-10</td>\n",
              "      <td>Moscú</td>\n",
              "      <td>25</td>\n",
              "      <td>Moscú SEC \"Atrium\"</td>\n",
              "      <td>71</td>\n",
              "      <td>Regalos - Bolsas, álbumes, Mats d / ratón</td>\n",
              "      <td>20949</td>\n",
              "      <td>Paquete corporativo Mike 1C Interés blanco (34...</td>\n",
              "      <td>25-20949</td>\n",
              "      <td>5.0</td>\n",
              "      <td>18.0</td>\n",
              "      <td>7</td>\n",
              "    </tr>\n",
              "    <tr>\n",
              "      <th>87960</th>\n",
              "      <td>2015-09-11</td>\n",
              "      <td>Moscú</td>\n",
              "      <td>25</td>\n",
              "      <td>Moscú SEC \"Atrium\"</td>\n",
              "      <td>71</td>\n",
              "      <td>Regalos - Bolsas, álbumes, Mats d / ratón</td>\n",
              "      <td>20949</td>\n",
              "      <td>Paquete corporativo Mike 1C Interés blanco (34...</td>\n",
              "      <td>25-20949</td>\n",
              "      <td>5.0</td>\n",
              "      <td>21.0</td>\n",
              "      <td>7</td>\n",
              "    </tr>\n",
              "    <tr>\n",
              "      <th>87961</th>\n",
              "      <td>2015-09-13</td>\n",
              "      <td>Moscú</td>\n",
              "      <td>25</td>\n",
              "      <td>Moscú SEC \"Atrium\"</td>\n",
              "      <td>71</td>\n",
              "      <td>Regalos - Bolsas, álbumes, Mats d / ratón</td>\n",
              "      <td>20949</td>\n",
              "      <td>Paquete corporativo Mike 1C Interés blanco (34...</td>\n",
              "      <td>25-20949</td>\n",
              "      <td>5.0</td>\n",
              "      <td>11.0</td>\n",
              "      <td>7</td>\n",
              "    </tr>\n",
              "    <tr>\n",
              "      <th>87962</th>\n",
              "      <td>2015-09-02</td>\n",
              "      <td>Moscú</td>\n",
              "      <td>25</td>\n",
              "      <td>Moscú SEC \"Atrium\"</td>\n",
              "      <td>71</td>\n",
              "      <td>Regalos - Bolsas, álbumes, Mats d / ratón</td>\n",
              "      <td>20949</td>\n",
              "      <td>Paquete corporativo Mike 1C Interés blanco (34...</td>\n",
              "      <td>25-20949</td>\n",
              "      <td>5.0</td>\n",
              "      <td>13.0</td>\n",
              "      <td>7</td>\n",
              "    </tr>\n",
              "  </tbody>\n",
              "</table>\n",
              "<p>87963 rows × 12 columns</p>\n",
              "</div>\n",
              "      <button class=\"colab-df-convert\" onclick=\"convertToInteractive('df-40f09ef9-3e9e-4961-9fb9-a6d1d4114336')\"\n",
              "              title=\"Convert this dataframe to an interactive table.\"\n",
              "              style=\"display:none;\">\n",
              "        \n",
              "  <svg xmlns=\"http://www.w3.org/2000/svg\" height=\"24px\"viewBox=\"0 0 24 24\"\n",
              "       width=\"24px\">\n",
              "    <path d=\"M0 0h24v24H0V0z\" fill=\"none\"/>\n",
              "    <path d=\"M18.56 5.44l.94 2.06.94-2.06 2.06-.94-2.06-.94-.94-2.06-.94 2.06-2.06.94zm-11 1L8.5 8.5l.94-2.06 2.06-.94-2.06-.94L8.5 2.5l-.94 2.06-2.06.94zm10 10l.94 2.06.94-2.06 2.06-.94-2.06-.94-.94-2.06-.94 2.06-2.06.94z\"/><path d=\"M17.41 7.96l-1.37-1.37c-.4-.4-.92-.59-1.43-.59-.52 0-1.04.2-1.43.59L10.3 9.45l-7.72 7.72c-.78.78-.78 2.05 0 2.83L4 21.41c.39.39.9.59 1.41.59.51 0 1.02-.2 1.41-.59l7.78-7.78 2.81-2.81c.8-.78.8-2.07 0-2.86zM5.41 20L4 18.59l7.72-7.72 1.47 1.35L5.41 20z\"/>\n",
              "  </svg>\n",
              "      </button>\n",
              "      \n",
              "  <style>\n",
              "    .colab-df-container {\n",
              "      display:flex;\n",
              "      flex-wrap:wrap;\n",
              "      gap: 12px;\n",
              "    }\n",
              "\n",
              "    .colab-df-convert {\n",
              "      background-color: #E8F0FE;\n",
              "      border: none;\n",
              "      border-radius: 50%;\n",
              "      cursor: pointer;\n",
              "      display: none;\n",
              "      fill: #1967D2;\n",
              "      height: 32px;\n",
              "      padding: 0 0 0 0;\n",
              "      width: 32px;\n",
              "    }\n",
              "\n",
              "    .colab-df-convert:hover {\n",
              "      background-color: #E2EBFA;\n",
              "      box-shadow: 0px 1px 2px rgba(60, 64, 67, 0.3), 0px 1px 3px 1px rgba(60, 64, 67, 0.15);\n",
              "      fill: #174EA6;\n",
              "    }\n",
              "\n",
              "    [theme=dark] .colab-df-convert {\n",
              "      background-color: #3B4455;\n",
              "      fill: #D2E3FC;\n",
              "    }\n",
              "\n",
              "    [theme=dark] .colab-df-convert:hover {\n",
              "      background-color: #434B5C;\n",
              "      box-shadow: 0px 1px 3px 1px rgba(0, 0, 0, 0.15);\n",
              "      filter: drop-shadow(0px 1px 2px rgba(0, 0, 0, 0.3));\n",
              "      fill: #FFFFFF;\n",
              "    }\n",
              "  </style>\n",
              "\n",
              "      <script>\n",
              "        const buttonEl =\n",
              "          document.querySelector('#df-40f09ef9-3e9e-4961-9fb9-a6d1d4114336 button.colab-df-convert');\n",
              "        buttonEl.style.display =\n",
              "          google.colab.kernel.accessAllowed ? 'block' : 'none';\n",
              "\n",
              "        async function convertToInteractive(key) {\n",
              "          const element = document.querySelector('#df-40f09ef9-3e9e-4961-9fb9-a6d1d4114336');\n",
              "          const dataTable =\n",
              "            await google.colab.kernel.invokeFunction('convertToInteractive',\n",
              "                                                     [key], {});\n",
              "          if (!dataTable) return;\n",
              "\n",
              "          const docLinkHtml = 'Like what you see? Visit the ' +\n",
              "            '<a target=\"_blank\" href=https://colab.research.google.com/notebooks/data_table.ipynb>data table notebook</a>'\n",
              "            + ' to learn more about interactive tables.';\n",
              "          element.innerHTML = '';\n",
              "          dataTable['output_type'] = 'display_data';\n",
              "          await google.colab.output.renderOutput(dataTable, element);\n",
              "          const docLink = document.createElement('div');\n",
              "          docLink.innerHTML = docLinkHtml;\n",
              "          element.appendChild(docLink);\n",
              "        }\n",
              "      </script>\n",
              "    </div>\n",
              "  </div>\n",
              "  "
            ]
          },
          "metadata": {},
          "execution_count": 440
        }
      ]
    },
    {
      "cell_type": "markdown",
      "id": "cbd467ee",
      "metadata": {
        "papermill": {
          "duration": 0.015031,
          "end_time": "2022-07-20T19:18:51.810009",
          "exception": false,
          "start_time": "2022-07-20T19:18:51.794978",
          "status": "completed"
        },
        "tags": [],
        "id": "cbd467ee"
      },
      "source": [
        "# Agrupar las ventas por mes"
      ]
    },
    {
      "cell_type": "code",
      "execution_count": null,
      "id": "898d098e",
      "metadata": {
        "execution": {
          "iopub.execute_input": "2022-07-20T19:18:51.843188Z",
          "iopub.status.busy": "2022-07-20T19:18:51.842410Z",
          "iopub.status.idle": "2022-07-20T19:18:51.849144Z",
          "shell.execute_reply": "2022-07-20T19:18:51.848363Z"
        },
        "papermill": {
          "duration": 0.025638,
          "end_time": "2022-07-20T19:18:51.851238",
          "exception": false,
          "start_time": "2022-07-20T19:18:51.825600",
          "status": "completed"
        },
        "tags": [],
        "id": "898d098e"
      },
      "outputs": [],
      "source": [
        "df[\"revenue\"] = df[\"item_price\"] * df[\"item_cnt_day\"]"
      ]
    },
    {
      "cell_type": "code",
      "execution_count": null,
      "id": "df8799d7",
      "metadata": {
        "execution": {
          "iopub.execute_input": "2022-07-20T19:18:51.883262Z",
          "iopub.status.busy": "2022-07-20T19:18:51.882531Z",
          "iopub.status.idle": "2022-07-20T19:18:51.887647Z",
          "shell.execute_reply": "2022-07-20T19:18:51.886884Z"
        },
        "papermill": {
          "duration": 0.023528,
          "end_time": "2022-07-20T19:18:51.889667",
          "exception": false,
          "start_time": "2022-07-20T19:18:51.866139",
          "status": "completed"
        },
        "tags": [],
        "id": "df8799d7"
      },
      "outputs": [],
      "source": [
        "def my_func_agg(series):\n",
        "    \n",
        "    series_filtered = series[series > 1]\n",
        "    sum_to_return = np.sum(series_filtered)\n",
        "    \n",
        "    return sum_to_return"
      ]
    },
    {
      "cell_type": "code",
      "execution_count": null,
      "id": "a698b836",
      "metadata": {
        "execution": {
          "iopub.execute_input": "2022-07-20T19:18:51.921573Z",
          "iopub.status.busy": "2022-07-20T19:18:51.921124Z",
          "iopub.status.idle": "2022-07-20T19:18:51.942202Z",
          "shell.execute_reply": "2022-07-20T19:18:51.941413Z"
        },
        "papermill": {
          "duration": 0.039969,
          "end_time": "2022-07-20T19:18:51.944410",
          "exception": false,
          "start_time": "2022-07-20T19:18:51.904441",
          "status": "completed"
        },
        "tags": [],
        "id": "a698b836"
      },
      "outputs": [],
      "source": [
        "df[\"date\"] = pd.to_datetime(df[\"date\"], format = \"%Y-%m-%d\")"
      ]
    },
    {
      "cell_type": "code",
      "execution_count": null,
      "id": "7ba90443",
      "metadata": {
        "execution": {
          "iopub.execute_input": "2022-07-20T19:18:51.977121Z",
          "iopub.status.busy": "2022-07-20T19:18:51.976278Z",
          "iopub.status.idle": "2022-07-20T19:18:51.985230Z",
          "shell.execute_reply": "2022-07-20T19:18:51.984073Z"
        },
        "papermill": {
          "duration": 0.02781,
          "end_time": "2022-07-20T19:18:51.987444",
          "exception": false,
          "start_time": "2022-07-20T19:18:51.959634",
          "status": "completed"
        },
        "tags": [],
        "id": "7ba90443",
        "outputId": "bc149ccc-f7c9-4854-a6e5-232b4a997ed1",
        "colab": {
          "base_uri": "https://localhost:8080/"
        }
      },
      "outputs": [
        {
          "output_type": "execute_result",
          "data": {
            "text/plain": [
              "1003"
            ]
          },
          "metadata": {},
          "execution_count": 444
        }
      ],
      "source": [
        "df[\"date\"].nunique()"
      ]
    },
    {
      "cell_type": "code",
      "source": [
        "df[\"date\"] = pd.to_datetime(df[\"date\"], format = \"%Y-%m-%d\")\n",
        "df[\"YEAR\"] = df[\"date\"].dt.year\n",
        "df[\"MONTH\"] = df[\"date\"].dt.month"
      ],
      "metadata": {
        "id": "upuJayu4upgE"
      },
      "id": "upuJayu4upgE",
      "execution_count": null,
      "outputs": []
    },
    {
      "cell_type": "code",
      "source": [
        "df.head()"
      ],
      "metadata": {
        "colab": {
          "base_uri": "https://localhost:8080/",
          "height": 337
        },
        "id": "5bh670u77H6i",
        "outputId": "871d3fdc-de74-49aa-ca9c-c86f468e30d8"
      },
      "id": "5bh670u77H6i",
      "execution_count": null,
      "outputs": [
        {
          "output_type": "execute_result",
          "data": {
            "text/plain": [
              "        date   city  shop_id           shop_name  item_category_id  \\\n",
              "0 2013-01-03  Moscú       25  Moscú SEC \"Atrium\"                55   \n",
              "1 2013-01-05  Moscú       25  Moscú SEC \"Atrium\"                55   \n",
              "2 2013-01-07  Moscú       25  Moscú SEC \"Atrium\"                55   \n",
              "3 2013-01-08  Moscú       25  Moscú SEC \"Atrium\"                55   \n",
              "4 2013-01-10  Moscú       25  Moscú SEC \"Atrium\"                55   \n",
              "\n",
              "                   item_category_name  item_id  \\\n",
              "0  Música - CD de la producción local     2574   \n",
              "1  Música - CD de la producción local     2574   \n",
              "2  Música - CD de la producción local     2574   \n",
              "3  Música - CD de la producción local     2574   \n",
              "4  Música - CD de la producción local     2574   \n",
              "\n",
              "                                           item_name unique_id  item_price  \\\n",
              "0  Del Rey Lana Nació para morir la edición de Pa...   25-2574       399.0   \n",
              "1  Del Rey Lana Nació para morir la edición de Pa...   25-2574       399.0   \n",
              "2  Del Rey Lana Nació para morir la edición de Pa...   25-2574       399.0   \n",
              "3  Del Rey Lana Nació para morir la edición de Pa...   25-2574       399.0   \n",
              "4  Del Rey Lana Nació para morir la edición de Pa...   25-2574       399.0   \n",
              "\n",
              "   item_cnt_day  city_id  revenue  YEAR  MONTH  \n",
              "0           2.0        7    798.0  2013      1  \n",
              "1           1.0        7    399.0  2013      1  \n",
              "2           1.0        7    399.0  2013      1  \n",
              "3           2.0        7    798.0  2013      1  \n",
              "4           1.0        7    399.0  2013      1  "
            ],
            "text/html": [
              "\n",
              "  <div id=\"df-0681c850-c3ad-42e3-9204-fbd97bd96e9a\">\n",
              "    <div class=\"colab-df-container\">\n",
              "      <div>\n",
              "<style scoped>\n",
              "    .dataframe tbody tr th:only-of-type {\n",
              "        vertical-align: middle;\n",
              "    }\n",
              "\n",
              "    .dataframe tbody tr th {\n",
              "        vertical-align: top;\n",
              "    }\n",
              "\n",
              "    .dataframe thead th {\n",
              "        text-align: right;\n",
              "    }\n",
              "</style>\n",
              "<table border=\"1\" class=\"dataframe\">\n",
              "  <thead>\n",
              "    <tr style=\"text-align: right;\">\n",
              "      <th></th>\n",
              "      <th>date</th>\n",
              "      <th>city</th>\n",
              "      <th>shop_id</th>\n",
              "      <th>shop_name</th>\n",
              "      <th>item_category_id</th>\n",
              "      <th>item_category_name</th>\n",
              "      <th>item_id</th>\n",
              "      <th>item_name</th>\n",
              "      <th>unique_id</th>\n",
              "      <th>item_price</th>\n",
              "      <th>item_cnt_day</th>\n",
              "      <th>city_id</th>\n",
              "      <th>revenue</th>\n",
              "      <th>YEAR</th>\n",
              "      <th>MONTH</th>\n",
              "    </tr>\n",
              "  </thead>\n",
              "  <tbody>\n",
              "    <tr>\n",
              "      <th>0</th>\n",
              "      <td>2013-01-03</td>\n",
              "      <td>Moscú</td>\n",
              "      <td>25</td>\n",
              "      <td>Moscú SEC \"Atrium\"</td>\n",
              "      <td>55</td>\n",
              "      <td>Música - CD de la producción local</td>\n",
              "      <td>2574</td>\n",
              "      <td>Del Rey Lana Nació para morir la edición de Pa...</td>\n",
              "      <td>25-2574</td>\n",
              "      <td>399.0</td>\n",
              "      <td>2.0</td>\n",
              "      <td>7</td>\n",
              "      <td>798.0</td>\n",
              "      <td>2013</td>\n",
              "      <td>1</td>\n",
              "    </tr>\n",
              "    <tr>\n",
              "      <th>1</th>\n",
              "      <td>2013-01-05</td>\n",
              "      <td>Moscú</td>\n",
              "      <td>25</td>\n",
              "      <td>Moscú SEC \"Atrium\"</td>\n",
              "      <td>55</td>\n",
              "      <td>Música - CD de la producción local</td>\n",
              "      <td>2574</td>\n",
              "      <td>Del Rey Lana Nació para morir la edición de Pa...</td>\n",
              "      <td>25-2574</td>\n",
              "      <td>399.0</td>\n",
              "      <td>1.0</td>\n",
              "      <td>7</td>\n",
              "      <td>399.0</td>\n",
              "      <td>2013</td>\n",
              "      <td>1</td>\n",
              "    </tr>\n",
              "    <tr>\n",
              "      <th>2</th>\n",
              "      <td>2013-01-07</td>\n",
              "      <td>Moscú</td>\n",
              "      <td>25</td>\n",
              "      <td>Moscú SEC \"Atrium\"</td>\n",
              "      <td>55</td>\n",
              "      <td>Música - CD de la producción local</td>\n",
              "      <td>2574</td>\n",
              "      <td>Del Rey Lana Nació para morir la edición de Pa...</td>\n",
              "      <td>25-2574</td>\n",
              "      <td>399.0</td>\n",
              "      <td>1.0</td>\n",
              "      <td>7</td>\n",
              "      <td>399.0</td>\n",
              "      <td>2013</td>\n",
              "      <td>1</td>\n",
              "    </tr>\n",
              "    <tr>\n",
              "      <th>3</th>\n",
              "      <td>2013-01-08</td>\n",
              "      <td>Moscú</td>\n",
              "      <td>25</td>\n",
              "      <td>Moscú SEC \"Atrium\"</td>\n",
              "      <td>55</td>\n",
              "      <td>Música - CD de la producción local</td>\n",
              "      <td>2574</td>\n",
              "      <td>Del Rey Lana Nació para morir la edición de Pa...</td>\n",
              "      <td>25-2574</td>\n",
              "      <td>399.0</td>\n",
              "      <td>2.0</td>\n",
              "      <td>7</td>\n",
              "      <td>798.0</td>\n",
              "      <td>2013</td>\n",
              "      <td>1</td>\n",
              "    </tr>\n",
              "    <tr>\n",
              "      <th>4</th>\n",
              "      <td>2013-01-10</td>\n",
              "      <td>Moscú</td>\n",
              "      <td>25</td>\n",
              "      <td>Moscú SEC \"Atrium\"</td>\n",
              "      <td>55</td>\n",
              "      <td>Música - CD de la producción local</td>\n",
              "      <td>2574</td>\n",
              "      <td>Del Rey Lana Nació para morir la edición de Pa...</td>\n",
              "      <td>25-2574</td>\n",
              "      <td>399.0</td>\n",
              "      <td>1.0</td>\n",
              "      <td>7</td>\n",
              "      <td>399.0</td>\n",
              "      <td>2013</td>\n",
              "      <td>1</td>\n",
              "    </tr>\n",
              "  </tbody>\n",
              "</table>\n",
              "</div>\n",
              "      <button class=\"colab-df-convert\" onclick=\"convertToInteractive('df-0681c850-c3ad-42e3-9204-fbd97bd96e9a')\"\n",
              "              title=\"Convert this dataframe to an interactive table.\"\n",
              "              style=\"display:none;\">\n",
              "        \n",
              "  <svg xmlns=\"http://www.w3.org/2000/svg\" height=\"24px\"viewBox=\"0 0 24 24\"\n",
              "       width=\"24px\">\n",
              "    <path d=\"M0 0h24v24H0V0z\" fill=\"none\"/>\n",
              "    <path d=\"M18.56 5.44l.94 2.06.94-2.06 2.06-.94-2.06-.94-.94-2.06-.94 2.06-2.06.94zm-11 1L8.5 8.5l.94-2.06 2.06-.94-2.06-.94L8.5 2.5l-.94 2.06-2.06.94zm10 10l.94 2.06.94-2.06 2.06-.94-2.06-.94-.94-2.06-.94 2.06-2.06.94z\"/><path d=\"M17.41 7.96l-1.37-1.37c-.4-.4-.92-.59-1.43-.59-.52 0-1.04.2-1.43.59L10.3 9.45l-7.72 7.72c-.78.78-.78 2.05 0 2.83L4 21.41c.39.39.9.59 1.41.59.51 0 1.02-.2 1.41-.59l7.78-7.78 2.81-2.81c.8-.78.8-2.07 0-2.86zM5.41 20L4 18.59l7.72-7.72 1.47 1.35L5.41 20z\"/>\n",
              "  </svg>\n",
              "      </button>\n",
              "      \n",
              "  <style>\n",
              "    .colab-df-container {\n",
              "      display:flex;\n",
              "      flex-wrap:wrap;\n",
              "      gap: 12px;\n",
              "    }\n",
              "\n",
              "    .colab-df-convert {\n",
              "      background-color: #E8F0FE;\n",
              "      border: none;\n",
              "      border-radius: 50%;\n",
              "      cursor: pointer;\n",
              "      display: none;\n",
              "      fill: #1967D2;\n",
              "      height: 32px;\n",
              "      padding: 0 0 0 0;\n",
              "      width: 32px;\n",
              "    }\n",
              "\n",
              "    .colab-df-convert:hover {\n",
              "      background-color: #E2EBFA;\n",
              "      box-shadow: 0px 1px 2px rgba(60, 64, 67, 0.3), 0px 1px 3px 1px rgba(60, 64, 67, 0.15);\n",
              "      fill: #174EA6;\n",
              "    }\n",
              "\n",
              "    [theme=dark] .colab-df-convert {\n",
              "      background-color: #3B4455;\n",
              "      fill: #D2E3FC;\n",
              "    }\n",
              "\n",
              "    [theme=dark] .colab-df-convert:hover {\n",
              "      background-color: #434B5C;\n",
              "      box-shadow: 0px 1px 3px 1px rgba(0, 0, 0, 0.15);\n",
              "      filter: drop-shadow(0px 1px 2px rgba(0, 0, 0, 0.3));\n",
              "      fill: #FFFFFF;\n",
              "    }\n",
              "  </style>\n",
              "\n",
              "      <script>\n",
              "        const buttonEl =\n",
              "          document.querySelector('#df-0681c850-c3ad-42e3-9204-fbd97bd96e9a button.colab-df-convert');\n",
              "        buttonEl.style.display =\n",
              "          google.colab.kernel.accessAllowed ? 'block' : 'none';\n",
              "\n",
              "        async function convertToInteractive(key) {\n",
              "          const element = document.querySelector('#df-0681c850-c3ad-42e3-9204-fbd97bd96e9a');\n",
              "          const dataTable =\n",
              "            await google.colab.kernel.invokeFunction('convertToInteractive',\n",
              "                                                     [key], {});\n",
              "          if (!dataTable) return;\n",
              "\n",
              "          const docLinkHtml = 'Like what you see? Visit the ' +\n",
              "            '<a target=\"_blank\" href=https://colab.research.google.com/notebooks/data_table.ipynb>data table notebook</a>'\n",
              "            + ' to learn more about interactive tables.';\n",
              "          element.innerHTML = '';\n",
              "          dataTable['output_type'] = 'display_data';\n",
              "          await google.colab.output.renderOutput(dataTable, element);\n",
              "          const docLink = document.createElement('div');\n",
              "          docLink.innerHTML = docLinkHtml;\n",
              "          element.appendChild(docLink);\n",
              "        }\n",
              "      </script>\n",
              "    </div>\n",
              "  </div>\n",
              "  "
            ]
          },
          "metadata": {},
          "execution_count": 446
        }
      ]
    },
    {
      "cell_type": "code",
      "source": [
        "###################################################################################################################################"
      ],
      "metadata": {
        "id": "8si4aP2Q78MF"
      },
      "id": "8si4aP2Q78MF",
      "execution_count": null,
      "outputs": []
    },
    {
      "cell_type": "code",
      "source": [
        "# dias = año4.groupby([\"date\"])[\"revenue\"].sum()"
      ],
      "metadata": {
        "id": "KQKA6TjQNs-B"
      },
      "id": "KQKA6TjQNs-B",
      "execution_count": null,
      "outputs": []
    },
    {
      "cell_type": "code",
      "source": [
        "# dias.to_excel(\"/content/drive/MyDrive/MASTER EN DATA SCIENCE/Módulo 4 - Machine Learning/Módulo 4.3 - Machine  Learning TimeSeries/Proyecto ciudades rusas/dias.xlsx\")"
      ],
      "metadata": {
        "id": "Sc5LZznhN9Al"
      },
      "id": "Sc5LZznhN9Al",
      "execution_count": null,
      "outputs": []
    },
    {
      "cell_type": "code",
      "source": [
        "# ciudad = df[df[\"city\"] == \"Yaroslavl\"]"
      ],
      "metadata": {
        "id": "1qYO4o10tbta"
      },
      "id": "1qYO4o10tbta",
      "execution_count": null,
      "outputs": []
    },
    {
      "cell_type": "code",
      "source": [
        "# ciudad.groupby([\"YEAR\"])[\"revenue\"].sum()"
      ],
      "metadata": {
        "id": "mAY4SGiCuH69"
      },
      "id": "mAY4SGiCuH69",
      "execution_count": null,
      "outputs": []
    },
    {
      "cell_type": "code",
      "source": [
        "# ciudades = df.groupby(['city'])[\"revenue\"].sum()"
      ],
      "metadata": {
        "id": "ZcRx-zF18DU-"
      },
      "id": "ZcRx-zF18DU-",
      "execution_count": null,
      "outputs": []
    },
    {
      "cell_type": "code",
      "source": [
        "# ciudades.to_excel(\"/content/drive/MyDrive/MASTER EN DATA SCIENCE/Módulo 4 - Machine Learning/Módulo 4.3 - Machine  Learning TimeSeries/Proyecto ciudades rusas/ciudades.xlsx\")"
      ],
      "metadata": {
        "id": "MxUGJxxI8DRe"
      },
      "id": "MxUGJxxI8DRe",
      "execution_count": null,
      "outputs": []
    },
    {
      "cell_type": "code",
      "source": [
        "# año = df[df[\"YEAR\"] == 2013]"
      ],
      "metadata": {
        "id": "dWaTBFhj8DNs"
      },
      "id": "dWaTBFhj8DNs",
      "execution_count": null,
      "outputs": []
    },
    {
      "cell_type": "code",
      "source": [
        "# precioitem = año.groupby(['item_name'])['item_price'].max()"
      ],
      "metadata": {
        "id": "JSxjEX2O8DJp"
      },
      "id": "JSxjEX2O8DJp",
      "execution_count": null,
      "outputs": []
    },
    {
      "cell_type": "code",
      "source": [
        "# precioitem.to_excel(\"/content/drive/MyDrive/MASTER EN DATA SCIENCE/Módulo 4 - Machine Learning/Módulo 4.3 - Machine  Learning TimeSeries/Proyecto ciudades rusas/itempreciomax.xlsx\")"
      ],
      "metadata": {
        "id": "0gsLXylM8DF4"
      },
      "id": "0gsLXylM8DF4",
      "execution_count": null,
      "outputs": []
    },
    {
      "cell_type": "code",
      "source": [
        "# año2 = df[df[\"YEAR\"] == 2014]"
      ],
      "metadata": {
        "id": "bceKebSfFJt9"
      },
      "id": "bceKebSfFJt9",
      "execution_count": null,
      "outputs": []
    },
    {
      "cell_type": "code",
      "source": [
        "# catergoria = año2.groupby(['item_category_name'])['item_cnt_day'].sum()"
      ],
      "metadata": {
        "id": "KjooJwepFJqf"
      },
      "id": "KjooJwepFJqf",
      "execution_count": null,
      "outputs": []
    },
    {
      "cell_type": "code",
      "source": [
        "# catergoria.to_excel(\"/content/drive/MyDrive/MASTER EN DATA SCIENCE/Módulo 4 - Machine Learning/Módulo 4.3 - Machine  Learning TimeSeries/Proyecto ciudades rusas/catergoriamax.xlsx\")"
      ],
      "metadata": {
        "id": "bXI_zeeIFJm8"
      },
      "id": "bXI_zeeIFJm8",
      "execution_count": null,
      "outputs": []
    },
    {
      "cell_type": "code",
      "source": [
        "# diaventas = df.groupby(['date'])['revenue'].sum()"
      ],
      "metadata": {
        "id": "zuHM-q_9FJjg"
      },
      "id": "zuHM-q_9FJjg",
      "execution_count": null,
      "outputs": []
    },
    {
      "cell_type": "code",
      "source": [
        "# diaventas"
      ],
      "metadata": {
        "id": "KQE5dllQFJgc"
      },
      "id": "KQE5dllQFJgc",
      "execution_count": null,
      "outputs": []
    },
    {
      "cell_type": "code",
      "source": [
        "# diaventas.to_excel(\"/content/drive/MyDrive/MASTER EN DATA SCIENCE/Módulo 4 - Machine Learning/Módulo 4.3 - Machine  Learning TimeSeries/Proyecto ciudades rusas/daysales.xlsx\")"
      ],
      "metadata": {
        "id": "v9Qod2WTFJcu"
      },
      "id": "v9Qod2WTFJcu",
      "execution_count": null,
      "outputs": []
    },
    {
      "cell_type": "code",
      "source": [
        "# ciudad = df[df[\"city\"] == \"Samara\"]"
      ],
      "metadata": {
        "id": "NH3suqbcFJZq"
      },
      "id": "NH3suqbcFJZq",
      "execution_count": null,
      "outputs": []
    },
    {
      "cell_type": "code",
      "source": [
        "# tienda = ciudad[ciudad['shop_name'] == 'centro de Samara \"Parkhouse\"']"
      ],
      "metadata": {
        "id": "m2_2HL6675ab"
      },
      "id": "m2_2HL6675ab",
      "execution_count": null,
      "outputs": []
    },
    {
      "cell_type": "code",
      "source": [
        "# mediatienda = tienda[tienda['YEAR'] == 2013]"
      ],
      "metadata": {
        "id": "_ba9MvGL8SLj"
      },
      "id": "_ba9MvGL8SLj",
      "execution_count": null,
      "outputs": []
    },
    {
      "cell_type": "code",
      "source": [
        "# mediames = mediatienda[mediatienda['MONTH'] == 1 | 2 | 3]"
      ],
      "metadata": {
        "id": "niXgIf_1FJWN"
      },
      "id": "niXgIf_1FJWN",
      "execution_count": null,
      "outputs": []
    },
    {
      "cell_type": "code",
      "source": [
        "# mediames.groupby(['city'])['revenue'].sum()"
      ],
      "metadata": {
        "id": "KOalbZd3FJSK"
      },
      "id": "KOalbZd3FJSK",
      "execution_count": null,
      "outputs": []
    },
    {
      "cell_type": "code",
      "source": [
        "# df.groupby([\"city\"])[\"shop_id\"].nunique()"
      ],
      "metadata": {
        "id": "xj_A6Hjy8C8Z"
      },
      "id": "xj_A6Hjy8C8Z",
      "execution_count": null,
      "outputs": []
    },
    {
      "cell_type": "code",
      "source": [
        "# df['shop_id'].unique()"
      ],
      "metadata": {
        "id": "kPfaN_rM-g3R"
      },
      "id": "kPfaN_rM-g3R",
      "execution_count": null,
      "outputs": []
    },
    {
      "cell_type": "code",
      "source": [
        "# diaventas = df.groupby([\"item_id\"])[\"date\"].nunique()"
      ],
      "metadata": {
        "id": "s2G4u8BF-g0G"
      },
      "id": "s2G4u8BF-g0G",
      "execution_count": null,
      "outputs": []
    },
    {
      "cell_type": "code",
      "source": [
        "# diaventas.to_excel(\"/content/drive/MyDrive/MASTER EN DATA SCIENCE/Módulo 4 - Machine Learning/Módulo 4.3 - Machine  Learning TimeSeries/Proyecto ciudades rusas/ditems.xlsx\")"
      ],
      "metadata": {
        "id": "brk8D9HN-gwR"
      },
      "id": "brk8D9HN-gwR",
      "execution_count": null,
      "outputs": []
    },
    {
      "cell_type": "code",
      "source": [
        "# ciudad = df[df[\"city\"] == \"Surgut\"]"
      ],
      "metadata": {
        "id": "5W6ifP83-gtG"
      },
      "id": "5W6ifP83-gtG",
      "execution_count": null,
      "outputs": []
    },
    {
      "cell_type": "code",
      "source": [
        "# ciudad.groupby(['item_category_id'])['revenue'].sum()"
      ],
      "metadata": {
        "id": "lGZCx-xT-gpx"
      },
      "id": "lGZCx-xT-gpx",
      "execution_count": null,
      "outputs": []
    },
    {
      "cell_type": "code",
      "source": [
        "##################################################################################################################################################################"
      ],
      "metadata": {
        "id": "PQ95lB9M-gi5"
      },
      "id": "PQ95lB9M-gi5",
      "execution_count": null,
      "outputs": []
    },
    {
      "cell_type": "code",
      "source": [],
      "metadata": {
        "id": "bK3KVGkG-gfl"
      },
      "id": "bK3KVGkG-gfl",
      "execution_count": null,
      "outputs": []
    },
    {
      "cell_type": "code",
      "execution_count": null,
      "id": "ec8d778e",
      "metadata": {
        "execution": {
          "iopub.execute_input": "2022-07-20T19:18:52.072110Z",
          "iopub.status.busy": "2022-07-20T19:18:52.071360Z",
          "iopub.status.idle": "2022-07-20T19:18:58.995937Z",
          "shell.execute_reply": "2022-07-20T19:18:58.994955Z"
        },
        "papermill": {
          "duration": 6.944042,
          "end_time": "2022-07-20T19:18:58.998393",
          "exception": false,
          "start_time": "2022-07-20T19:18:52.054351",
          "status": "completed"
        },
        "tags": [],
        "id": "ec8d778e"
      },
      "outputs": [],
      "source": [
        "df[\"item_cnt_day2\"] = df[\"item_cnt_day\"]\n",
        "\n",
        "gb_df = df.set_index(\"date\").groupby(\"unique_id\").resample(\"M\").agg(\n",
        "    \n",
        "    {\n",
        "        \"item_cnt_day\" : np.sum,\n",
        "        \"revenue\"      : np.sum,\n",
        "        \"item_price\"   : np.mean,\n",
        "        \"item_id\"      : len,\n",
        "        \"item_cnt_day2\": my_func_agg \n",
        "        \n",
        "    }\n",
        "    \n",
        ").rename(\n",
        "    columns = {\n",
        "        \"item_cnt_day\" : \"monthly_sales\",\n",
        "        \"revenue\"      : \"monthly_revenue\",\n",
        "        \"item_price\"   : \"monthly_mean_price\",\n",
        "        \"item_id\"      : \"nr_days_with_sales\",\n",
        "        \"item_cnt_day2\" : \"my_agg_mean\"\n",
        "    }\n",
        ").reset_index()"
      ]
    },
    {
      "cell_type": "code",
      "execution_count": null,
      "id": "3298f989",
      "metadata": {
        "execution": {
          "iopub.execute_input": "2022-07-20T19:18:59.031130Z",
          "iopub.status.busy": "2022-07-20T19:18:59.030770Z",
          "iopub.status.idle": "2022-07-20T19:18:59.036982Z",
          "shell.execute_reply": "2022-07-20T19:18:59.035887Z"
        },
        "papermill": {
          "duration": 0.025278,
          "end_time": "2022-07-20T19:18:59.039168",
          "exception": false,
          "start_time": "2022-07-20T19:18:59.013890",
          "status": "completed"
        },
        "tags": [],
        "id": "3298f989"
      },
      "outputs": [],
      "source": [
        "gb_df.drop(\"my_agg_mean\", axis = 1, inplace = True)"
      ]
    },
    {
      "cell_type": "code",
      "execution_count": null,
      "id": "ba9cbba6",
      "metadata": {
        "execution": {
          "iopub.execute_input": "2022-07-20T19:18:59.071772Z",
          "iopub.status.busy": "2022-07-20T19:18:59.071371Z",
          "iopub.status.idle": "2022-07-20T19:18:59.077682Z",
          "shell.execute_reply": "2022-07-20T19:18:59.076835Z"
        },
        "papermill": {
          "duration": 0.025023,
          "end_time": "2022-07-20T19:18:59.079645",
          "exception": false,
          "start_time": "2022-07-20T19:18:59.054622",
          "status": "completed"
        },
        "tags": [],
        "id": "ba9cbba6",
        "outputId": "2602ecaa-335d-464d-fe00-aab84c38021a",
        "colab": {
          "base_uri": "https://localhost:8080/"
        }
      },
      "outputs": [
        {
          "output_type": "execute_result",
          "data": {
            "text/plain": [
              "(8746, 6)"
            ]
          },
          "metadata": {},
          "execution_count": 477
        }
      ],
      "source": [
        "gb_df.shape"
      ]
    },
    {
      "cell_type": "code",
      "execution_count": null,
      "id": "2ca10a97",
      "metadata": {
        "execution": {
          "iopub.execute_input": "2022-07-20T19:18:59.112462Z",
          "iopub.status.busy": "2022-07-20T19:18:59.111793Z",
          "iopub.status.idle": "2022-07-20T19:18:59.123466Z",
          "shell.execute_reply": "2022-07-20T19:18:59.122540Z"
        },
        "papermill": {
          "duration": 0.030584,
          "end_time": "2022-07-20T19:18:59.125554",
          "exception": false,
          "start_time": "2022-07-20T19:18:59.094970",
          "status": "completed"
        },
        "tags": [],
        "id": "2ca10a97"
      },
      "outputs": [],
      "source": [
        "# gb_df.groupby(\"unique_id\").size()[gb_df.groupby(\"unique_id\").size() != 33]"
      ]
    },
    {
      "cell_type": "code",
      "execution_count": null,
      "id": "4407d220",
      "metadata": {
        "execution": {
          "iopub.execute_input": "2022-07-20T19:18:59.158567Z",
          "iopub.status.busy": "2022-07-20T19:18:59.157945Z",
          "iopub.status.idle": "2022-07-20T19:18:59.164132Z",
          "shell.execute_reply": "2022-07-20T19:18:59.163221Z"
        },
        "papermill": {
          "duration": 0.025022,
          "end_time": "2022-07-20T19:18:59.166013",
          "exception": false,
          "start_time": "2022-07-20T19:18:59.140991",
          "status": "completed"
        },
        "tags": [],
        "id": "4407d220",
        "outputId": "e825b512-b349-43c2-a04c-b5bade63cb33",
        "colab": {
          "base_uri": "https://localhost:8080/"
        }
      },
      "outputs": [
        {
          "output_type": "execute_result",
          "data": {
            "text/plain": [
              "(10166, 2)"
            ]
          },
          "metadata": {},
          "execution_count": 479
        }
      ],
      "source": [
        "full_df.shape"
      ]
    },
    {
      "cell_type": "markdown",
      "id": "629bada6",
      "metadata": {
        "papermill": {
          "duration": 0.015173,
          "end_time": "2022-07-20T19:18:59.196534",
          "exception": false,
          "start_time": "2022-07-20T19:18:59.181361",
          "status": "completed"
        },
        "tags": [],
        "id": "629bada6"
      },
      "source": [
        "# Join full_df con gb_df"
      ]
    },
    {
      "cell_type": "code",
      "execution_count": null,
      "id": "0a94a63b",
      "metadata": {
        "execution": {
          "iopub.execute_input": "2022-07-20T19:18:59.229457Z",
          "iopub.status.busy": "2022-07-20T19:18:59.229069Z",
          "iopub.status.idle": "2022-07-20T19:18:59.239278Z",
          "shell.execute_reply": "2022-07-20T19:18:59.238202Z"
        },
        "papermill": {
          "duration": 0.029345,
          "end_time": "2022-07-20T19:18:59.241420",
          "exception": false,
          "start_time": "2022-07-20T19:18:59.212075",
          "status": "completed"
        },
        "tags": [],
        "id": "0a94a63b",
        "outputId": "484a17da-0dae-48ff-fc79-b535dbaf551d",
        "colab": {
          "base_uri": "https://localhost:8080/",
          "height": 206
        }
      },
      "outputs": [
        {
          "output_type": "execute_result",
          "data": {
            "text/plain": [
              "        date unique_id\n",
              "0 2013-01-31   25-2574\n",
              "1 2013-01-31   25-2808\n",
              "2 2013-01-31   25-2308\n",
              "3 2013-01-31   25-5821\n",
              "4 2013-01-31   25-5822"
            ],
            "text/html": [
              "\n",
              "  <div id=\"df-94f40d00-550d-4fd7-95f4-cd89a468c8ae\">\n",
              "    <div class=\"colab-df-container\">\n",
              "      <div>\n",
              "<style scoped>\n",
              "    .dataframe tbody tr th:only-of-type {\n",
              "        vertical-align: middle;\n",
              "    }\n",
              "\n",
              "    .dataframe tbody tr th {\n",
              "        vertical-align: top;\n",
              "    }\n",
              "\n",
              "    .dataframe thead th {\n",
              "        text-align: right;\n",
              "    }\n",
              "</style>\n",
              "<table border=\"1\" class=\"dataframe\">\n",
              "  <thead>\n",
              "    <tr style=\"text-align: right;\">\n",
              "      <th></th>\n",
              "      <th>date</th>\n",
              "      <th>unique_id</th>\n",
              "    </tr>\n",
              "  </thead>\n",
              "  <tbody>\n",
              "    <tr>\n",
              "      <th>0</th>\n",
              "      <td>2013-01-31</td>\n",
              "      <td>25-2574</td>\n",
              "    </tr>\n",
              "    <tr>\n",
              "      <th>1</th>\n",
              "      <td>2013-01-31</td>\n",
              "      <td>25-2808</td>\n",
              "    </tr>\n",
              "    <tr>\n",
              "      <th>2</th>\n",
              "      <td>2013-01-31</td>\n",
              "      <td>25-2308</td>\n",
              "    </tr>\n",
              "    <tr>\n",
              "      <th>3</th>\n",
              "      <td>2013-01-31</td>\n",
              "      <td>25-5821</td>\n",
              "    </tr>\n",
              "    <tr>\n",
              "      <th>4</th>\n",
              "      <td>2013-01-31</td>\n",
              "      <td>25-5822</td>\n",
              "    </tr>\n",
              "  </tbody>\n",
              "</table>\n",
              "</div>\n",
              "      <button class=\"colab-df-convert\" onclick=\"convertToInteractive('df-94f40d00-550d-4fd7-95f4-cd89a468c8ae')\"\n",
              "              title=\"Convert this dataframe to an interactive table.\"\n",
              "              style=\"display:none;\">\n",
              "        \n",
              "  <svg xmlns=\"http://www.w3.org/2000/svg\" height=\"24px\"viewBox=\"0 0 24 24\"\n",
              "       width=\"24px\">\n",
              "    <path d=\"M0 0h24v24H0V0z\" fill=\"none\"/>\n",
              "    <path d=\"M18.56 5.44l.94 2.06.94-2.06 2.06-.94-2.06-.94-.94-2.06-.94 2.06-2.06.94zm-11 1L8.5 8.5l.94-2.06 2.06-.94-2.06-.94L8.5 2.5l-.94 2.06-2.06.94zm10 10l.94 2.06.94-2.06 2.06-.94-2.06-.94-.94-2.06-.94 2.06-2.06.94z\"/><path d=\"M17.41 7.96l-1.37-1.37c-.4-.4-.92-.59-1.43-.59-.52 0-1.04.2-1.43.59L10.3 9.45l-7.72 7.72c-.78.78-.78 2.05 0 2.83L4 21.41c.39.39.9.59 1.41.59.51 0 1.02-.2 1.41-.59l7.78-7.78 2.81-2.81c.8-.78.8-2.07 0-2.86zM5.41 20L4 18.59l7.72-7.72 1.47 1.35L5.41 20z\"/>\n",
              "  </svg>\n",
              "      </button>\n",
              "      \n",
              "  <style>\n",
              "    .colab-df-container {\n",
              "      display:flex;\n",
              "      flex-wrap:wrap;\n",
              "      gap: 12px;\n",
              "    }\n",
              "\n",
              "    .colab-df-convert {\n",
              "      background-color: #E8F0FE;\n",
              "      border: none;\n",
              "      border-radius: 50%;\n",
              "      cursor: pointer;\n",
              "      display: none;\n",
              "      fill: #1967D2;\n",
              "      height: 32px;\n",
              "      padding: 0 0 0 0;\n",
              "      width: 32px;\n",
              "    }\n",
              "\n",
              "    .colab-df-convert:hover {\n",
              "      background-color: #E2EBFA;\n",
              "      box-shadow: 0px 1px 2px rgba(60, 64, 67, 0.3), 0px 1px 3px 1px rgba(60, 64, 67, 0.15);\n",
              "      fill: #174EA6;\n",
              "    }\n",
              "\n",
              "    [theme=dark] .colab-df-convert {\n",
              "      background-color: #3B4455;\n",
              "      fill: #D2E3FC;\n",
              "    }\n",
              "\n",
              "    [theme=dark] .colab-df-convert:hover {\n",
              "      background-color: #434B5C;\n",
              "      box-shadow: 0px 1px 3px 1px rgba(0, 0, 0, 0.15);\n",
              "      filter: drop-shadow(0px 1px 2px rgba(0, 0, 0, 0.3));\n",
              "      fill: #FFFFFF;\n",
              "    }\n",
              "  </style>\n",
              "\n",
              "      <script>\n",
              "        const buttonEl =\n",
              "          document.querySelector('#df-94f40d00-550d-4fd7-95f4-cd89a468c8ae button.colab-df-convert');\n",
              "        buttonEl.style.display =\n",
              "          google.colab.kernel.accessAllowed ? 'block' : 'none';\n",
              "\n",
              "        async function convertToInteractive(key) {\n",
              "          const element = document.querySelector('#df-94f40d00-550d-4fd7-95f4-cd89a468c8ae');\n",
              "          const dataTable =\n",
              "            await google.colab.kernel.invokeFunction('convertToInteractive',\n",
              "                                                     [key], {});\n",
              "          if (!dataTable) return;\n",
              "\n",
              "          const docLinkHtml = 'Like what you see? Visit the ' +\n",
              "            '<a target=\"_blank\" href=https://colab.research.google.com/notebooks/data_table.ipynb>data table notebook</a>'\n",
              "            + ' to learn more about interactive tables.';\n",
              "          element.innerHTML = '';\n",
              "          dataTable['output_type'] = 'display_data';\n",
              "          await google.colab.output.renderOutput(dataTable, element);\n",
              "          const docLink = document.createElement('div');\n",
              "          docLink.innerHTML = docLinkHtml;\n",
              "          element.appendChild(docLink);\n",
              "        }\n",
              "      </script>\n",
              "    </div>\n",
              "  </div>\n",
              "  "
            ]
          },
          "metadata": {},
          "execution_count": 480
        }
      ],
      "source": [
        "full_df.head()"
      ]
    },
    {
      "cell_type": "code",
      "execution_count": null,
      "id": "71ca791c",
      "metadata": {
        "execution": {
          "iopub.execute_input": "2022-07-20T19:18:59.275010Z",
          "iopub.status.busy": "2022-07-20T19:18:59.274377Z",
          "iopub.status.idle": "2022-07-20T19:18:59.287368Z",
          "shell.execute_reply": "2022-07-20T19:18:59.286327Z"
        },
        "papermill": {
          "duration": 0.032077,
          "end_time": "2022-07-20T19:18:59.289300",
          "exception": false,
          "start_time": "2022-07-20T19:18:59.257223",
          "status": "completed"
        },
        "tags": [],
        "id": "71ca791c",
        "outputId": "7437ec35-f3f5-4389-d9a7-dedac358a4ba",
        "colab": {
          "base_uri": "https://localhost:8080/",
          "height": 206
        }
      },
      "outputs": [
        {
          "output_type": "execute_result",
          "data": {
            "text/plain": [
              "  unique_id       date  monthly_sales  monthly_revenue  monthly_mean_price  \\\n",
              "0  11-20949 2013-04-30            1.0              3.0                 3.0   \n",
              "1  11-20949 2013-05-31            4.0             12.0                 3.0   \n",
              "2  11-20949 2013-06-30           32.0             96.0                 3.0   \n",
              "3  11-20949 2013-07-31           45.0            135.0                 3.0   \n",
              "4  11-20949 2013-08-31           59.0            177.0                 3.0   \n",
              "\n",
              "   nr_days_with_sales  \n",
              "0                   1  \n",
              "1                   3  \n",
              "2                  14  \n",
              "3                  20  \n",
              "4                  25  "
            ],
            "text/html": [
              "\n",
              "  <div id=\"df-c0f72eea-e612-4f6a-b8ae-f74403c20f45\">\n",
              "    <div class=\"colab-df-container\">\n",
              "      <div>\n",
              "<style scoped>\n",
              "    .dataframe tbody tr th:only-of-type {\n",
              "        vertical-align: middle;\n",
              "    }\n",
              "\n",
              "    .dataframe tbody tr th {\n",
              "        vertical-align: top;\n",
              "    }\n",
              "\n",
              "    .dataframe thead th {\n",
              "        text-align: right;\n",
              "    }\n",
              "</style>\n",
              "<table border=\"1\" class=\"dataframe\">\n",
              "  <thead>\n",
              "    <tr style=\"text-align: right;\">\n",
              "      <th></th>\n",
              "      <th>unique_id</th>\n",
              "      <th>date</th>\n",
              "      <th>monthly_sales</th>\n",
              "      <th>monthly_revenue</th>\n",
              "      <th>monthly_mean_price</th>\n",
              "      <th>nr_days_with_sales</th>\n",
              "    </tr>\n",
              "  </thead>\n",
              "  <tbody>\n",
              "    <tr>\n",
              "      <th>0</th>\n",
              "      <td>11-20949</td>\n",
              "      <td>2013-04-30</td>\n",
              "      <td>1.0</td>\n",
              "      <td>3.0</td>\n",
              "      <td>3.0</td>\n",
              "      <td>1</td>\n",
              "    </tr>\n",
              "    <tr>\n",
              "      <th>1</th>\n",
              "      <td>11-20949</td>\n",
              "      <td>2013-05-31</td>\n",
              "      <td>4.0</td>\n",
              "      <td>12.0</td>\n",
              "      <td>3.0</td>\n",
              "      <td>3</td>\n",
              "    </tr>\n",
              "    <tr>\n",
              "      <th>2</th>\n",
              "      <td>11-20949</td>\n",
              "      <td>2013-06-30</td>\n",
              "      <td>32.0</td>\n",
              "      <td>96.0</td>\n",
              "      <td>3.0</td>\n",
              "      <td>14</td>\n",
              "    </tr>\n",
              "    <tr>\n",
              "      <th>3</th>\n",
              "      <td>11-20949</td>\n",
              "      <td>2013-07-31</td>\n",
              "      <td>45.0</td>\n",
              "      <td>135.0</td>\n",
              "      <td>3.0</td>\n",
              "      <td>20</td>\n",
              "    </tr>\n",
              "    <tr>\n",
              "      <th>4</th>\n",
              "      <td>11-20949</td>\n",
              "      <td>2013-08-31</td>\n",
              "      <td>59.0</td>\n",
              "      <td>177.0</td>\n",
              "      <td>3.0</td>\n",
              "      <td>25</td>\n",
              "    </tr>\n",
              "  </tbody>\n",
              "</table>\n",
              "</div>\n",
              "      <button class=\"colab-df-convert\" onclick=\"convertToInteractive('df-c0f72eea-e612-4f6a-b8ae-f74403c20f45')\"\n",
              "              title=\"Convert this dataframe to an interactive table.\"\n",
              "              style=\"display:none;\">\n",
              "        \n",
              "  <svg xmlns=\"http://www.w3.org/2000/svg\" height=\"24px\"viewBox=\"0 0 24 24\"\n",
              "       width=\"24px\">\n",
              "    <path d=\"M0 0h24v24H0V0z\" fill=\"none\"/>\n",
              "    <path d=\"M18.56 5.44l.94 2.06.94-2.06 2.06-.94-2.06-.94-.94-2.06-.94 2.06-2.06.94zm-11 1L8.5 8.5l.94-2.06 2.06-.94-2.06-.94L8.5 2.5l-.94 2.06-2.06.94zm10 10l.94 2.06.94-2.06 2.06-.94-2.06-.94-.94-2.06-.94 2.06-2.06.94z\"/><path d=\"M17.41 7.96l-1.37-1.37c-.4-.4-.92-.59-1.43-.59-.52 0-1.04.2-1.43.59L10.3 9.45l-7.72 7.72c-.78.78-.78 2.05 0 2.83L4 21.41c.39.39.9.59 1.41.59.51 0 1.02-.2 1.41-.59l7.78-7.78 2.81-2.81c.8-.78.8-2.07 0-2.86zM5.41 20L4 18.59l7.72-7.72 1.47 1.35L5.41 20z\"/>\n",
              "  </svg>\n",
              "      </button>\n",
              "      \n",
              "  <style>\n",
              "    .colab-df-container {\n",
              "      display:flex;\n",
              "      flex-wrap:wrap;\n",
              "      gap: 12px;\n",
              "    }\n",
              "\n",
              "    .colab-df-convert {\n",
              "      background-color: #E8F0FE;\n",
              "      border: none;\n",
              "      border-radius: 50%;\n",
              "      cursor: pointer;\n",
              "      display: none;\n",
              "      fill: #1967D2;\n",
              "      height: 32px;\n",
              "      padding: 0 0 0 0;\n",
              "      width: 32px;\n",
              "    }\n",
              "\n",
              "    .colab-df-convert:hover {\n",
              "      background-color: #E2EBFA;\n",
              "      box-shadow: 0px 1px 2px rgba(60, 64, 67, 0.3), 0px 1px 3px 1px rgba(60, 64, 67, 0.15);\n",
              "      fill: #174EA6;\n",
              "    }\n",
              "\n",
              "    [theme=dark] .colab-df-convert {\n",
              "      background-color: #3B4455;\n",
              "      fill: #D2E3FC;\n",
              "    }\n",
              "\n",
              "    [theme=dark] .colab-df-convert:hover {\n",
              "      background-color: #434B5C;\n",
              "      box-shadow: 0px 1px 3px 1px rgba(0, 0, 0, 0.15);\n",
              "      filter: drop-shadow(0px 1px 2px rgba(0, 0, 0, 0.3));\n",
              "      fill: #FFFFFF;\n",
              "    }\n",
              "  </style>\n",
              "\n",
              "      <script>\n",
              "        const buttonEl =\n",
              "          document.querySelector('#df-c0f72eea-e612-4f6a-b8ae-f74403c20f45 button.colab-df-convert');\n",
              "        buttonEl.style.display =\n",
              "          google.colab.kernel.accessAllowed ? 'block' : 'none';\n",
              "\n",
              "        async function convertToInteractive(key) {\n",
              "          const element = document.querySelector('#df-c0f72eea-e612-4f6a-b8ae-f74403c20f45');\n",
              "          const dataTable =\n",
              "            await google.colab.kernel.invokeFunction('convertToInteractive',\n",
              "                                                     [key], {});\n",
              "          if (!dataTable) return;\n",
              "\n",
              "          const docLinkHtml = 'Like what you see? Visit the ' +\n",
              "            '<a target=\"_blank\" href=https://colab.research.google.com/notebooks/data_table.ipynb>data table notebook</a>'\n",
              "            + ' to learn more about interactive tables.';\n",
              "          element.innerHTML = '';\n",
              "          dataTable['output_type'] = 'display_data';\n",
              "          await google.colab.output.renderOutput(dataTable, element);\n",
              "          const docLink = document.createElement('div');\n",
              "          docLink.innerHTML = docLinkHtml;\n",
              "          element.appendChild(docLink);\n",
              "        }\n",
              "      </script>\n",
              "    </div>\n",
              "  </div>\n",
              "  "
            ]
          },
          "metadata": {},
          "execution_count": 481
        }
      ],
      "source": [
        "gb_df.head()"
      ]
    },
    {
      "cell_type": "code",
      "execution_count": null,
      "id": "43ca04f3",
      "metadata": {
        "execution": {
          "iopub.execute_input": "2022-07-20T19:18:59.322734Z",
          "iopub.status.busy": "2022-07-20T19:18:59.322337Z",
          "iopub.status.idle": "2022-07-20T19:18:59.338344Z",
          "shell.execute_reply": "2022-07-20T19:18:59.336715Z"
        },
        "papermill": {
          "duration": 0.035202,
          "end_time": "2022-07-20T19:18:59.340245",
          "exception": false,
          "start_time": "2022-07-20T19:18:59.305043",
          "status": "completed"
        },
        "tags": [],
        "id": "43ca04f3",
        "outputId": "b76addf3-8ebc-4b8a-88d4-d83584f1a997",
        "colab": {
          "base_uri": "https://localhost:8080/"
        }
      },
      "outputs": [
        {
          "output_type": "stream",
          "name": "stdout",
          "text": [
            "(10166, 2)\n",
            "(10166, 6)\n"
          ]
        }
      ],
      "source": [
        "print(full_df.shape)\n",
        "full_df = pd.merge(\n",
        "    left = full_df,\n",
        "    right = gb_df,\n",
        "    how = \"left\",\n",
        "    on = [\"date\", \"unique_id\"]\n",
        ")\n",
        "print(full_df.shape)"
      ]
    },
    {
      "cell_type": "code",
      "execution_count": null,
      "id": "de72e6ad",
      "metadata": {
        "execution": {
          "iopub.execute_input": "2022-07-20T19:18:59.374139Z",
          "iopub.status.busy": "2022-07-20T19:18:59.373755Z",
          "iopub.status.idle": "2022-07-20T19:18:59.383495Z",
          "shell.execute_reply": "2022-07-20T19:18:59.382735Z"
        },
        "papermill": {
          "duration": 0.029049,
          "end_time": "2022-07-20T19:18:59.385408",
          "exception": false,
          "start_time": "2022-07-20T19:18:59.356359",
          "status": "completed"
        },
        "tags": [],
        "id": "de72e6ad",
        "outputId": "20647524-c5a8-4bf6-f58f-4da10361bd81",
        "colab": {
          "base_uri": "https://localhost:8080/"
        }
      },
      "outputs": [
        {
          "output_type": "execute_result",
          "data": {
            "text/plain": [
              "date                     0\n",
              "unique_id                0\n",
              "monthly_sales         1420\n",
              "monthly_revenue       1420\n",
              "monthly_mean_price    1700\n",
              "nr_days_with_sales    1420\n",
              "dtype: int64"
            ]
          },
          "metadata": {},
          "execution_count": 483
        }
      ],
      "source": [
        "full_df.isnull().sum()"
      ]
    },
    {
      "cell_type": "code",
      "execution_count": null,
      "id": "efc6ceb0",
      "metadata": {
        "execution": {
          "iopub.execute_input": "2022-07-20T19:18:59.419884Z",
          "iopub.status.busy": "2022-07-20T19:18:59.419277Z",
          "iopub.status.idle": "2022-07-20T19:18:59.428111Z",
          "shell.execute_reply": "2022-07-20T19:18:59.426596Z"
        },
        "papermill": {
          "duration": 0.027793,
          "end_time": "2022-07-20T19:18:59.429911",
          "exception": false,
          "start_time": "2022-07-20T19:18:59.402118",
          "status": "completed"
        },
        "tags": [],
        "id": "efc6ceb0"
      },
      "outputs": [],
      "source": [
        "full_df[\"monthly_sales\"].fillna(0, inplace = True)\n",
        "full_df[\"monthly_revenue\"].fillna(0, inplace = True)\n",
        "full_df[\"nr_days_with_sales\"].fillna(0, inplace = True)"
      ]
    },
    {
      "cell_type": "code",
      "execution_count": null,
      "id": "9ab10e52",
      "metadata": {
        "execution": {
          "iopub.execute_input": "2022-07-20T19:18:59.463808Z",
          "iopub.status.busy": "2022-07-20T19:18:59.463130Z",
          "iopub.status.idle": "2022-07-20T19:18:59.509034Z",
          "shell.execute_reply": "2022-07-20T19:18:59.507994Z"
        },
        "papermill": {
          "duration": 0.065081,
          "end_time": "2022-07-20T19:18:59.511121",
          "exception": false,
          "start_time": "2022-07-20T19:18:59.446040",
          "status": "completed"
        },
        "tags": [],
        "id": "9ab10e52",
        "outputId": "7ceefb93-a4b0-4a4f-8b07-2c6116537904",
        "colab": {
          "base_uri": "https://localhost:8080/"
        }
      },
      "outputs": [
        {
          "output_type": "execute_result",
          "data": {
            "text/plain": [
              "unique_id\n",
              "11-20949    4\n",
              "11-4181     8\n",
              "12-11365    1\n",
              "12-11369    1\n",
              "12-11370    1\n",
              "           ..\n",
              "6-5823      1\n",
              "6-7856      2\n",
              "7-17717     5\n",
              "7-20949     4\n",
              "7-5822      1\n",
              "Name: monthly_mean_price, Length: 299, dtype: int64"
            ]
          },
          "metadata": {},
          "execution_count": 485
        }
      ],
      "source": [
        "full_df.groupby(\"unique_id\")[\"monthly_mean_price\"].apply(lambda series: series.isnull().sum())"
      ]
    },
    {
      "cell_type": "code",
      "execution_count": null,
      "id": "54d054a5",
      "metadata": {
        "execution": {
          "iopub.execute_input": "2022-07-20T19:18:59.545063Z",
          "iopub.status.busy": "2022-07-20T19:18:59.544676Z",
          "iopub.status.idle": "2022-07-20T19:18:59.551933Z",
          "shell.execute_reply": "2022-07-20T19:18:59.550915Z"
        },
        "papermill": {
          "duration": 0.026514,
          "end_time": "2022-07-20T19:18:59.553816",
          "exception": false,
          "start_time": "2022-07-20T19:18:59.527302",
          "status": "completed"
        },
        "tags": [],
        "id": "54d054a5"
      },
      "outputs": [],
      "source": [
        "#sample_series = full_df[full_df[\"unique_id\"] == \"7-17717\"]"
      ]
    },
    {
      "cell_type": "code",
      "execution_count": null,
      "id": "8a0368b3",
      "metadata": {
        "execution": {
          "iopub.execute_input": "2022-07-20T19:18:59.588037Z",
          "iopub.status.busy": "2022-07-20T19:18:59.587642Z",
          "iopub.status.idle": "2022-07-20T19:18:59.609076Z",
          "shell.execute_reply": "2022-07-20T19:18:59.608329Z"
        },
        "papermill": {
          "duration": 0.040775,
          "end_time": "2022-07-20T19:18:59.611043",
          "exception": false,
          "start_time": "2022-07-20T19:18:59.570268",
          "status": "completed"
        },
        "tags": [],
        "id": "8a0368b3"
      },
      "outputs": [],
      "source": [
        "#sample_series"
      ]
    },
    {
      "cell_type": "code",
      "execution_count": null,
      "id": "7c8ffce7",
      "metadata": {
        "execution": {
          "iopub.execute_input": "2022-07-20T19:18:59.646130Z",
          "iopub.status.busy": "2022-07-20T19:18:59.645398Z",
          "iopub.status.idle": "2022-07-20T19:18:59.656438Z",
          "shell.execute_reply": "2022-07-20T19:18:59.655416Z"
        },
        "papermill": {
          "duration": 0.031059,
          "end_time": "2022-07-20T19:18:59.658743",
          "exception": false,
          "start_time": "2022-07-20T19:18:59.627684",
          "status": "completed"
        },
        "tags": [],
        "id": "7c8ffce7"
      },
      "outputs": [],
      "source": [
        "#sample_series[\"monthly_mean_price\"].interpolate()"
      ]
    },
    {
      "cell_type": "code",
      "execution_count": null,
      "id": "6bbd9064",
      "metadata": {
        "execution": {
          "iopub.execute_input": "2022-07-20T19:18:59.694350Z",
          "iopub.status.busy": "2022-07-20T19:18:59.693676Z",
          "iopub.status.idle": "2022-07-20T19:18:59.724543Z",
          "shell.execute_reply": "2022-07-20T19:18:59.723268Z"
        },
        "papermill": {
          "duration": 0.050774,
          "end_time": "2022-07-20T19:18:59.726540",
          "exception": false,
          "start_time": "2022-07-20T19:18:59.675766",
          "status": "completed"
        },
        "tags": [],
        "id": "6bbd9064",
        "outputId": "0e5c8bf1-db6d-40ca-b5a4-bed2f015ff9a",
        "colab": {
          "base_uri": "https://localhost:8080/",
          "height": 53
        }
      },
      "outputs": [
        {
          "output_type": "execute_result",
          "data": {
            "text/plain": [
              "'\\nsample_series[\"monthly_mean_price_imputed_1\"] = sample_series[\"monthly_mean_price\"].fillna(sample_series[\"monthly_mean_price\"].mean())\\nsample_series[\"monthly_mean_price_imputed_2\"] = sample_series[\"monthly_mean_price\"].bfill()\\nsample_series[\"monthly_mean_price_imputed_3\"] = sample_series[\"monthly_mean_price\"].ffill()\\nsample_series\\n'"
            ],
            "application/vnd.google.colaboratory.intrinsic+json": {
              "type": "string"
            }
          },
          "metadata": {},
          "execution_count": 489
        }
      ],
      "source": [
        "'''\n",
        "sample_series[\"monthly_mean_price_imputed_1\"] = sample_series[\"monthly_mean_price\"].fillna(sample_series[\"monthly_mean_price\"].mean())\n",
        "sample_series[\"monthly_mean_price_imputed_2\"] = sample_series[\"monthly_mean_price\"].bfill()\n",
        "sample_series[\"monthly_mean_price_imputed_3\"] = sample_series[\"monthly_mean_price\"].ffill()\n",
        "sample_series\n",
        "'''"
      ]
    },
    {
      "cell_type": "code",
      "execution_count": null,
      "id": "79cd8877",
      "metadata": {
        "execution": {
          "iopub.execute_input": "2022-07-20T19:18:59.763284Z",
          "iopub.status.busy": "2022-07-20T19:18:59.762565Z",
          "iopub.status.idle": "2022-07-20T19:18:59.767173Z",
          "shell.execute_reply": "2022-07-20T19:18:59.766375Z"
        },
        "papermill": {
          "duration": 0.025075,
          "end_time": "2022-07-20T19:18:59.769059",
          "exception": false,
          "start_time": "2022-07-20T19:18:59.743984",
          "status": "completed"
        },
        "tags": [],
        "id": "79cd8877"
      },
      "outputs": [],
      "source": [
        "#gb_df_ = full_df.groupby([\"unique_id\"])"
      ]
    },
    {
      "cell_type": "code",
      "execution_count": null,
      "id": "14f5d028",
      "metadata": {
        "execution": {
          "iopub.execute_input": "2022-07-20T19:18:59.854822Z",
          "iopub.status.busy": "2022-07-20T19:18:59.854146Z",
          "iopub.status.idle": "2022-07-20T19:18:59.874788Z",
          "shell.execute_reply": "2022-07-20T19:18:59.873995Z"
        },
        "papermill": {
          "duration": 0.041627,
          "end_time": "2022-07-20T19:18:59.876744",
          "exception": false,
          "start_time": "2022-07-20T19:18:59.835117",
          "status": "completed"
        },
        "tags": [],
        "id": "14f5d028"
      },
      "outputs": [],
      "source": [
        "#gb_df_.get_group((\"7-17717\"))"
      ]
    },
    {
      "cell_type": "code",
      "execution_count": null,
      "id": "470e4448",
      "metadata": {
        "execution": {
          "iopub.execute_input": "2022-07-20T19:18:59.914829Z",
          "iopub.status.busy": "2022-07-20T19:18:59.914151Z",
          "iopub.status.idle": "2022-07-20T19:18:59.917870Z",
          "shell.execute_reply": "2022-07-20T19:18:59.917133Z"
        },
        "papermill": {
          "duration": 0.02485,
          "end_time": "2022-07-20T19:18:59.919648",
          "exception": false,
          "start_time": "2022-07-20T19:18:59.894798",
          "status": "completed"
        },
        "tags": [],
        "id": "470e4448"
      },
      "outputs": [],
      "source": [
        "# sample, reordeno el df\n",
        "# guardo var temporal y necesito 2 líneas de código"
      ]
    },
    {
      "cell_type": "code",
      "execution_count": null,
      "id": "f48af074",
      "metadata": {
        "execution": {
          "iopub.execute_input": "2022-07-20T19:18:59.957627Z",
          "iopub.status.busy": "2022-07-20T19:18:59.956981Z",
          "iopub.status.idle": "2022-07-20T19:18:59.963638Z",
          "shell.execute_reply": "2022-07-20T19:18:59.962879Z"
        },
        "papermill": {
          "duration": 0.027811,
          "end_time": "2022-07-20T19:18:59.965467",
          "exception": false,
          "start_time": "2022-07-20T19:18:59.937656",
          "status": "completed"
        },
        "tags": [],
        "id": "f48af074"
      },
      "outputs": [],
      "source": [
        "full_df[\"imputed_mean_monthly_price\"] = full_df.groupby(\"unique_id\")[\"monthly_mean_price\"].bfill().ffill()"
      ]
    },
    {
      "cell_type": "code",
      "execution_count": null,
      "id": "0c899faf",
      "metadata": {
        "execution": {
          "iopub.execute_input": "2022-07-20T19:19:00.047336Z",
          "iopub.status.busy": "2022-07-20T19:19:00.046711Z",
          "iopub.status.idle": "2022-07-20T19:19:00.050193Z",
          "shell.execute_reply": "2022-07-20T19:19:00.049530Z"
        },
        "papermill": {
          "duration": 0.024823,
          "end_time": "2022-07-20T19:19:00.052227",
          "exception": false,
          "start_time": "2022-07-20T19:19:00.027404",
          "status": "completed"
        },
        "tags": [],
        "id": "0c899faf"
      },
      "outputs": [],
      "source": [
        "# lambda"
      ]
    },
    {
      "cell_type": "code",
      "execution_count": null,
      "id": "64793fe1",
      "metadata": {
        "execution": {
          "iopub.execute_input": "2022-07-20T19:19:00.090309Z",
          "iopub.status.busy": "2022-07-20T19:19:00.089923Z",
          "iopub.status.idle": "2022-07-20T19:19:00.184881Z",
          "shell.execute_reply": "2022-07-20T19:19:00.184088Z"
        },
        "papermill": {
          "duration": 0.116771,
          "end_time": "2022-07-20T19:19:00.187044",
          "exception": false,
          "start_time": "2022-07-20T19:19:00.070273",
          "status": "completed"
        },
        "tags": [],
        "id": "64793fe1",
        "colab": {
          "base_uri": "https://localhost:8080/",
          "height": 36
        },
        "outputId": "1db5efe9-bf16-4df3-eebe-2c053a824ccf"
      },
      "outputs": [
        {
          "output_type": "execute_result",
          "data": {
            "text/plain": [
              "'\\nfull_df[\"imputed_mean_monthly_price_2\"] = full_df.groupby([\"unique_id\"])[\"monthly_mean_price\"].transform(\\n    lambda series: series.bfill().ffill()\\n)\\n'"
            ],
            "application/vnd.google.colaboratory.intrinsic+json": {
              "type": "string"
            }
          },
          "metadata": {},
          "execution_count": 495
        }
      ],
      "source": [
        "'''\n",
        "full_df[\"imputed_mean_monthly_price_2\"] = full_df.groupby([\"unique_id\"])[\"monthly_mean_price\"].transform(\n",
        "    lambda series: series.bfill().ffill()\n",
        ")\n",
        "'''"
      ]
    },
    {
      "cell_type": "code",
      "execution_count": null,
      "id": "4c57640c",
      "metadata": {
        "execution": {
          "iopub.execute_input": "2022-07-20T19:19:00.269267Z",
          "iopub.status.busy": "2022-07-20T19:19:00.268600Z",
          "iopub.status.idle": "2022-07-20T19:19:00.273660Z",
          "shell.execute_reply": "2022-07-20T19:19:00.272616Z"
        },
        "papermill": {
          "duration": 0.026334,
          "end_time": "2022-07-20T19:19:00.275650",
          "exception": false,
          "start_time": "2022-07-20T19:19:00.249316",
          "status": "completed"
        },
        "tags": [],
        "id": "4c57640c",
        "colab": {
          "base_uri": "https://localhost:8080/",
          "height": 36
        },
        "outputId": "a5f80cca-9d2a-439e-efbb-ebd2eb61de13"
      },
      "outputs": [
        {
          "output_type": "execute_result",
          "data": {
            "text/plain": [
              "'\\ndef bfill_ffill_pandas_series(series):\\n    return series.bfill().ffill()\\n'"
            ],
            "application/vnd.google.colaboratory.intrinsic+json": {
              "type": "string"
            }
          },
          "metadata": {},
          "execution_count": 497
        }
      ],
      "source": [
        "'''\n",
        "def bfill_ffill_pandas_series(series):\n",
        "    return series.bfill().ffill()\n",
        "'''"
      ]
    },
    {
      "cell_type": "code",
      "execution_count": null,
      "id": "fa22eea3",
      "metadata": {
        "execution": {
          "iopub.execute_input": "2022-07-20T19:19:00.313840Z",
          "iopub.status.busy": "2022-07-20T19:19:00.313074Z",
          "iopub.status.idle": "2022-07-20T19:19:00.322318Z",
          "shell.execute_reply": "2022-07-20T19:19:00.321400Z"
        },
        "papermill": {
          "duration": 0.030207,
          "end_time": "2022-07-20T19:19:00.324170",
          "exception": false,
          "start_time": "2022-07-20T19:19:00.293963",
          "status": "completed"
        },
        "tags": [],
        "id": "fa22eea3"
      },
      "outputs": [],
      "source": [
        "#bfill_ffill_pandas_series(gb_df_.get_group((\"7-17717\"))[\"monthly_mean_price\"])"
      ]
    },
    {
      "cell_type": "code",
      "execution_count": null,
      "id": "8bbfce28",
      "metadata": {
        "execution": {
          "iopub.execute_input": "2022-07-20T19:19:00.362876Z",
          "iopub.status.busy": "2022-07-20T19:19:00.361883Z",
          "iopub.status.idle": "2022-07-20T19:19:00.446812Z",
          "shell.execute_reply": "2022-07-20T19:19:00.445694Z"
        },
        "papermill": {
          "duration": 0.106687,
          "end_time": "2022-07-20T19:19:00.449144",
          "exception": false,
          "start_time": "2022-07-20T19:19:00.342457",
          "status": "completed"
        },
        "tags": [],
        "id": "8bbfce28",
        "colab": {
          "base_uri": "https://localhost:8080/",
          "height": 36
        },
        "outputId": "3c3ced6d-3086-4ab7-f085-7579643846d0"
      },
      "outputs": [
        {
          "output_type": "execute_result",
          "data": {
            "text/plain": [
              "'\\nfull_df[\"imputed_mean_monthly_price_3\"] = full_df.groupby([\"unique_id\"])[\"monthly_mean_price\"].transform(\\n    bfill_ffill_pandas_series\\n)\\n'"
            ],
            "application/vnd.google.colaboratory.intrinsic+json": {
              "type": "string"
            }
          },
          "metadata": {},
          "execution_count": 499
        }
      ],
      "source": [
        "'''\n",
        "full_df[\"imputed_mean_monthly_price_3\"] = full_df.groupby([\"unique_id\"])[\"monthly_mean_price\"].transform(\n",
        "    bfill_ffill_pandas_series\n",
        ")\n",
        "'''"
      ]
    },
    {
      "cell_type": "code",
      "execution_count": null,
      "id": "164c5994",
      "metadata": {
        "execution": {
          "iopub.execute_input": "2022-07-20T19:19:00.487077Z",
          "iopub.status.busy": "2022-07-20T19:19:00.486718Z",
          "iopub.status.idle": "2022-07-20T19:19:00.496461Z",
          "shell.execute_reply": "2022-07-20T19:19:00.495510Z"
        },
        "papermill": {
          "duration": 0.031127,
          "end_time": "2022-07-20T19:19:00.498432",
          "exception": false,
          "start_time": "2022-07-20T19:19:00.467305",
          "status": "completed"
        },
        "tags": [],
        "id": "164c5994",
        "outputId": "2e86b527-8a6e-43c0-c96b-1032fd4c81f5",
        "colab": {
          "base_uri": "https://localhost:8080/"
        }
      },
      "outputs": [
        {
          "output_type": "execute_result",
          "data": {
            "text/plain": [
              "date                             0\n",
              "unique_id                        0\n",
              "monthly_sales                    0\n",
              "monthly_revenue                  0\n",
              "monthly_mean_price            1700\n",
              "nr_days_with_sales               0\n",
              "imputed_mean_monthly_price       0\n",
              "dtype: int64"
            ]
          },
          "metadata": {},
          "execution_count": 500
        }
      ],
      "source": [
        "full_df.isnull().sum()"
      ]
    },
    {
      "cell_type": "code",
      "execution_count": null,
      "id": "cfedead3",
      "metadata": {
        "execution": {
          "iopub.execute_input": "2022-07-20T19:19:00.536451Z",
          "iopub.status.busy": "2022-07-20T19:19:00.536078Z",
          "iopub.status.idle": "2022-07-20T19:19:00.554325Z",
          "shell.execute_reply": "2022-07-20T19:19:00.552994Z"
        },
        "papermill": {
          "duration": 0.039967,
          "end_time": "2022-07-20T19:19:00.556693",
          "exception": false,
          "start_time": "2022-07-20T19:19:00.516726",
          "status": "completed"
        },
        "tags": [],
        "id": "cfedead3",
        "outputId": "0b932b0f-7653-4d54-b75d-00f93635c47a",
        "colab": {
          "base_uri": "https://localhost:8080/",
          "height": 510
        }
      },
      "outputs": [
        {
          "output_type": "execute_result",
          "data": {
            "text/plain": [
              "        date   city  shop_id           shop_name  item_category_id  \\\n",
              "0 2013-01-03  Moscú       25  Moscú SEC \"Atrium\"                55   \n",
              "1 2013-01-05  Moscú       25  Moscú SEC \"Atrium\"                55   \n",
              "2 2013-01-07  Moscú       25  Moscú SEC \"Atrium\"                55   \n",
              "3 2013-01-08  Moscú       25  Moscú SEC \"Atrium\"                55   \n",
              "4 2013-01-10  Moscú       25  Moscú SEC \"Atrium\"                55   \n",
              "\n",
              "                   item_category_name  item_id  \\\n",
              "0  Música - CD de la producción local     2574   \n",
              "1  Música - CD de la producción local     2574   \n",
              "2  Música - CD de la producción local     2574   \n",
              "3  Música - CD de la producción local     2574   \n",
              "4  Música - CD de la producción local     2574   \n",
              "\n",
              "                                           item_name unique_id  item_price  \\\n",
              "0  Del Rey Lana Nació para morir la edición de Pa...   25-2574       399.0   \n",
              "1  Del Rey Lana Nació para morir la edición de Pa...   25-2574       399.0   \n",
              "2  Del Rey Lana Nació para morir la edición de Pa...   25-2574       399.0   \n",
              "3  Del Rey Lana Nació para morir la edición de Pa...   25-2574       399.0   \n",
              "4  Del Rey Lana Nació para morir la edición de Pa...   25-2574       399.0   \n",
              "\n",
              "   item_cnt_day  city_id  revenue  YEAR  MONTH  item_cnt_day2  \n",
              "0           2.0        7    798.0  2013      1            2.0  \n",
              "1           1.0        7    399.0  2013      1            1.0  \n",
              "2           1.0        7    399.0  2013      1            1.0  \n",
              "3           2.0        7    798.0  2013      1            2.0  \n",
              "4           1.0        7    399.0  2013      1            1.0  "
            ],
            "text/html": [
              "\n",
              "  <div id=\"df-9552f649-b64b-433c-a0d9-9a1102b94ed5\">\n",
              "    <div class=\"colab-df-container\">\n",
              "      <div>\n",
              "<style scoped>\n",
              "    .dataframe tbody tr th:only-of-type {\n",
              "        vertical-align: middle;\n",
              "    }\n",
              "\n",
              "    .dataframe tbody tr th {\n",
              "        vertical-align: top;\n",
              "    }\n",
              "\n",
              "    .dataframe thead th {\n",
              "        text-align: right;\n",
              "    }\n",
              "</style>\n",
              "<table border=\"1\" class=\"dataframe\">\n",
              "  <thead>\n",
              "    <tr style=\"text-align: right;\">\n",
              "      <th></th>\n",
              "      <th>date</th>\n",
              "      <th>city</th>\n",
              "      <th>shop_id</th>\n",
              "      <th>shop_name</th>\n",
              "      <th>item_category_id</th>\n",
              "      <th>item_category_name</th>\n",
              "      <th>item_id</th>\n",
              "      <th>item_name</th>\n",
              "      <th>unique_id</th>\n",
              "      <th>item_price</th>\n",
              "      <th>item_cnt_day</th>\n",
              "      <th>city_id</th>\n",
              "      <th>revenue</th>\n",
              "      <th>YEAR</th>\n",
              "      <th>MONTH</th>\n",
              "      <th>item_cnt_day2</th>\n",
              "    </tr>\n",
              "  </thead>\n",
              "  <tbody>\n",
              "    <tr>\n",
              "      <th>0</th>\n",
              "      <td>2013-01-03</td>\n",
              "      <td>Moscú</td>\n",
              "      <td>25</td>\n",
              "      <td>Moscú SEC \"Atrium\"</td>\n",
              "      <td>55</td>\n",
              "      <td>Música - CD de la producción local</td>\n",
              "      <td>2574</td>\n",
              "      <td>Del Rey Lana Nació para morir la edición de Pa...</td>\n",
              "      <td>25-2574</td>\n",
              "      <td>399.0</td>\n",
              "      <td>2.0</td>\n",
              "      <td>7</td>\n",
              "      <td>798.0</td>\n",
              "      <td>2013</td>\n",
              "      <td>1</td>\n",
              "      <td>2.0</td>\n",
              "    </tr>\n",
              "    <tr>\n",
              "      <th>1</th>\n",
              "      <td>2013-01-05</td>\n",
              "      <td>Moscú</td>\n",
              "      <td>25</td>\n",
              "      <td>Moscú SEC \"Atrium\"</td>\n",
              "      <td>55</td>\n",
              "      <td>Música - CD de la producción local</td>\n",
              "      <td>2574</td>\n",
              "      <td>Del Rey Lana Nació para morir la edición de Pa...</td>\n",
              "      <td>25-2574</td>\n",
              "      <td>399.0</td>\n",
              "      <td>1.0</td>\n",
              "      <td>7</td>\n",
              "      <td>399.0</td>\n",
              "      <td>2013</td>\n",
              "      <td>1</td>\n",
              "      <td>1.0</td>\n",
              "    </tr>\n",
              "    <tr>\n",
              "      <th>2</th>\n",
              "      <td>2013-01-07</td>\n",
              "      <td>Moscú</td>\n",
              "      <td>25</td>\n",
              "      <td>Moscú SEC \"Atrium\"</td>\n",
              "      <td>55</td>\n",
              "      <td>Música - CD de la producción local</td>\n",
              "      <td>2574</td>\n",
              "      <td>Del Rey Lana Nació para morir la edición de Pa...</td>\n",
              "      <td>25-2574</td>\n",
              "      <td>399.0</td>\n",
              "      <td>1.0</td>\n",
              "      <td>7</td>\n",
              "      <td>399.0</td>\n",
              "      <td>2013</td>\n",
              "      <td>1</td>\n",
              "      <td>1.0</td>\n",
              "    </tr>\n",
              "    <tr>\n",
              "      <th>3</th>\n",
              "      <td>2013-01-08</td>\n",
              "      <td>Moscú</td>\n",
              "      <td>25</td>\n",
              "      <td>Moscú SEC \"Atrium\"</td>\n",
              "      <td>55</td>\n",
              "      <td>Música - CD de la producción local</td>\n",
              "      <td>2574</td>\n",
              "      <td>Del Rey Lana Nació para morir la edición de Pa...</td>\n",
              "      <td>25-2574</td>\n",
              "      <td>399.0</td>\n",
              "      <td>2.0</td>\n",
              "      <td>7</td>\n",
              "      <td>798.0</td>\n",
              "      <td>2013</td>\n",
              "      <td>1</td>\n",
              "      <td>2.0</td>\n",
              "    </tr>\n",
              "    <tr>\n",
              "      <th>4</th>\n",
              "      <td>2013-01-10</td>\n",
              "      <td>Moscú</td>\n",
              "      <td>25</td>\n",
              "      <td>Moscú SEC \"Atrium\"</td>\n",
              "      <td>55</td>\n",
              "      <td>Música - CD de la producción local</td>\n",
              "      <td>2574</td>\n",
              "      <td>Del Rey Lana Nació para morir la edición de Pa...</td>\n",
              "      <td>25-2574</td>\n",
              "      <td>399.0</td>\n",
              "      <td>1.0</td>\n",
              "      <td>7</td>\n",
              "      <td>399.0</td>\n",
              "      <td>2013</td>\n",
              "      <td>1</td>\n",
              "      <td>1.0</td>\n",
              "    </tr>\n",
              "  </tbody>\n",
              "</table>\n",
              "</div>\n",
              "      <button class=\"colab-df-convert\" onclick=\"convertToInteractive('df-9552f649-b64b-433c-a0d9-9a1102b94ed5')\"\n",
              "              title=\"Convert this dataframe to an interactive table.\"\n",
              "              style=\"display:none;\">\n",
              "        \n",
              "  <svg xmlns=\"http://www.w3.org/2000/svg\" height=\"24px\"viewBox=\"0 0 24 24\"\n",
              "       width=\"24px\">\n",
              "    <path d=\"M0 0h24v24H0V0z\" fill=\"none\"/>\n",
              "    <path d=\"M18.56 5.44l.94 2.06.94-2.06 2.06-.94-2.06-.94-.94-2.06-.94 2.06-2.06.94zm-11 1L8.5 8.5l.94-2.06 2.06-.94-2.06-.94L8.5 2.5l-.94 2.06-2.06.94zm10 10l.94 2.06.94-2.06 2.06-.94-2.06-.94-.94-2.06-.94 2.06-2.06.94z\"/><path d=\"M17.41 7.96l-1.37-1.37c-.4-.4-.92-.59-1.43-.59-.52 0-1.04.2-1.43.59L10.3 9.45l-7.72 7.72c-.78.78-.78 2.05 0 2.83L4 21.41c.39.39.9.59 1.41.59.51 0 1.02-.2 1.41-.59l7.78-7.78 2.81-2.81c.8-.78.8-2.07 0-2.86zM5.41 20L4 18.59l7.72-7.72 1.47 1.35L5.41 20z\"/>\n",
              "  </svg>\n",
              "      </button>\n",
              "      \n",
              "  <style>\n",
              "    .colab-df-container {\n",
              "      display:flex;\n",
              "      flex-wrap:wrap;\n",
              "      gap: 12px;\n",
              "    }\n",
              "\n",
              "    .colab-df-convert {\n",
              "      background-color: #E8F0FE;\n",
              "      border: none;\n",
              "      border-radius: 50%;\n",
              "      cursor: pointer;\n",
              "      display: none;\n",
              "      fill: #1967D2;\n",
              "      height: 32px;\n",
              "      padding: 0 0 0 0;\n",
              "      width: 32px;\n",
              "    }\n",
              "\n",
              "    .colab-df-convert:hover {\n",
              "      background-color: #E2EBFA;\n",
              "      box-shadow: 0px 1px 2px rgba(60, 64, 67, 0.3), 0px 1px 3px 1px rgba(60, 64, 67, 0.15);\n",
              "      fill: #174EA6;\n",
              "    }\n",
              "\n",
              "    [theme=dark] .colab-df-convert {\n",
              "      background-color: #3B4455;\n",
              "      fill: #D2E3FC;\n",
              "    }\n",
              "\n",
              "    [theme=dark] .colab-df-convert:hover {\n",
              "      background-color: #434B5C;\n",
              "      box-shadow: 0px 1px 3px 1px rgba(0, 0, 0, 0.15);\n",
              "      filter: drop-shadow(0px 1px 2px rgba(0, 0, 0, 0.3));\n",
              "      fill: #FFFFFF;\n",
              "    }\n",
              "  </style>\n",
              "\n",
              "      <script>\n",
              "        const buttonEl =\n",
              "          document.querySelector('#df-9552f649-b64b-433c-a0d9-9a1102b94ed5 button.colab-df-convert');\n",
              "        buttonEl.style.display =\n",
              "          google.colab.kernel.accessAllowed ? 'block' : 'none';\n",
              "\n",
              "        async function convertToInteractive(key) {\n",
              "          const element = document.querySelector('#df-9552f649-b64b-433c-a0d9-9a1102b94ed5');\n",
              "          const dataTable =\n",
              "            await google.colab.kernel.invokeFunction('convertToInteractive',\n",
              "                                                     [key], {});\n",
              "          if (!dataTable) return;\n",
              "\n",
              "          const docLinkHtml = 'Like what you see? Visit the ' +\n",
              "            '<a target=\"_blank\" href=https://colab.research.google.com/notebooks/data_table.ipynb>data table notebook</a>'\n",
              "            + ' to learn more about interactive tables.';\n",
              "          element.innerHTML = '';\n",
              "          dataTable['output_type'] = 'display_data';\n",
              "          await google.colab.output.renderOutput(dataTable, element);\n",
              "          const docLink = document.createElement('div');\n",
              "          docLink.innerHTML = docLinkHtml;\n",
              "          element.appendChild(docLink);\n",
              "        }\n",
              "      </script>\n",
              "    </div>\n",
              "  </div>\n",
              "  "
            ]
          },
          "metadata": {},
          "execution_count": 501
        }
      ],
      "source": [
        "df.head()"
      ]
    },
    {
      "cell_type": "code",
      "execution_count": null,
      "id": "f4caae1b",
      "metadata": {
        "execution": {
          "iopub.execute_input": "2022-07-20T19:19:00.596057Z",
          "iopub.status.busy": "2022-07-20T19:19:00.595333Z",
          "iopub.status.idle": "2022-07-20T19:19:00.677217Z",
          "shell.execute_reply": "2022-07-20T19:19:00.675933Z"
        },
        "papermill": {
          "duration": 0.103567,
          "end_time": "2022-07-20T19:19:00.679429",
          "exception": false,
          "start_time": "2022-07-20T19:19:00.575862",
          "status": "completed"
        },
        "tags": [],
        "id": "f4caae1b",
        "outputId": "13d47862-2631-474b-e095-c6d928697c62",
        "colab": {
          "base_uri": "https://localhost:8080/",
          "height": 241
        }
      },
      "outputs": [
        {
          "output_type": "stream",
          "name": "stdout",
          "text": [
            "(10166, 6)\n",
            "(299, 9)\n"
          ]
        },
        {
          "output_type": "execute_result",
          "data": {
            "text/plain": [
              "   unique_id   city  city_id           shop_name  shop_id  \\\n",
              "0    25-2574  Moscú        7  Moscú SEC \"Atrium\"       25   \n",
              "10   25-2808  Moscú        7  Moscú SEC \"Atrium\"       25   \n",
              "28   25-2308  Moscú        7  Moscú SEC \"Atrium\"       25   \n",
              "48   25-5821  Moscú        7  Moscú SEC \"Atrium\"       25   \n",
              "49   25-5822  Moscú        7  Moscú SEC \"Atrium\"       25   \n",
              "\n",
              "                    item_category_name  item_category_id  \\\n",
              "0   Música - CD de la producción local                55   \n",
              "10        Juegos PC - Standard Edition                30   \n",
              "28        Juegos PC - Standard Edition                30   \n",
              "48          Las tarjetas de pago - PSN                35   \n",
              "49          Las tarjetas de pago - PSN                35   \n",
              "\n",
              "                                            item_name  item_id  \n",
              "0   Del Rey Lana Nació para morir la edición de Pa...     2574  \n",
              "10               Diablo III [PC, JEWEL, versión rusa]     2808  \n",
              "28  Call of Duty: Black Ops II [PC, Jewel, versión...     2308  \n",
              "48  Suscripción de PlayStation Plus 3 meses: Tarje...     5821  \n",
              "49  PlayStation Tienda Reposición de la billetera:...     5822  "
            ],
            "text/html": [
              "\n",
              "  <div id=\"df-f62cbf40-54e7-4e56-a773-e4e462772166\">\n",
              "    <div class=\"colab-df-container\">\n",
              "      <div>\n",
              "<style scoped>\n",
              "    .dataframe tbody tr th:only-of-type {\n",
              "        vertical-align: middle;\n",
              "    }\n",
              "\n",
              "    .dataframe tbody tr th {\n",
              "        vertical-align: top;\n",
              "    }\n",
              "\n",
              "    .dataframe thead th {\n",
              "        text-align: right;\n",
              "    }\n",
              "</style>\n",
              "<table border=\"1\" class=\"dataframe\">\n",
              "  <thead>\n",
              "    <tr style=\"text-align: right;\">\n",
              "      <th></th>\n",
              "      <th>unique_id</th>\n",
              "      <th>city</th>\n",
              "      <th>city_id</th>\n",
              "      <th>shop_name</th>\n",
              "      <th>shop_id</th>\n",
              "      <th>item_category_name</th>\n",
              "      <th>item_category_id</th>\n",
              "      <th>item_name</th>\n",
              "      <th>item_id</th>\n",
              "    </tr>\n",
              "  </thead>\n",
              "  <tbody>\n",
              "    <tr>\n",
              "      <th>0</th>\n",
              "      <td>25-2574</td>\n",
              "      <td>Moscú</td>\n",
              "      <td>7</td>\n",
              "      <td>Moscú SEC \"Atrium\"</td>\n",
              "      <td>25</td>\n",
              "      <td>Música - CD de la producción local</td>\n",
              "      <td>55</td>\n",
              "      <td>Del Rey Lana Nació para morir la edición de Pa...</td>\n",
              "      <td>2574</td>\n",
              "    </tr>\n",
              "    <tr>\n",
              "      <th>10</th>\n",
              "      <td>25-2808</td>\n",
              "      <td>Moscú</td>\n",
              "      <td>7</td>\n",
              "      <td>Moscú SEC \"Atrium\"</td>\n",
              "      <td>25</td>\n",
              "      <td>Juegos PC - Standard Edition</td>\n",
              "      <td>30</td>\n",
              "      <td>Diablo III [PC, JEWEL, versión rusa]</td>\n",
              "      <td>2808</td>\n",
              "    </tr>\n",
              "    <tr>\n",
              "      <th>28</th>\n",
              "      <td>25-2308</td>\n",
              "      <td>Moscú</td>\n",
              "      <td>7</td>\n",
              "      <td>Moscú SEC \"Atrium\"</td>\n",
              "      <td>25</td>\n",
              "      <td>Juegos PC - Standard Edition</td>\n",
              "      <td>30</td>\n",
              "      <td>Call of Duty: Black Ops II [PC, Jewel, versión...</td>\n",
              "      <td>2308</td>\n",
              "    </tr>\n",
              "    <tr>\n",
              "      <th>48</th>\n",
              "      <td>25-5821</td>\n",
              "      <td>Moscú</td>\n",
              "      <td>7</td>\n",
              "      <td>Moscú SEC \"Atrium\"</td>\n",
              "      <td>25</td>\n",
              "      <td>Las tarjetas de pago - PSN</td>\n",
              "      <td>35</td>\n",
              "      <td>Suscripción de PlayStation Plus 3 meses: Tarje...</td>\n",
              "      <td>5821</td>\n",
              "    </tr>\n",
              "    <tr>\n",
              "      <th>49</th>\n",
              "      <td>25-5822</td>\n",
              "      <td>Moscú</td>\n",
              "      <td>7</td>\n",
              "      <td>Moscú SEC \"Atrium\"</td>\n",
              "      <td>25</td>\n",
              "      <td>Las tarjetas de pago - PSN</td>\n",
              "      <td>35</td>\n",
              "      <td>PlayStation Tienda Reposición de la billetera:...</td>\n",
              "      <td>5822</td>\n",
              "    </tr>\n",
              "  </tbody>\n",
              "</table>\n",
              "</div>\n",
              "      <button class=\"colab-df-convert\" onclick=\"convertToInteractive('df-f62cbf40-54e7-4e56-a773-e4e462772166')\"\n",
              "              title=\"Convert this dataframe to an interactive table.\"\n",
              "              style=\"display:none;\">\n",
              "        \n",
              "  <svg xmlns=\"http://www.w3.org/2000/svg\" height=\"24px\"viewBox=\"0 0 24 24\"\n",
              "       width=\"24px\">\n",
              "    <path d=\"M0 0h24v24H0V0z\" fill=\"none\"/>\n",
              "    <path d=\"M18.56 5.44l.94 2.06.94-2.06 2.06-.94-2.06-.94-.94-2.06-.94 2.06-2.06.94zm-11 1L8.5 8.5l.94-2.06 2.06-.94-2.06-.94L8.5 2.5l-.94 2.06-2.06.94zm10 10l.94 2.06.94-2.06 2.06-.94-2.06-.94-.94-2.06-.94 2.06-2.06.94z\"/><path d=\"M17.41 7.96l-1.37-1.37c-.4-.4-.92-.59-1.43-.59-.52 0-1.04.2-1.43.59L10.3 9.45l-7.72 7.72c-.78.78-.78 2.05 0 2.83L4 21.41c.39.39.9.59 1.41.59.51 0 1.02-.2 1.41-.59l7.78-7.78 2.81-2.81c.8-.78.8-2.07 0-2.86zM5.41 20L4 18.59l7.72-7.72 1.47 1.35L5.41 20z\"/>\n",
              "  </svg>\n",
              "      </button>\n",
              "      \n",
              "  <style>\n",
              "    .colab-df-container {\n",
              "      display:flex;\n",
              "      flex-wrap:wrap;\n",
              "      gap: 12px;\n",
              "    }\n",
              "\n",
              "    .colab-df-convert {\n",
              "      background-color: #E8F0FE;\n",
              "      border: none;\n",
              "      border-radius: 50%;\n",
              "      cursor: pointer;\n",
              "      display: none;\n",
              "      fill: #1967D2;\n",
              "      height: 32px;\n",
              "      padding: 0 0 0 0;\n",
              "      width: 32px;\n",
              "    }\n",
              "\n",
              "    .colab-df-convert:hover {\n",
              "      background-color: #E2EBFA;\n",
              "      box-shadow: 0px 1px 2px rgba(60, 64, 67, 0.3), 0px 1px 3px 1px rgba(60, 64, 67, 0.15);\n",
              "      fill: #174EA6;\n",
              "    }\n",
              "\n",
              "    [theme=dark] .colab-df-convert {\n",
              "      background-color: #3B4455;\n",
              "      fill: #D2E3FC;\n",
              "    }\n",
              "\n",
              "    [theme=dark] .colab-df-convert:hover {\n",
              "      background-color: #434B5C;\n",
              "      box-shadow: 0px 1px 3px 1px rgba(0, 0, 0, 0.15);\n",
              "      filter: drop-shadow(0px 1px 2px rgba(0, 0, 0, 0.3));\n",
              "      fill: #FFFFFF;\n",
              "    }\n",
              "  </style>\n",
              "\n",
              "      <script>\n",
              "        const buttonEl =\n",
              "          document.querySelector('#df-f62cbf40-54e7-4e56-a773-e4e462772166 button.colab-df-convert');\n",
              "        buttonEl.style.display =\n",
              "          google.colab.kernel.accessAllowed ? 'block' : 'none';\n",
              "\n",
              "        async function convertToInteractive(key) {\n",
              "          const element = document.querySelector('#df-f62cbf40-54e7-4e56-a773-e4e462772166');\n",
              "          const dataTable =\n",
              "            await google.colab.kernel.invokeFunction('convertToInteractive',\n",
              "                                                     [key], {});\n",
              "          if (!dataTable) return;\n",
              "\n",
              "          const docLinkHtml = 'Like what you see? Visit the ' +\n",
              "            '<a target=\"_blank\" href=https://colab.research.google.com/notebooks/data_table.ipynb>data table notebook</a>'\n",
              "            + ' to learn more about interactive tables.';\n",
              "          element.innerHTML = '';\n",
              "          dataTable['output_type'] = 'display_data';\n",
              "          await google.colab.output.renderOutput(dataTable, element);\n",
              "          const docLink = document.createElement('div');\n",
              "          docLink.innerHTML = docLinkHtml;\n",
              "          element.appendChild(docLink);\n",
              "        }\n",
              "      </script>\n",
              "    </div>\n",
              "  </div>\n",
              "  "
            ]
          },
          "metadata": {},
          "execution_count": 502
        }
      ],
      "source": [
        "full_df.drop([\"monthly_mean_price\"], axis = 1, inplace = True)\n",
        "aux_vars = df[[\"unique_id\", \"city\", \"city_id\", \"shop_name\", \"shop_id\", \"item_category_name\", \"item_category_id\", \"item_name\", \"item_id\"]].drop_duplicates()\n",
        "\n",
        "print(full_df.shape)\n",
        "\n",
        "print(aux_vars.shape)\n",
        "aux_vars.head()"
      ]
    },
    {
      "cell_type": "code",
      "execution_count": null,
      "id": "a1a1914a",
      "metadata": {
        "execution": {
          "iopub.execute_input": "2022-07-20T19:19:00.719146Z",
          "iopub.status.busy": "2022-07-20T19:19:00.718414Z",
          "iopub.status.idle": "2022-07-20T19:19:00.731517Z",
          "shell.execute_reply": "2022-07-20T19:19:00.730077Z"
        },
        "papermill": {
          "duration": 0.035497,
          "end_time": "2022-07-20T19:19:00.733811",
          "exception": false,
          "start_time": "2022-07-20T19:19:00.698314",
          "status": "completed"
        },
        "tags": [],
        "id": "a1a1914a",
        "outputId": "8cfdc4b8-1434-4f42-de7d-7676fc35756f",
        "colab": {
          "base_uri": "https://localhost:8080/"
        }
      },
      "outputs": [
        {
          "output_type": "stream",
          "name": "stdout",
          "text": [
            "(10166, 6)\n",
            "(10166, 14)\n"
          ]
        }
      ],
      "source": [
        "print(full_df.shape)\n",
        "full_df = pd.merge(\n",
        "    left = full_df,\n",
        "    right = aux_vars,\n",
        "    how = \"left\",\n",
        "    on = \"unique_id\"\n",
        ")\n",
        "print(full_df.shape)"
      ]
    },
    {
      "cell_type": "code",
      "execution_count": null,
      "id": "9c9933cc",
      "metadata": {
        "execution": {
          "iopub.execute_input": "2022-07-20T19:19:00.773093Z",
          "iopub.status.busy": "2022-07-20T19:19:00.772437Z",
          "iopub.status.idle": "2022-07-20T19:19:00.789676Z",
          "shell.execute_reply": "2022-07-20T19:19:00.788900Z"
        },
        "papermill": {
          "duration": 0.038806,
          "end_time": "2022-07-20T19:19:00.791517",
          "exception": false,
          "start_time": "2022-07-20T19:19:00.752711",
          "status": "completed"
        },
        "tags": [],
        "id": "9c9933cc",
        "outputId": "f7be1021-2481-4ff9-cee4-8ba2676f2f26",
        "colab": {
          "base_uri": "https://localhost:8080/",
          "height": 634
        }
      },
      "outputs": [
        {
          "output_type": "execute_result",
          "data": {
            "text/plain": [
              "        date unique_id  monthly_sales  monthly_revenue  nr_days_with_sales  \\\n",
              "0 2013-01-31   25-2574           13.0           5187.0                10.0   \n",
              "1 2013-01-31   25-2808           30.0          29970.0                18.0   \n",
              "2 2013-01-31   25-2308           35.0          27965.0                20.0   \n",
              "3 2013-01-31   25-5821            1.0            599.0                 1.0   \n",
              "4 2013-01-31   25-5822            9.0           8991.0                 6.0   \n",
              "\n",
              "   imputed_mean_monthly_price   city  city_id           shop_name  shop_id  \\\n",
              "0                       399.0  Moscú        7  Moscú SEC \"Atrium\"       25   \n",
              "1                       999.0  Moscú        7  Moscú SEC \"Atrium\"       25   \n",
              "2                       799.0  Moscú        7  Moscú SEC \"Atrium\"       25   \n",
              "3                       599.0  Moscú        7  Moscú SEC \"Atrium\"       25   \n",
              "4                       999.0  Moscú        7  Moscú SEC \"Atrium\"       25   \n",
              "\n",
              "                   item_category_name  item_category_id  \\\n",
              "0  Música - CD de la producción local                55   \n",
              "1        Juegos PC - Standard Edition                30   \n",
              "2        Juegos PC - Standard Edition                30   \n",
              "3          Las tarjetas de pago - PSN                35   \n",
              "4          Las tarjetas de pago - PSN                35   \n",
              "\n",
              "                                           item_name  item_id  \n",
              "0  Del Rey Lana Nació para morir la edición de Pa...     2574  \n",
              "1               Diablo III [PC, JEWEL, versión rusa]     2808  \n",
              "2  Call of Duty: Black Ops II [PC, Jewel, versión...     2308  \n",
              "3  Suscripción de PlayStation Plus 3 meses: Tarje...     5821  \n",
              "4  PlayStation Tienda Reposición de la billetera:...     5822  "
            ],
            "text/html": [
              "\n",
              "  <div id=\"df-d6931da2-8fb8-4575-beb1-7203c0f3788c\">\n",
              "    <div class=\"colab-df-container\">\n",
              "      <div>\n",
              "<style scoped>\n",
              "    .dataframe tbody tr th:only-of-type {\n",
              "        vertical-align: middle;\n",
              "    }\n",
              "\n",
              "    .dataframe tbody tr th {\n",
              "        vertical-align: top;\n",
              "    }\n",
              "\n",
              "    .dataframe thead th {\n",
              "        text-align: right;\n",
              "    }\n",
              "</style>\n",
              "<table border=\"1\" class=\"dataframe\">\n",
              "  <thead>\n",
              "    <tr style=\"text-align: right;\">\n",
              "      <th></th>\n",
              "      <th>date</th>\n",
              "      <th>unique_id</th>\n",
              "      <th>monthly_sales</th>\n",
              "      <th>monthly_revenue</th>\n",
              "      <th>nr_days_with_sales</th>\n",
              "      <th>imputed_mean_monthly_price</th>\n",
              "      <th>city</th>\n",
              "      <th>city_id</th>\n",
              "      <th>shop_name</th>\n",
              "      <th>shop_id</th>\n",
              "      <th>item_category_name</th>\n",
              "      <th>item_category_id</th>\n",
              "      <th>item_name</th>\n",
              "      <th>item_id</th>\n",
              "    </tr>\n",
              "  </thead>\n",
              "  <tbody>\n",
              "    <tr>\n",
              "      <th>0</th>\n",
              "      <td>2013-01-31</td>\n",
              "      <td>25-2574</td>\n",
              "      <td>13.0</td>\n",
              "      <td>5187.0</td>\n",
              "      <td>10.0</td>\n",
              "      <td>399.0</td>\n",
              "      <td>Moscú</td>\n",
              "      <td>7</td>\n",
              "      <td>Moscú SEC \"Atrium\"</td>\n",
              "      <td>25</td>\n",
              "      <td>Música - CD de la producción local</td>\n",
              "      <td>55</td>\n",
              "      <td>Del Rey Lana Nació para morir la edición de Pa...</td>\n",
              "      <td>2574</td>\n",
              "    </tr>\n",
              "    <tr>\n",
              "      <th>1</th>\n",
              "      <td>2013-01-31</td>\n",
              "      <td>25-2808</td>\n",
              "      <td>30.0</td>\n",
              "      <td>29970.0</td>\n",
              "      <td>18.0</td>\n",
              "      <td>999.0</td>\n",
              "      <td>Moscú</td>\n",
              "      <td>7</td>\n",
              "      <td>Moscú SEC \"Atrium\"</td>\n",
              "      <td>25</td>\n",
              "      <td>Juegos PC - Standard Edition</td>\n",
              "      <td>30</td>\n",
              "      <td>Diablo III [PC, JEWEL, versión rusa]</td>\n",
              "      <td>2808</td>\n",
              "    </tr>\n",
              "    <tr>\n",
              "      <th>2</th>\n",
              "      <td>2013-01-31</td>\n",
              "      <td>25-2308</td>\n",
              "      <td>35.0</td>\n",
              "      <td>27965.0</td>\n",
              "      <td>20.0</td>\n",
              "      <td>799.0</td>\n",
              "      <td>Moscú</td>\n",
              "      <td>7</td>\n",
              "      <td>Moscú SEC \"Atrium\"</td>\n",
              "      <td>25</td>\n",
              "      <td>Juegos PC - Standard Edition</td>\n",
              "      <td>30</td>\n",
              "      <td>Call of Duty: Black Ops II [PC, Jewel, versión...</td>\n",
              "      <td>2308</td>\n",
              "    </tr>\n",
              "    <tr>\n",
              "      <th>3</th>\n",
              "      <td>2013-01-31</td>\n",
              "      <td>25-5821</td>\n",
              "      <td>1.0</td>\n",
              "      <td>599.0</td>\n",
              "      <td>1.0</td>\n",
              "      <td>599.0</td>\n",
              "      <td>Moscú</td>\n",
              "      <td>7</td>\n",
              "      <td>Moscú SEC \"Atrium\"</td>\n",
              "      <td>25</td>\n",
              "      <td>Las tarjetas de pago - PSN</td>\n",
              "      <td>35</td>\n",
              "      <td>Suscripción de PlayStation Plus 3 meses: Tarje...</td>\n",
              "      <td>5821</td>\n",
              "    </tr>\n",
              "    <tr>\n",
              "      <th>4</th>\n",
              "      <td>2013-01-31</td>\n",
              "      <td>25-5822</td>\n",
              "      <td>9.0</td>\n",
              "      <td>8991.0</td>\n",
              "      <td>6.0</td>\n",
              "      <td>999.0</td>\n",
              "      <td>Moscú</td>\n",
              "      <td>7</td>\n",
              "      <td>Moscú SEC \"Atrium\"</td>\n",
              "      <td>25</td>\n",
              "      <td>Las tarjetas de pago - PSN</td>\n",
              "      <td>35</td>\n",
              "      <td>PlayStation Tienda Reposición de la billetera:...</td>\n",
              "      <td>5822</td>\n",
              "    </tr>\n",
              "  </tbody>\n",
              "</table>\n",
              "</div>\n",
              "      <button class=\"colab-df-convert\" onclick=\"convertToInteractive('df-d6931da2-8fb8-4575-beb1-7203c0f3788c')\"\n",
              "              title=\"Convert this dataframe to an interactive table.\"\n",
              "              style=\"display:none;\">\n",
              "        \n",
              "  <svg xmlns=\"http://www.w3.org/2000/svg\" height=\"24px\"viewBox=\"0 0 24 24\"\n",
              "       width=\"24px\">\n",
              "    <path d=\"M0 0h24v24H0V0z\" fill=\"none\"/>\n",
              "    <path d=\"M18.56 5.44l.94 2.06.94-2.06 2.06-.94-2.06-.94-.94-2.06-.94 2.06-2.06.94zm-11 1L8.5 8.5l.94-2.06 2.06-.94-2.06-.94L8.5 2.5l-.94 2.06-2.06.94zm10 10l.94 2.06.94-2.06 2.06-.94-2.06-.94-.94-2.06-.94 2.06-2.06.94z\"/><path d=\"M17.41 7.96l-1.37-1.37c-.4-.4-.92-.59-1.43-.59-.52 0-1.04.2-1.43.59L10.3 9.45l-7.72 7.72c-.78.78-.78 2.05 0 2.83L4 21.41c.39.39.9.59 1.41.59.51 0 1.02-.2 1.41-.59l7.78-7.78 2.81-2.81c.8-.78.8-2.07 0-2.86zM5.41 20L4 18.59l7.72-7.72 1.47 1.35L5.41 20z\"/>\n",
              "  </svg>\n",
              "      </button>\n",
              "      \n",
              "  <style>\n",
              "    .colab-df-container {\n",
              "      display:flex;\n",
              "      flex-wrap:wrap;\n",
              "      gap: 12px;\n",
              "    }\n",
              "\n",
              "    .colab-df-convert {\n",
              "      background-color: #E8F0FE;\n",
              "      border: none;\n",
              "      border-radius: 50%;\n",
              "      cursor: pointer;\n",
              "      display: none;\n",
              "      fill: #1967D2;\n",
              "      height: 32px;\n",
              "      padding: 0 0 0 0;\n",
              "      width: 32px;\n",
              "    }\n",
              "\n",
              "    .colab-df-convert:hover {\n",
              "      background-color: #E2EBFA;\n",
              "      box-shadow: 0px 1px 2px rgba(60, 64, 67, 0.3), 0px 1px 3px 1px rgba(60, 64, 67, 0.15);\n",
              "      fill: #174EA6;\n",
              "    }\n",
              "\n",
              "    [theme=dark] .colab-df-convert {\n",
              "      background-color: #3B4455;\n",
              "      fill: #D2E3FC;\n",
              "    }\n",
              "\n",
              "    [theme=dark] .colab-df-convert:hover {\n",
              "      background-color: #434B5C;\n",
              "      box-shadow: 0px 1px 3px 1px rgba(0, 0, 0, 0.15);\n",
              "      filter: drop-shadow(0px 1px 2px rgba(0, 0, 0, 0.3));\n",
              "      fill: #FFFFFF;\n",
              "    }\n",
              "  </style>\n",
              "\n",
              "      <script>\n",
              "        const buttonEl =\n",
              "          document.querySelector('#df-d6931da2-8fb8-4575-beb1-7203c0f3788c button.colab-df-convert');\n",
              "        buttonEl.style.display =\n",
              "          google.colab.kernel.accessAllowed ? 'block' : 'none';\n",
              "\n",
              "        async function convertToInteractive(key) {\n",
              "          const element = document.querySelector('#df-d6931da2-8fb8-4575-beb1-7203c0f3788c');\n",
              "          const dataTable =\n",
              "            await google.colab.kernel.invokeFunction('convertToInteractive',\n",
              "                                                     [key], {});\n",
              "          if (!dataTable) return;\n",
              "\n",
              "          const docLinkHtml = 'Like what you see? Visit the ' +\n",
              "            '<a target=\"_blank\" href=https://colab.research.google.com/notebooks/data_table.ipynb>data table notebook</a>'\n",
              "            + ' to learn more about interactive tables.';\n",
              "          element.innerHTML = '';\n",
              "          dataTable['output_type'] = 'display_data';\n",
              "          await google.colab.output.renderOutput(dataTable, element);\n",
              "          const docLink = document.createElement('div');\n",
              "          docLink.innerHTML = docLinkHtml;\n",
              "          element.appendChild(docLink);\n",
              "        }\n",
              "      </script>\n",
              "    </div>\n",
              "  </div>\n",
              "  "
            ]
          },
          "metadata": {},
          "execution_count": 504
        }
      ],
      "source": [
        "full_df.head()"
      ]
    },
    {
      "cell_type": "markdown",
      "id": "d0e923bb",
      "metadata": {
        "papermill": {
          "duration": 0.018714,
          "end_time": "2022-07-20T19:19:00.829154",
          "exception": false,
          "start_time": "2022-07-20T19:19:00.810440",
          "status": "completed"
        },
        "tags": [],
        "id": "d0e923bb"
      },
      "source": [
        "# Función que genera vars ts de manera eficiente"
      ]
    },
    {
      "cell_type": "code",
      "execution_count": null,
      "id": "2b296cb7",
      "metadata": {
        "execution": {
          "iopub.execute_input": "2022-07-20T19:19:00.868692Z",
          "iopub.status.busy": "2022-07-20T19:19:00.868039Z",
          "iopub.status.idle": "2022-07-20T19:19:00.871766Z",
          "shell.execute_reply": "2022-07-20T19:19:00.870851Z"
        },
        "papermill": {
          "duration": 0.025612,
          "end_time": "2022-07-20T19:19:00.873543",
          "exception": false,
          "start_time": "2022-07-20T19:19:00.847931",
          "status": "completed"
        },
        "tags": [],
        "id": "2b296cb7"
      },
      "outputs": [],
      "source": [
        "# quiero saber las ventas por ciudad de los meses anteriores"
      ]
    },
    {
      "cell_type": "code",
      "execution_count": null,
      "id": "19d673ea",
      "metadata": {
        "execution": {
          "iopub.execute_input": "2022-07-20T19:19:00.913255Z",
          "iopub.status.busy": "2022-07-20T19:19:00.912603Z",
          "iopub.status.idle": "2022-07-20T19:19:00.919651Z",
          "shell.execute_reply": "2022-07-20T19:19:00.918882Z"
        },
        "papermill": {
          "duration": 0.029005,
          "end_time": "2022-07-20T19:19:00.921525",
          "exception": false,
          "start_time": "2022-07-20T19:19:00.892520",
          "status": "completed"
        },
        "tags": [],
        "id": "19d673ea"
      },
      "outputs": [],
      "source": [
        "def ts_vars(full_df, gb_list, target_column, agg_func, agg_func_name, verbose = True):\n",
        "    \n",
        "    assert gb_list[0] == \"date\", \"First element must be date\"\n",
        "    \n",
        "    new_name = \"_\".join(gb_list + [target_column] + [agg_func_name])\n",
        "    \n",
        "    if verbose: print(new_name)\n",
        "\n",
        "    gb_df_ = full_df.groupby(gb_list)[target_column].apply(agg_func).to_frame().reset_index().rename(\n",
        "        columns = {\n",
        "            target_column : new_name\n",
        "        }\n",
        "    )\n",
        "\n",
        "    gb_df_[f\"{new_name}_lag1\"] = gb_df_.groupby(gb_list[1:])[new_name].transform(\n",
        "        lambda series: series.shift(1)\n",
        "    )\n",
        "    \n",
        "    gb_df_[f\"{new_name}_ma_3\"] = gb_df_.groupby(gb_list[1:])[new_name].transform(\n",
        "        lambda series: series.shift(1).rolling(window = 3).mean()\n",
        "    )\n",
        "    \n",
        "    return gb_df_"
      ]
    },
    {
      "cell_type": "code",
      "execution_count": null,
      "id": "0d35bfba",
      "metadata": {
        "execution": {
          "iopub.execute_input": "2022-07-20T19:19:01.056154Z",
          "iopub.status.busy": "2022-07-20T19:19:01.055505Z",
          "iopub.status.idle": "2022-07-20T19:19:01.169211Z",
          "shell.execute_reply": "2022-07-20T19:19:01.168047Z"
        },
        "papermill": {
          "duration": 0.136763,
          "end_time": "2022-07-20T19:19:01.171717",
          "exception": false,
          "start_time": "2022-07-20T19:19:01.034954",
          "status": "completed"
        },
        "tags": [],
        "id": "0d35bfba",
        "colab": {
          "base_uri": "https://localhost:8080/",
          "height": 424
        },
        "outputId": "ef369d2c-2c0d-4dab-d04c-424c26f9851b"
      },
      "outputs": [
        {
          "output_type": "execute_result",
          "data": {
            "text/plain": [
              "          date  item_category_id  date_item_category_id_monthly_sales_sum  \\\n",
              "0   2013-01-31                 2                                      9.0   \n",
              "1   2013-01-31                 3                                      0.0   \n",
              "2   2013-01-31                 6                                    144.0   \n",
              "3   2013-01-31                 9                                    145.0   \n",
              "4   2013-01-31                19                                     27.0   \n",
              "..         ...               ...                                      ...   \n",
              "947 2015-10-31                73                                      0.0   \n",
              "948 2015-10-31                75                                      0.0   \n",
              "949 2015-10-31                76                                      0.0   \n",
              "950 2015-10-31                79                                      0.0   \n",
              "951 2015-10-31                83                                      0.0   \n",
              "\n",
              "     date_item_category_id_monthly_sales_sum_lag1  \\\n",
              "0                                             NaN   \n",
              "1                                             NaN   \n",
              "2                                             NaN   \n",
              "3                                             NaN   \n",
              "4                                             NaN   \n",
              "..                                            ...   \n",
              "947                                          44.0   \n",
              "948                                         191.0   \n",
              "949                                          82.0   \n",
              "950                                         418.0   \n",
              "951                                          22.0   \n",
              "\n",
              "     date_item_category_id_monthly_sales_sum_ma_3  \n",
              "0                                             NaN  \n",
              "1                                             NaN  \n",
              "2                                             NaN  \n",
              "3                                             NaN  \n",
              "4                                             NaN  \n",
              "..                                            ...  \n",
              "947                                     41.666667  \n",
              "948                                    174.666667  \n",
              "949                                     78.666667  \n",
              "950                                    404.666667  \n",
              "951                                     18.666667  \n",
              "\n",
              "[952 rows x 5 columns]"
            ],
            "text/html": [
              "\n",
              "  <div id=\"df-a11ae11a-f3f8-4761-a30f-9ce58bba96fd\">\n",
              "    <div class=\"colab-df-container\">\n",
              "      <div>\n",
              "<style scoped>\n",
              "    .dataframe tbody tr th:only-of-type {\n",
              "        vertical-align: middle;\n",
              "    }\n",
              "\n",
              "    .dataframe tbody tr th {\n",
              "        vertical-align: top;\n",
              "    }\n",
              "\n",
              "    .dataframe thead th {\n",
              "        text-align: right;\n",
              "    }\n",
              "</style>\n",
              "<table border=\"1\" class=\"dataframe\">\n",
              "  <thead>\n",
              "    <tr style=\"text-align: right;\">\n",
              "      <th></th>\n",
              "      <th>date</th>\n",
              "      <th>item_category_id</th>\n",
              "      <th>date_item_category_id_monthly_sales_sum</th>\n",
              "      <th>date_item_category_id_monthly_sales_sum_lag1</th>\n",
              "      <th>date_item_category_id_monthly_sales_sum_ma_3</th>\n",
              "    </tr>\n",
              "  </thead>\n",
              "  <tbody>\n",
              "    <tr>\n",
              "      <th>0</th>\n",
              "      <td>2013-01-31</td>\n",
              "      <td>2</td>\n",
              "      <td>9.0</td>\n",
              "      <td>NaN</td>\n",
              "      <td>NaN</td>\n",
              "    </tr>\n",
              "    <tr>\n",
              "      <th>1</th>\n",
              "      <td>2013-01-31</td>\n",
              "      <td>3</td>\n",
              "      <td>0.0</td>\n",
              "      <td>NaN</td>\n",
              "      <td>NaN</td>\n",
              "    </tr>\n",
              "    <tr>\n",
              "      <th>2</th>\n",
              "      <td>2013-01-31</td>\n",
              "      <td>6</td>\n",
              "      <td>144.0</td>\n",
              "      <td>NaN</td>\n",
              "      <td>NaN</td>\n",
              "    </tr>\n",
              "    <tr>\n",
              "      <th>3</th>\n",
              "      <td>2013-01-31</td>\n",
              "      <td>9</td>\n",
              "      <td>145.0</td>\n",
              "      <td>NaN</td>\n",
              "      <td>NaN</td>\n",
              "    </tr>\n",
              "    <tr>\n",
              "      <th>4</th>\n",
              "      <td>2013-01-31</td>\n",
              "      <td>19</td>\n",
              "      <td>27.0</td>\n",
              "      <td>NaN</td>\n",
              "      <td>NaN</td>\n",
              "    </tr>\n",
              "    <tr>\n",
              "      <th>...</th>\n",
              "      <td>...</td>\n",
              "      <td>...</td>\n",
              "      <td>...</td>\n",
              "      <td>...</td>\n",
              "      <td>...</td>\n",
              "    </tr>\n",
              "    <tr>\n",
              "      <th>947</th>\n",
              "      <td>2015-10-31</td>\n",
              "      <td>73</td>\n",
              "      <td>0.0</td>\n",
              "      <td>44.0</td>\n",
              "      <td>41.666667</td>\n",
              "    </tr>\n",
              "    <tr>\n",
              "      <th>948</th>\n",
              "      <td>2015-10-31</td>\n",
              "      <td>75</td>\n",
              "      <td>0.0</td>\n",
              "      <td>191.0</td>\n",
              "      <td>174.666667</td>\n",
              "    </tr>\n",
              "    <tr>\n",
              "      <th>949</th>\n",
              "      <td>2015-10-31</td>\n",
              "      <td>76</td>\n",
              "      <td>0.0</td>\n",
              "      <td>82.0</td>\n",
              "      <td>78.666667</td>\n",
              "    </tr>\n",
              "    <tr>\n",
              "      <th>950</th>\n",
              "      <td>2015-10-31</td>\n",
              "      <td>79</td>\n",
              "      <td>0.0</td>\n",
              "      <td>418.0</td>\n",
              "      <td>404.666667</td>\n",
              "    </tr>\n",
              "    <tr>\n",
              "      <th>951</th>\n",
              "      <td>2015-10-31</td>\n",
              "      <td>83</td>\n",
              "      <td>0.0</td>\n",
              "      <td>22.0</td>\n",
              "      <td>18.666667</td>\n",
              "    </tr>\n",
              "  </tbody>\n",
              "</table>\n",
              "<p>952 rows × 5 columns</p>\n",
              "</div>\n",
              "      <button class=\"colab-df-convert\" onclick=\"convertToInteractive('df-a11ae11a-f3f8-4761-a30f-9ce58bba96fd')\"\n",
              "              title=\"Convert this dataframe to an interactive table.\"\n",
              "              style=\"display:none;\">\n",
              "        \n",
              "  <svg xmlns=\"http://www.w3.org/2000/svg\" height=\"24px\"viewBox=\"0 0 24 24\"\n",
              "       width=\"24px\">\n",
              "    <path d=\"M0 0h24v24H0V0z\" fill=\"none\"/>\n",
              "    <path d=\"M18.56 5.44l.94 2.06.94-2.06 2.06-.94-2.06-.94-.94-2.06-.94 2.06-2.06.94zm-11 1L8.5 8.5l.94-2.06 2.06-.94-2.06-.94L8.5 2.5l-.94 2.06-2.06.94zm10 10l.94 2.06.94-2.06 2.06-.94-2.06-.94-.94-2.06-.94 2.06-2.06.94z\"/><path d=\"M17.41 7.96l-1.37-1.37c-.4-.4-.92-.59-1.43-.59-.52 0-1.04.2-1.43.59L10.3 9.45l-7.72 7.72c-.78.78-.78 2.05 0 2.83L4 21.41c.39.39.9.59 1.41.59.51 0 1.02-.2 1.41-.59l7.78-7.78 2.81-2.81c.8-.78.8-2.07 0-2.86zM5.41 20L4 18.59l7.72-7.72 1.47 1.35L5.41 20z\"/>\n",
              "  </svg>\n",
              "      </button>\n",
              "      \n",
              "  <style>\n",
              "    .colab-df-container {\n",
              "      display:flex;\n",
              "      flex-wrap:wrap;\n",
              "      gap: 12px;\n",
              "    }\n",
              "\n",
              "    .colab-df-convert {\n",
              "      background-color: #E8F0FE;\n",
              "      border: none;\n",
              "      border-radius: 50%;\n",
              "      cursor: pointer;\n",
              "      display: none;\n",
              "      fill: #1967D2;\n",
              "      height: 32px;\n",
              "      padding: 0 0 0 0;\n",
              "      width: 32px;\n",
              "    }\n",
              "\n",
              "    .colab-df-convert:hover {\n",
              "      background-color: #E2EBFA;\n",
              "      box-shadow: 0px 1px 2px rgba(60, 64, 67, 0.3), 0px 1px 3px 1px rgba(60, 64, 67, 0.15);\n",
              "      fill: #174EA6;\n",
              "    }\n",
              "\n",
              "    [theme=dark] .colab-df-convert {\n",
              "      background-color: #3B4455;\n",
              "      fill: #D2E3FC;\n",
              "    }\n",
              "\n",
              "    [theme=dark] .colab-df-convert:hover {\n",
              "      background-color: #434B5C;\n",
              "      box-shadow: 0px 1px 3px 1px rgba(0, 0, 0, 0.15);\n",
              "      filter: drop-shadow(0px 1px 2px rgba(0, 0, 0, 0.3));\n",
              "      fill: #FFFFFF;\n",
              "    }\n",
              "  </style>\n",
              "\n",
              "      <script>\n",
              "        const buttonEl =\n",
              "          document.querySelector('#df-a11ae11a-f3f8-4761-a30f-9ce58bba96fd button.colab-df-convert');\n",
              "        buttonEl.style.display =\n",
              "          google.colab.kernel.accessAllowed ? 'block' : 'none';\n",
              "\n",
              "        async function convertToInteractive(key) {\n",
              "          const element = document.querySelector('#df-a11ae11a-f3f8-4761-a30f-9ce58bba96fd');\n",
              "          const dataTable =\n",
              "            await google.colab.kernel.invokeFunction('convertToInteractive',\n",
              "                                                     [key], {});\n",
              "          if (!dataTable) return;\n",
              "\n",
              "          const docLinkHtml = 'Like what you see? Visit the ' +\n",
              "            '<a target=\"_blank\" href=https://colab.research.google.com/notebooks/data_table.ipynb>data table notebook</a>'\n",
              "            + ' to learn more about interactive tables.';\n",
              "          element.innerHTML = '';\n",
              "          dataTable['output_type'] = 'display_data';\n",
              "          await google.colab.output.renderOutput(dataTable, element);\n",
              "          const docLink = document.createElement('div');\n",
              "          docLink.innerHTML = docLinkHtml;\n",
              "          element.appendChild(docLink);\n",
              "        }\n",
              "      </script>\n",
              "    </div>\n",
              "  </div>\n",
              "  "
            ]
          },
          "metadata": {},
          "execution_count": 507
        }
      ],
      "source": [
        "gb_list = [\"date\", \"item_category_id\"]\n",
        "target_column = \"monthly_sales\"\n",
        "agg_func = np.sum\n",
        "agg_func_name = \"sum\"\n",
        "\n",
        "vars_city_id = ts_vars(\n",
        "    full_df = full_df,\n",
        "    gb_list = gb_list,\n",
        "    target_column = target_column,\n",
        "    agg_func = agg_func,\n",
        "    agg_func_name = agg_func_name,\n",
        "    verbose = False\n",
        ")\n",
        "\n",
        "vars_city_id"
      ]
    },
    {
      "cell_type": "code",
      "execution_count": null,
      "id": "f0b8f768",
      "metadata": {
        "execution": {
          "iopub.execute_input": "2022-07-20T19:19:01.212225Z",
          "iopub.status.busy": "2022-07-20T19:19:01.211850Z",
          "iopub.status.idle": "2022-07-20T19:19:01.218413Z",
          "shell.execute_reply": "2022-07-20T19:19:01.217346Z"
        },
        "papermill": {
          "duration": 0.029122,
          "end_time": "2022-07-20T19:19:01.220522",
          "exception": false,
          "start_time": "2022-07-20T19:19:01.191400",
          "status": "completed"
        },
        "tags": [],
        "id": "f0b8f768",
        "outputId": "9c16b491-c6cd-46b4-c0c3-24d044361eb3",
        "colab": {
          "base_uri": "https://localhost:8080/",
          "height": 424
        }
      },
      "outputs": [
        {
          "output_type": "execute_result",
          "data": {
            "text/plain": [
              "           date  city_id  shop_id  date_city_id_shop_id_monthly_sales_sum  \\\n",
              "0    2013-01-31        0        3                                     0.0   \n",
              "1    2013-01-31        1       56                                     0.0   \n",
              "2    2013-01-31        2       15                                    70.0   \n",
              "3    2013-01-31        3       14                                     5.0   \n",
              "4    2013-01-31        4       16                                    34.0   \n",
              "...         ...      ...      ...                                     ...   \n",
              "1355 2015-10-31       22        7                                     0.0   \n",
              "1356 2015-10-31       23       57                                     0.0   \n",
              "1357 2015-10-31       23       58                                     0.0   \n",
              "1358 2015-10-31       24       59                                     0.0   \n",
              "1359 2015-10-31       25       11                                     0.0   \n",
              "\n",
              "      date_city_id_shop_id_monthly_sales_sum_lag1  \\\n",
              "0                                             NaN   \n",
              "1                                             NaN   \n",
              "2                                             NaN   \n",
              "3                                             NaN   \n",
              "4                                             NaN   \n",
              "...                                           ...   \n",
              "1355                                         76.0   \n",
              "1356                                        219.0   \n",
              "1357                                         94.0   \n",
              "1358                                         34.0   \n",
              "1359                                         46.0   \n",
              "\n",
              "      date_city_id_shop_id_monthly_sales_sum_ma_3  \n",
              "0                                             NaN  \n",
              "1                                             NaN  \n",
              "2                                             NaN  \n",
              "3                                             NaN  \n",
              "4                                             NaN  \n",
              "...                                           ...  \n",
              "1355                                    81.333333  \n",
              "1356                                   213.000000  \n",
              "1357                                    99.666667  \n",
              "1358                                    47.000000  \n",
              "1359                                    37.000000  \n",
              "\n",
              "[1360 rows x 6 columns]"
            ],
            "text/html": [
              "\n",
              "  <div id=\"df-268e9b63-e6ce-4809-9f3c-6d8703323aa6\">\n",
              "    <div class=\"colab-df-container\">\n",
              "      <div>\n",
              "<style scoped>\n",
              "    .dataframe tbody tr th:only-of-type {\n",
              "        vertical-align: middle;\n",
              "    }\n",
              "\n",
              "    .dataframe tbody tr th {\n",
              "        vertical-align: top;\n",
              "    }\n",
              "\n",
              "    .dataframe thead th {\n",
              "        text-align: right;\n",
              "    }\n",
              "</style>\n",
              "<table border=\"1\" class=\"dataframe\">\n",
              "  <thead>\n",
              "    <tr style=\"text-align: right;\">\n",
              "      <th></th>\n",
              "      <th>date</th>\n",
              "      <th>city_id</th>\n",
              "      <th>shop_id</th>\n",
              "      <th>date_city_id_shop_id_monthly_sales_sum</th>\n",
              "      <th>date_city_id_shop_id_monthly_sales_sum_lag1</th>\n",
              "      <th>date_city_id_shop_id_monthly_sales_sum_ma_3</th>\n",
              "    </tr>\n",
              "  </thead>\n",
              "  <tbody>\n",
              "    <tr>\n",
              "      <th>0</th>\n",
              "      <td>2013-01-31</td>\n",
              "      <td>0</td>\n",
              "      <td>3</td>\n",
              "      <td>0.0</td>\n",
              "      <td>NaN</td>\n",
              "      <td>NaN</td>\n",
              "    </tr>\n",
              "    <tr>\n",
              "      <th>1</th>\n",
              "      <td>2013-01-31</td>\n",
              "      <td>1</td>\n",
              "      <td>56</td>\n",
              "      <td>0.0</td>\n",
              "      <td>NaN</td>\n",
              "      <td>NaN</td>\n",
              "    </tr>\n",
              "    <tr>\n",
              "      <th>2</th>\n",
              "      <td>2013-01-31</td>\n",
              "      <td>2</td>\n",
              "      <td>15</td>\n",
              "      <td>70.0</td>\n",
              "      <td>NaN</td>\n",
              "      <td>NaN</td>\n",
              "    </tr>\n",
              "    <tr>\n",
              "      <th>3</th>\n",
              "      <td>2013-01-31</td>\n",
              "      <td>3</td>\n",
              "      <td>14</td>\n",
              "      <td>5.0</td>\n",
              "      <td>NaN</td>\n",
              "      <td>NaN</td>\n",
              "    </tr>\n",
              "    <tr>\n",
              "      <th>4</th>\n",
              "      <td>2013-01-31</td>\n",
              "      <td>4</td>\n",
              "      <td>16</td>\n",
              "      <td>34.0</td>\n",
              "      <td>NaN</td>\n",
              "      <td>NaN</td>\n",
              "    </tr>\n",
              "    <tr>\n",
              "      <th>...</th>\n",
              "      <td>...</td>\n",
              "      <td>...</td>\n",
              "      <td>...</td>\n",
              "      <td>...</td>\n",
              "      <td>...</td>\n",
              "      <td>...</td>\n",
              "    </tr>\n",
              "    <tr>\n",
              "      <th>1355</th>\n",
              "      <td>2015-10-31</td>\n",
              "      <td>22</td>\n",
              "      <td>7</td>\n",
              "      <td>0.0</td>\n",
              "      <td>76.0</td>\n",
              "      <td>81.333333</td>\n",
              "    </tr>\n",
              "    <tr>\n",
              "      <th>1356</th>\n",
              "      <td>2015-10-31</td>\n",
              "      <td>23</td>\n",
              "      <td>57</td>\n",
              "      <td>0.0</td>\n",
              "      <td>219.0</td>\n",
              "      <td>213.000000</td>\n",
              "    </tr>\n",
              "    <tr>\n",
              "      <th>1357</th>\n",
              "      <td>2015-10-31</td>\n",
              "      <td>23</td>\n",
              "      <td>58</td>\n",
              "      <td>0.0</td>\n",
              "      <td>94.0</td>\n",
              "      <td>99.666667</td>\n",
              "    </tr>\n",
              "    <tr>\n",
              "      <th>1358</th>\n",
              "      <td>2015-10-31</td>\n",
              "      <td>24</td>\n",
              "      <td>59</td>\n",
              "      <td>0.0</td>\n",
              "      <td>34.0</td>\n",
              "      <td>47.000000</td>\n",
              "    </tr>\n",
              "    <tr>\n",
              "      <th>1359</th>\n",
              "      <td>2015-10-31</td>\n",
              "      <td>25</td>\n",
              "      <td>11</td>\n",
              "      <td>0.0</td>\n",
              "      <td>46.0</td>\n",
              "      <td>37.000000</td>\n",
              "    </tr>\n",
              "  </tbody>\n",
              "</table>\n",
              "<p>1360 rows × 6 columns</p>\n",
              "</div>\n",
              "      <button class=\"colab-df-convert\" onclick=\"convertToInteractive('df-268e9b63-e6ce-4809-9f3c-6d8703323aa6')\"\n",
              "              title=\"Convert this dataframe to an interactive table.\"\n",
              "              style=\"display:none;\">\n",
              "        \n",
              "  <svg xmlns=\"http://www.w3.org/2000/svg\" height=\"24px\"viewBox=\"0 0 24 24\"\n",
              "       width=\"24px\">\n",
              "    <path d=\"M0 0h24v24H0V0z\" fill=\"none\"/>\n",
              "    <path d=\"M18.56 5.44l.94 2.06.94-2.06 2.06-.94-2.06-.94-.94-2.06-.94 2.06-2.06.94zm-11 1L8.5 8.5l.94-2.06 2.06-.94-2.06-.94L8.5 2.5l-.94 2.06-2.06.94zm10 10l.94 2.06.94-2.06 2.06-.94-2.06-.94-.94-2.06-.94 2.06-2.06.94z\"/><path d=\"M17.41 7.96l-1.37-1.37c-.4-.4-.92-.59-1.43-.59-.52 0-1.04.2-1.43.59L10.3 9.45l-7.72 7.72c-.78.78-.78 2.05 0 2.83L4 21.41c.39.39.9.59 1.41.59.51 0 1.02-.2 1.41-.59l7.78-7.78 2.81-2.81c.8-.78.8-2.07 0-2.86zM5.41 20L4 18.59l7.72-7.72 1.47 1.35L5.41 20z\"/>\n",
              "  </svg>\n",
              "      </button>\n",
              "      \n",
              "  <style>\n",
              "    .colab-df-container {\n",
              "      display:flex;\n",
              "      flex-wrap:wrap;\n",
              "      gap: 12px;\n",
              "    }\n",
              "\n",
              "    .colab-df-convert {\n",
              "      background-color: #E8F0FE;\n",
              "      border: none;\n",
              "      border-radius: 50%;\n",
              "      cursor: pointer;\n",
              "      display: none;\n",
              "      fill: #1967D2;\n",
              "      height: 32px;\n",
              "      padding: 0 0 0 0;\n",
              "      width: 32px;\n",
              "    }\n",
              "\n",
              "    .colab-df-convert:hover {\n",
              "      background-color: #E2EBFA;\n",
              "      box-shadow: 0px 1px 2px rgba(60, 64, 67, 0.3), 0px 1px 3px 1px rgba(60, 64, 67, 0.15);\n",
              "      fill: #174EA6;\n",
              "    }\n",
              "\n",
              "    [theme=dark] .colab-df-convert {\n",
              "      background-color: #3B4455;\n",
              "      fill: #D2E3FC;\n",
              "    }\n",
              "\n",
              "    [theme=dark] .colab-df-convert:hover {\n",
              "      background-color: #434B5C;\n",
              "      box-shadow: 0px 1px 3px 1px rgba(0, 0, 0, 0.15);\n",
              "      filter: drop-shadow(0px 1px 2px rgba(0, 0, 0, 0.3));\n",
              "      fill: #FFFFFF;\n",
              "    }\n",
              "  </style>\n",
              "\n",
              "      <script>\n",
              "        const buttonEl =\n",
              "          document.querySelector('#df-268e9b63-e6ce-4809-9f3c-6d8703323aa6 button.colab-df-convert');\n",
              "        buttonEl.style.display =\n",
              "          google.colab.kernel.accessAllowed ? 'block' : 'none';\n",
              "\n",
              "        async function convertToInteractive(key) {\n",
              "          const element = document.querySelector('#df-268e9b63-e6ce-4809-9f3c-6d8703323aa6');\n",
              "          const dataTable =\n",
              "            await google.colab.kernel.invokeFunction('convertToInteractive',\n",
              "                                                     [key], {});\n",
              "          if (!dataTable) return;\n",
              "\n",
              "          const docLinkHtml = 'Like what you see? Visit the ' +\n",
              "            '<a target=\"_blank\" href=https://colab.research.google.com/notebooks/data_table.ipynb>data table notebook</a>'\n",
              "            + ' to learn more about interactive tables.';\n",
              "          element.innerHTML = '';\n",
              "          dataTable['output_type'] = 'display_data';\n",
              "          await google.colab.output.renderOutput(dataTable, element);\n",
              "          const docLink = document.createElement('div');\n",
              "          docLink.innerHTML = docLinkHtml;\n",
              "          element.appendChild(docLink);\n",
              "        }\n",
              "      </script>\n",
              "    </div>\n",
              "  </div>\n",
              "  "
            ]
          },
          "metadata": {},
          "execution_count": 508
        }
      ],
      "source": [
        "\n",
        "gb_list = [\"date\", \"city_id\", \"shop_id\"]\n",
        "target_column = \"monthly_sales\"\n",
        "agg_func = np.sum\n",
        "agg_func_name = \"sum\"\n",
        "\n",
        "vars_city_id_2 = ts_vars(\n",
        "    full_df = full_df,\n",
        "    gb_list = gb_list,\n",
        "    target_column = target_column,\n",
        "    agg_func = agg_func,\n",
        "    agg_func_name = agg_func_name,\n",
        "    verbose = False\n",
        ")\n",
        "\n",
        "vars_city_id_2\n"
      ]
    },
    {
      "cell_type": "markdown",
      "id": "67a839df",
      "metadata": {
        "papermill": {
          "duration": 0.019,
          "end_time": "2022-07-20T19:19:01.259055",
          "exception": false,
          "start_time": "2022-07-20T19:19:01.240055",
          "status": "completed"
        },
        "tags": [],
        "id": "67a839df"
      },
      "source": [
        "# Join de full_df con vars de la función"
      ]
    },
    {
      "cell_type": "code",
      "execution_count": null,
      "id": "3721bc0c",
      "metadata": {
        "execution": {
          "iopub.execute_input": "2022-07-20T19:19:01.299600Z",
          "iopub.status.busy": "2022-07-20T19:19:01.298887Z",
          "iopub.status.idle": "2022-07-20T19:19:01.317064Z",
          "shell.execute_reply": "2022-07-20T19:19:01.315934Z"
        },
        "papermill": {
          "duration": 0.040917,
          "end_time": "2022-07-20T19:19:01.319102",
          "exception": false,
          "start_time": "2022-07-20T19:19:01.278185",
          "status": "completed"
        },
        "tags": [],
        "id": "3721bc0c",
        "outputId": "8f68b707-3c12-4378-d792-4e0b41f91626",
        "colab": {
          "base_uri": "https://localhost:8080/",
          "height": 634
        }
      },
      "outputs": [
        {
          "output_type": "execute_result",
          "data": {
            "text/plain": [
              "        date unique_id  monthly_sales  monthly_revenue  nr_days_with_sales  \\\n",
              "0 2013-01-31   25-2574           13.0           5187.0                10.0   \n",
              "1 2013-01-31   25-2808           30.0          29970.0                18.0   \n",
              "2 2013-01-31   25-2308           35.0          27965.0                20.0   \n",
              "3 2013-01-31   25-5821            1.0            599.0                 1.0   \n",
              "4 2013-01-31   25-5822            9.0           8991.0                 6.0   \n",
              "\n",
              "   imputed_mean_monthly_price   city  city_id           shop_name  shop_id  \\\n",
              "0                       399.0  Moscú        7  Moscú SEC \"Atrium\"       25   \n",
              "1                       999.0  Moscú        7  Moscú SEC \"Atrium\"       25   \n",
              "2                       799.0  Moscú        7  Moscú SEC \"Atrium\"       25   \n",
              "3                       599.0  Moscú        7  Moscú SEC \"Atrium\"       25   \n",
              "4                       999.0  Moscú        7  Moscú SEC \"Atrium\"       25   \n",
              "\n",
              "                   item_category_name  item_category_id  \\\n",
              "0  Música - CD de la producción local                55   \n",
              "1        Juegos PC - Standard Edition                30   \n",
              "2        Juegos PC - Standard Edition                30   \n",
              "3          Las tarjetas de pago - PSN                35   \n",
              "4          Las tarjetas de pago - PSN                35   \n",
              "\n",
              "                                           item_name  item_id  \n",
              "0  Del Rey Lana Nació para morir la edición de Pa...     2574  \n",
              "1               Diablo III [PC, JEWEL, versión rusa]     2808  \n",
              "2  Call of Duty: Black Ops II [PC, Jewel, versión...     2308  \n",
              "3  Suscripción de PlayStation Plus 3 meses: Tarje...     5821  \n",
              "4  PlayStation Tienda Reposición de la billetera:...     5822  "
            ],
            "text/html": [
              "\n",
              "  <div id=\"df-a99be8b0-b375-43ec-a97c-6370f6e17392\">\n",
              "    <div class=\"colab-df-container\">\n",
              "      <div>\n",
              "<style scoped>\n",
              "    .dataframe tbody tr th:only-of-type {\n",
              "        vertical-align: middle;\n",
              "    }\n",
              "\n",
              "    .dataframe tbody tr th {\n",
              "        vertical-align: top;\n",
              "    }\n",
              "\n",
              "    .dataframe thead th {\n",
              "        text-align: right;\n",
              "    }\n",
              "</style>\n",
              "<table border=\"1\" class=\"dataframe\">\n",
              "  <thead>\n",
              "    <tr style=\"text-align: right;\">\n",
              "      <th></th>\n",
              "      <th>date</th>\n",
              "      <th>unique_id</th>\n",
              "      <th>monthly_sales</th>\n",
              "      <th>monthly_revenue</th>\n",
              "      <th>nr_days_with_sales</th>\n",
              "      <th>imputed_mean_monthly_price</th>\n",
              "      <th>city</th>\n",
              "      <th>city_id</th>\n",
              "      <th>shop_name</th>\n",
              "      <th>shop_id</th>\n",
              "      <th>item_category_name</th>\n",
              "      <th>item_category_id</th>\n",
              "      <th>item_name</th>\n",
              "      <th>item_id</th>\n",
              "    </tr>\n",
              "  </thead>\n",
              "  <tbody>\n",
              "    <tr>\n",
              "      <th>0</th>\n",
              "      <td>2013-01-31</td>\n",
              "      <td>25-2574</td>\n",
              "      <td>13.0</td>\n",
              "      <td>5187.0</td>\n",
              "      <td>10.0</td>\n",
              "      <td>399.0</td>\n",
              "      <td>Moscú</td>\n",
              "      <td>7</td>\n",
              "      <td>Moscú SEC \"Atrium\"</td>\n",
              "      <td>25</td>\n",
              "      <td>Música - CD de la producción local</td>\n",
              "      <td>55</td>\n",
              "      <td>Del Rey Lana Nació para morir la edición de Pa...</td>\n",
              "      <td>2574</td>\n",
              "    </tr>\n",
              "    <tr>\n",
              "      <th>1</th>\n",
              "      <td>2013-01-31</td>\n",
              "      <td>25-2808</td>\n",
              "      <td>30.0</td>\n",
              "      <td>29970.0</td>\n",
              "      <td>18.0</td>\n",
              "      <td>999.0</td>\n",
              "      <td>Moscú</td>\n",
              "      <td>7</td>\n",
              "      <td>Moscú SEC \"Atrium\"</td>\n",
              "      <td>25</td>\n",
              "      <td>Juegos PC - Standard Edition</td>\n",
              "      <td>30</td>\n",
              "      <td>Diablo III [PC, JEWEL, versión rusa]</td>\n",
              "      <td>2808</td>\n",
              "    </tr>\n",
              "    <tr>\n",
              "      <th>2</th>\n",
              "      <td>2013-01-31</td>\n",
              "      <td>25-2308</td>\n",
              "      <td>35.0</td>\n",
              "      <td>27965.0</td>\n",
              "      <td>20.0</td>\n",
              "      <td>799.0</td>\n",
              "      <td>Moscú</td>\n",
              "      <td>7</td>\n",
              "      <td>Moscú SEC \"Atrium\"</td>\n",
              "      <td>25</td>\n",
              "      <td>Juegos PC - Standard Edition</td>\n",
              "      <td>30</td>\n",
              "      <td>Call of Duty: Black Ops II [PC, Jewel, versión...</td>\n",
              "      <td>2308</td>\n",
              "    </tr>\n",
              "    <tr>\n",
              "      <th>3</th>\n",
              "      <td>2013-01-31</td>\n",
              "      <td>25-5821</td>\n",
              "      <td>1.0</td>\n",
              "      <td>599.0</td>\n",
              "      <td>1.0</td>\n",
              "      <td>599.0</td>\n",
              "      <td>Moscú</td>\n",
              "      <td>7</td>\n",
              "      <td>Moscú SEC \"Atrium\"</td>\n",
              "      <td>25</td>\n",
              "      <td>Las tarjetas de pago - PSN</td>\n",
              "      <td>35</td>\n",
              "      <td>Suscripción de PlayStation Plus 3 meses: Tarje...</td>\n",
              "      <td>5821</td>\n",
              "    </tr>\n",
              "    <tr>\n",
              "      <th>4</th>\n",
              "      <td>2013-01-31</td>\n",
              "      <td>25-5822</td>\n",
              "      <td>9.0</td>\n",
              "      <td>8991.0</td>\n",
              "      <td>6.0</td>\n",
              "      <td>999.0</td>\n",
              "      <td>Moscú</td>\n",
              "      <td>7</td>\n",
              "      <td>Moscú SEC \"Atrium\"</td>\n",
              "      <td>25</td>\n",
              "      <td>Las tarjetas de pago - PSN</td>\n",
              "      <td>35</td>\n",
              "      <td>PlayStation Tienda Reposición de la billetera:...</td>\n",
              "      <td>5822</td>\n",
              "    </tr>\n",
              "  </tbody>\n",
              "</table>\n",
              "</div>\n",
              "      <button class=\"colab-df-convert\" onclick=\"convertToInteractive('df-a99be8b0-b375-43ec-a97c-6370f6e17392')\"\n",
              "              title=\"Convert this dataframe to an interactive table.\"\n",
              "              style=\"display:none;\">\n",
              "        \n",
              "  <svg xmlns=\"http://www.w3.org/2000/svg\" height=\"24px\"viewBox=\"0 0 24 24\"\n",
              "       width=\"24px\">\n",
              "    <path d=\"M0 0h24v24H0V0z\" fill=\"none\"/>\n",
              "    <path d=\"M18.56 5.44l.94 2.06.94-2.06 2.06-.94-2.06-.94-.94-2.06-.94 2.06-2.06.94zm-11 1L8.5 8.5l.94-2.06 2.06-.94-2.06-.94L8.5 2.5l-.94 2.06-2.06.94zm10 10l.94 2.06.94-2.06 2.06-.94-2.06-.94-.94-2.06-.94 2.06-2.06.94z\"/><path d=\"M17.41 7.96l-1.37-1.37c-.4-.4-.92-.59-1.43-.59-.52 0-1.04.2-1.43.59L10.3 9.45l-7.72 7.72c-.78.78-.78 2.05 0 2.83L4 21.41c.39.39.9.59 1.41.59.51 0 1.02-.2 1.41-.59l7.78-7.78 2.81-2.81c.8-.78.8-2.07 0-2.86zM5.41 20L4 18.59l7.72-7.72 1.47 1.35L5.41 20z\"/>\n",
              "  </svg>\n",
              "      </button>\n",
              "      \n",
              "  <style>\n",
              "    .colab-df-container {\n",
              "      display:flex;\n",
              "      flex-wrap:wrap;\n",
              "      gap: 12px;\n",
              "    }\n",
              "\n",
              "    .colab-df-convert {\n",
              "      background-color: #E8F0FE;\n",
              "      border: none;\n",
              "      border-radius: 50%;\n",
              "      cursor: pointer;\n",
              "      display: none;\n",
              "      fill: #1967D2;\n",
              "      height: 32px;\n",
              "      padding: 0 0 0 0;\n",
              "      width: 32px;\n",
              "    }\n",
              "\n",
              "    .colab-df-convert:hover {\n",
              "      background-color: #E2EBFA;\n",
              "      box-shadow: 0px 1px 2px rgba(60, 64, 67, 0.3), 0px 1px 3px 1px rgba(60, 64, 67, 0.15);\n",
              "      fill: #174EA6;\n",
              "    }\n",
              "\n",
              "    [theme=dark] .colab-df-convert {\n",
              "      background-color: #3B4455;\n",
              "      fill: #D2E3FC;\n",
              "    }\n",
              "\n",
              "    [theme=dark] .colab-df-convert:hover {\n",
              "      background-color: #434B5C;\n",
              "      box-shadow: 0px 1px 3px 1px rgba(0, 0, 0, 0.15);\n",
              "      filter: drop-shadow(0px 1px 2px rgba(0, 0, 0, 0.3));\n",
              "      fill: #FFFFFF;\n",
              "    }\n",
              "  </style>\n",
              "\n",
              "      <script>\n",
              "        const buttonEl =\n",
              "          document.querySelector('#df-a99be8b0-b375-43ec-a97c-6370f6e17392 button.colab-df-convert');\n",
              "        buttonEl.style.display =\n",
              "          google.colab.kernel.accessAllowed ? 'block' : 'none';\n",
              "\n",
              "        async function convertToInteractive(key) {\n",
              "          const element = document.querySelector('#df-a99be8b0-b375-43ec-a97c-6370f6e17392');\n",
              "          const dataTable =\n",
              "            await google.colab.kernel.invokeFunction('convertToInteractive',\n",
              "                                                     [key], {});\n",
              "          if (!dataTable) return;\n",
              "\n",
              "          const docLinkHtml = 'Like what you see? Visit the ' +\n",
              "            '<a target=\"_blank\" href=https://colab.research.google.com/notebooks/data_table.ipynb>data table notebook</a>'\n",
              "            + ' to learn more about interactive tables.';\n",
              "          element.innerHTML = '';\n",
              "          dataTable['output_type'] = 'display_data';\n",
              "          await google.colab.output.renderOutput(dataTable, element);\n",
              "          const docLink = document.createElement('div');\n",
              "          docLink.innerHTML = docLinkHtml;\n",
              "          element.appendChild(docLink);\n",
              "        }\n",
              "      </script>\n",
              "    </div>\n",
              "  </div>\n",
              "  "
            ]
          },
          "metadata": {},
          "execution_count": 509
        }
      ],
      "source": [
        "full_df.head()"
      ]
    },
    {
      "cell_type": "code",
      "execution_count": null,
      "id": "37c66c56",
      "metadata": {
        "execution": {
          "iopub.execute_input": "2022-07-20T19:19:01.415530Z",
          "iopub.status.busy": "2022-07-20T19:19:01.414801Z",
          "iopub.status.idle": "2022-07-20T19:19:01.421840Z",
          "shell.execute_reply": "2022-07-20T19:19:01.421052Z"
        },
        "papermill": {
          "duration": 0.030628,
          "end_time": "2022-07-20T19:19:01.423812",
          "exception": false,
          "start_time": "2022-07-20T19:19:01.393184",
          "status": "completed"
        },
        "tags": [],
        "id": "37c66c56"
      },
      "outputs": [],
      "source": [
        "np.clip([10, 12, 15, 20], a_min = 0, a_max = 16)\n",
        "full_df[\"monthly_sales\"] = np.clip(full_df[\"monthly_sales\"], a_min = 0, a_max = 30)"
      ]
    },
    {
      "cell_type": "code",
      "execution_count": null,
      "id": "919219c8",
      "metadata": {
        "execution": {
          "iopub.execute_input": "2022-07-20T19:19:01.465478Z",
          "iopub.status.busy": "2022-07-20T19:19:01.464773Z",
          "iopub.status.idle": "2022-07-20T19:19:01.477891Z",
          "shell.execute_reply": "2022-07-20T19:19:01.476561Z"
        },
        "papermill": {
          "duration": 0.037522,
          "end_time": "2022-07-20T19:19:01.481045",
          "exception": false,
          "start_time": "2022-07-20T19:19:01.443523",
          "status": "completed"
        },
        "tags": [],
        "id": "919219c8",
        "outputId": "94fc2664-cbbf-41dd-c4c0-4a668c0b4424",
        "colab": {
          "base_uri": "https://localhost:8080/"
        }
      },
      "outputs": [
        {
          "output_type": "stream",
          "name": "stdout",
          "text": [
            "(10166, 14)\n",
            "(10166, 17)\n"
          ]
        }
      ],
      "source": [
        "print(full_df.shape)\n",
        "\n",
        "full_df = pd.merge(\n",
        "    left = full_df,\n",
        "    right = vars_city_id,\n",
        "    how = \"left\",\n",
        "    on = [\"date\", \"item_category_id\"]\n",
        ")\n",
        "\n",
        "print(full_df.shape)"
      ]
    },
    {
      "cell_type": "code",
      "source": [
        "print(full_df.shape)\n",
        "\n",
        "full_df = pd.merge(\n",
        "    left = full_df,\n",
        "    right = vars_city_id_2,\n",
        "    how = \"left\",\n",
        "    on = [\"date\", \"city_id\", \"shop_id\"]\n",
        ")\n",
        "\n",
        "print(full_df.shape)"
      ],
      "metadata": {
        "colab": {
          "base_uri": "https://localhost:8080/"
        },
        "id": "jYn8oexXHwqC",
        "outputId": "edee0afe-5a4c-422b-a81f-cfdf5f25fdc1"
      },
      "id": "jYn8oexXHwqC",
      "execution_count": null,
      "outputs": [
        {
          "output_type": "stream",
          "name": "stdout",
          "text": [
            "(10166, 17)\n",
            "(10166, 20)\n"
          ]
        }
      ]
    },
    {
      "cell_type": "code",
      "execution_count": null,
      "id": "f4a9f7eb",
      "metadata": {
        "execution": {
          "iopub.execute_input": "2022-07-20T19:19:01.523951Z",
          "iopub.status.busy": "2022-07-20T19:19:01.523571Z",
          "iopub.status.idle": "2022-07-20T19:19:01.528181Z",
          "shell.execute_reply": "2022-07-20T19:19:01.526963Z"
        },
        "papermill": {
          "duration": 0.028596,
          "end_time": "2022-07-20T19:19:01.530682",
          "exception": false,
          "start_time": "2022-07-20T19:19:01.502086",
          "status": "completed"
        },
        "tags": [],
        "id": "f4a9f7eb",
        "colab": {
          "base_uri": "https://localhost:8080/",
          "height": 661
        },
        "outputId": "421af365-2464-433c-c1b5-86183948bfbf"
      },
      "outputs": [
        {
          "output_type": "execute_result",
          "data": {
            "text/plain": [
              "            date  monthly_sales  monthly_revenue  nr_days_with_sales  \\\n",
              "0     2013-01-31           13.0           5187.0                10.0   \n",
              "1     2013-01-31           30.0          29970.0                18.0   \n",
              "2     2013-01-31           30.0          27965.0                20.0   \n",
              "3     2013-01-31            1.0            599.0                 1.0   \n",
              "4     2013-01-31            9.0           8991.0                 6.0   \n",
              "...          ...            ...              ...                 ...   \n",
              "10161 2015-10-31            0.0              0.0                 0.0   \n",
              "10162 2015-10-31            0.0              0.0                 0.0   \n",
              "10163 2015-10-31            0.0              0.0                 0.0   \n",
              "10164 2015-10-31            0.0              0.0                 0.0   \n",
              "10165 2015-10-31            0.0              0.0                 0.0   \n",
              "\n",
              "       imputed_mean_monthly_price  city_id  shop_id  item_category_id  \\\n",
              "0                           399.0        7       25                55   \n",
              "1                           999.0        7       25                30   \n",
              "2                           799.0        7       25                30   \n",
              "3                           599.0        7       25                35   \n",
              "4                           999.0        7       25                35   \n",
              "...                           ...      ...      ...               ...   \n",
              "10161                      2000.0        7       28                30   \n",
              "10162                      2000.0        7       22                73   \n",
              "10163                      2000.0       16       55                34   \n",
              "10164                      2000.0       16       55                34   \n",
              "10165                      2000.0       16       55                34   \n",
              "\n",
              "       item_id  date_item_category_id_monthly_sales_sum  \\\n",
              "0         2574                                     50.0   \n",
              "1         2808                                    696.0   \n",
              "2         2308                                    696.0   \n",
              "3         5821                                    215.0   \n",
              "4         5822                                    215.0   \n",
              "...        ...                                      ...   \n",
              "10161     6503                                      0.0   \n",
              "10162      486                                      0.0   \n",
              "10163    13097                                      0.0   \n",
              "10164    13099                                      0.0   \n",
              "10165    13098                                      0.0   \n",
              "\n",
              "       date_item_category_id_monthly_sales_sum_lag1  \\\n",
              "0                                               NaN   \n",
              "1                                               NaN   \n",
              "2                                               NaN   \n",
              "3                                               NaN   \n",
              "4                                               NaN   \n",
              "...                                             ...   \n",
              "10161                                         163.0   \n",
              "10162                                          44.0   \n",
              "10163                                         293.0   \n",
              "10164                                         293.0   \n",
              "10165                                         293.0   \n",
              "\n",
              "       date_item_category_id_monthly_sales_sum_ma_3  \\\n",
              "0                                               NaN   \n",
              "1                                               NaN   \n",
              "2                                               NaN   \n",
              "3                                               NaN   \n",
              "4                                               NaN   \n",
              "...                                             ...   \n",
              "10161                                    211.333333   \n",
              "10162                                     41.666667   \n",
              "10163                                    276.333333   \n",
              "10164                                    276.333333   \n",
              "10165                                    276.333333   \n",
              "\n",
              "       date_city_id_shop_id_monthly_sales_sum  \\\n",
              "0                                       213.0   \n",
              "1                                       213.0   \n",
              "2                                       213.0   \n",
              "3                                       213.0   \n",
              "4                                       213.0   \n",
              "...                                       ...   \n",
              "10161                                     0.0   \n",
              "10162                                     0.0   \n",
              "10163                                     0.0   \n",
              "10164                                     0.0   \n",
              "10165                                     0.0   \n",
              "\n",
              "       date_city_id_shop_id_monthly_sales_sum_lag1  \\\n",
              "0                                              NaN   \n",
              "1                                              NaN   \n",
              "2                                              NaN   \n",
              "3                                              NaN   \n",
              "4                                              NaN   \n",
              "...                                            ...   \n",
              "10161                                        343.0   \n",
              "10162                                        177.0   \n",
              "10163                                        483.0   \n",
              "10164                                        483.0   \n",
              "10165                                        483.0   \n",
              "\n",
              "       date_city_id_shop_id_monthly_sales_sum_ma_3  \n",
              "0                                              NaN  \n",
              "1                                              NaN  \n",
              "2                                              NaN  \n",
              "3                                              NaN  \n",
              "4                                              NaN  \n",
              "...                                            ...  \n",
              "10161                                   413.666667  \n",
              "10162                                   170.666667  \n",
              "10163                                   459.666667  \n",
              "10164                                   459.666667  \n",
              "10165                                   459.666667  \n",
              "\n",
              "[10166 rows x 15 columns]"
            ],
            "text/html": [
              "\n",
              "  <div id=\"df-51da2585-8189-4e51-90af-64075e7af6c0\">\n",
              "    <div class=\"colab-df-container\">\n",
              "      <div>\n",
              "<style scoped>\n",
              "    .dataframe tbody tr th:only-of-type {\n",
              "        vertical-align: middle;\n",
              "    }\n",
              "\n",
              "    .dataframe tbody tr th {\n",
              "        vertical-align: top;\n",
              "    }\n",
              "\n",
              "    .dataframe thead th {\n",
              "        text-align: right;\n",
              "    }\n",
              "</style>\n",
              "<table border=\"1\" class=\"dataframe\">\n",
              "  <thead>\n",
              "    <tr style=\"text-align: right;\">\n",
              "      <th></th>\n",
              "      <th>date</th>\n",
              "      <th>monthly_sales</th>\n",
              "      <th>monthly_revenue</th>\n",
              "      <th>nr_days_with_sales</th>\n",
              "      <th>imputed_mean_monthly_price</th>\n",
              "      <th>city_id</th>\n",
              "      <th>shop_id</th>\n",
              "      <th>item_category_id</th>\n",
              "      <th>item_id</th>\n",
              "      <th>date_item_category_id_monthly_sales_sum</th>\n",
              "      <th>date_item_category_id_monthly_sales_sum_lag1</th>\n",
              "      <th>date_item_category_id_monthly_sales_sum_ma_3</th>\n",
              "      <th>date_city_id_shop_id_monthly_sales_sum</th>\n",
              "      <th>date_city_id_shop_id_monthly_sales_sum_lag1</th>\n",
              "      <th>date_city_id_shop_id_monthly_sales_sum_ma_3</th>\n",
              "    </tr>\n",
              "  </thead>\n",
              "  <tbody>\n",
              "    <tr>\n",
              "      <th>0</th>\n",
              "      <td>2013-01-31</td>\n",
              "      <td>13.0</td>\n",
              "      <td>5187.0</td>\n",
              "      <td>10.0</td>\n",
              "      <td>399.0</td>\n",
              "      <td>7</td>\n",
              "      <td>25</td>\n",
              "      <td>55</td>\n",
              "      <td>2574</td>\n",
              "      <td>50.0</td>\n",
              "      <td>NaN</td>\n",
              "      <td>NaN</td>\n",
              "      <td>213.0</td>\n",
              "      <td>NaN</td>\n",
              "      <td>NaN</td>\n",
              "    </tr>\n",
              "    <tr>\n",
              "      <th>1</th>\n",
              "      <td>2013-01-31</td>\n",
              "      <td>30.0</td>\n",
              "      <td>29970.0</td>\n",
              "      <td>18.0</td>\n",
              "      <td>999.0</td>\n",
              "      <td>7</td>\n",
              "      <td>25</td>\n",
              "      <td>30</td>\n",
              "      <td>2808</td>\n",
              "      <td>696.0</td>\n",
              "      <td>NaN</td>\n",
              "      <td>NaN</td>\n",
              "      <td>213.0</td>\n",
              "      <td>NaN</td>\n",
              "      <td>NaN</td>\n",
              "    </tr>\n",
              "    <tr>\n",
              "      <th>2</th>\n",
              "      <td>2013-01-31</td>\n",
              "      <td>30.0</td>\n",
              "      <td>27965.0</td>\n",
              "      <td>20.0</td>\n",
              "      <td>799.0</td>\n",
              "      <td>7</td>\n",
              "      <td>25</td>\n",
              "      <td>30</td>\n",
              "      <td>2308</td>\n",
              "      <td>696.0</td>\n",
              "      <td>NaN</td>\n",
              "      <td>NaN</td>\n",
              "      <td>213.0</td>\n",
              "      <td>NaN</td>\n",
              "      <td>NaN</td>\n",
              "    </tr>\n",
              "    <tr>\n",
              "      <th>3</th>\n",
              "      <td>2013-01-31</td>\n",
              "      <td>1.0</td>\n",
              "      <td>599.0</td>\n",
              "      <td>1.0</td>\n",
              "      <td>599.0</td>\n",
              "      <td>7</td>\n",
              "      <td>25</td>\n",
              "      <td>35</td>\n",
              "      <td>5821</td>\n",
              "      <td>215.0</td>\n",
              "      <td>NaN</td>\n",
              "      <td>NaN</td>\n",
              "      <td>213.0</td>\n",
              "      <td>NaN</td>\n",
              "      <td>NaN</td>\n",
              "    </tr>\n",
              "    <tr>\n",
              "      <th>4</th>\n",
              "      <td>2013-01-31</td>\n",
              "      <td>9.0</td>\n",
              "      <td>8991.0</td>\n",
              "      <td>6.0</td>\n",
              "      <td>999.0</td>\n",
              "      <td>7</td>\n",
              "      <td>25</td>\n",
              "      <td>35</td>\n",
              "      <td>5822</td>\n",
              "      <td>215.0</td>\n",
              "      <td>NaN</td>\n",
              "      <td>NaN</td>\n",
              "      <td>213.0</td>\n",
              "      <td>NaN</td>\n",
              "      <td>NaN</td>\n",
              "    </tr>\n",
              "    <tr>\n",
              "      <th>...</th>\n",
              "      <td>...</td>\n",
              "      <td>...</td>\n",
              "      <td>...</td>\n",
              "      <td>...</td>\n",
              "      <td>...</td>\n",
              "      <td>...</td>\n",
              "      <td>...</td>\n",
              "      <td>...</td>\n",
              "      <td>...</td>\n",
              "      <td>...</td>\n",
              "      <td>...</td>\n",
              "      <td>...</td>\n",
              "      <td>...</td>\n",
              "      <td>...</td>\n",
              "      <td>...</td>\n",
              "    </tr>\n",
              "    <tr>\n",
              "      <th>10161</th>\n",
              "      <td>2015-10-31</td>\n",
              "      <td>0.0</td>\n",
              "      <td>0.0</td>\n",
              "      <td>0.0</td>\n",
              "      <td>2000.0</td>\n",
              "      <td>7</td>\n",
              "      <td>28</td>\n",
              "      <td>30</td>\n",
              "      <td>6503</td>\n",
              "      <td>0.0</td>\n",
              "      <td>163.0</td>\n",
              "      <td>211.333333</td>\n",
              "      <td>0.0</td>\n",
              "      <td>343.0</td>\n",
              "      <td>413.666667</td>\n",
              "    </tr>\n",
              "    <tr>\n",
              "      <th>10162</th>\n",
              "      <td>2015-10-31</td>\n",
              "      <td>0.0</td>\n",
              "      <td>0.0</td>\n",
              "      <td>0.0</td>\n",
              "      <td>2000.0</td>\n",
              "      <td>7</td>\n",
              "      <td>22</td>\n",
              "      <td>73</td>\n",
              "      <td>486</td>\n",
              "      <td>0.0</td>\n",
              "      <td>44.0</td>\n",
              "      <td>41.666667</td>\n",
              "      <td>0.0</td>\n",
              "      <td>177.0</td>\n",
              "      <td>170.666667</td>\n",
              "    </tr>\n",
              "    <tr>\n",
              "      <th>10163</th>\n",
              "      <td>2015-10-31</td>\n",
              "      <td>0.0</td>\n",
              "      <td>0.0</td>\n",
              "      <td>0.0</td>\n",
              "      <td>2000.0</td>\n",
              "      <td>16</td>\n",
              "      <td>55</td>\n",
              "      <td>34</td>\n",
              "      <td>13097</td>\n",
              "      <td>0.0</td>\n",
              "      <td>293.0</td>\n",
              "      <td>276.333333</td>\n",
              "      <td>0.0</td>\n",
              "      <td>483.0</td>\n",
              "      <td>459.666667</td>\n",
              "    </tr>\n",
              "    <tr>\n",
              "      <th>10164</th>\n",
              "      <td>2015-10-31</td>\n",
              "      <td>0.0</td>\n",
              "      <td>0.0</td>\n",
              "      <td>0.0</td>\n",
              "      <td>2000.0</td>\n",
              "      <td>16</td>\n",
              "      <td>55</td>\n",
              "      <td>34</td>\n",
              "      <td>13099</td>\n",
              "      <td>0.0</td>\n",
              "      <td>293.0</td>\n",
              "      <td>276.333333</td>\n",
              "      <td>0.0</td>\n",
              "      <td>483.0</td>\n",
              "      <td>459.666667</td>\n",
              "    </tr>\n",
              "    <tr>\n",
              "      <th>10165</th>\n",
              "      <td>2015-10-31</td>\n",
              "      <td>0.0</td>\n",
              "      <td>0.0</td>\n",
              "      <td>0.0</td>\n",
              "      <td>2000.0</td>\n",
              "      <td>16</td>\n",
              "      <td>55</td>\n",
              "      <td>34</td>\n",
              "      <td>13098</td>\n",
              "      <td>0.0</td>\n",
              "      <td>293.0</td>\n",
              "      <td>276.333333</td>\n",
              "      <td>0.0</td>\n",
              "      <td>483.0</td>\n",
              "      <td>459.666667</td>\n",
              "    </tr>\n",
              "  </tbody>\n",
              "</table>\n",
              "<p>10166 rows × 15 columns</p>\n",
              "</div>\n",
              "      <button class=\"colab-df-convert\" onclick=\"convertToInteractive('df-51da2585-8189-4e51-90af-64075e7af6c0')\"\n",
              "              title=\"Convert this dataframe to an interactive table.\"\n",
              "              style=\"display:none;\">\n",
              "        \n",
              "  <svg xmlns=\"http://www.w3.org/2000/svg\" height=\"24px\"viewBox=\"0 0 24 24\"\n",
              "       width=\"24px\">\n",
              "    <path d=\"M0 0h24v24H0V0z\" fill=\"none\"/>\n",
              "    <path d=\"M18.56 5.44l.94 2.06.94-2.06 2.06-.94-2.06-.94-.94-2.06-.94 2.06-2.06.94zm-11 1L8.5 8.5l.94-2.06 2.06-.94-2.06-.94L8.5 2.5l-.94 2.06-2.06.94zm10 10l.94 2.06.94-2.06 2.06-.94-2.06-.94-.94-2.06-.94 2.06-2.06.94z\"/><path d=\"M17.41 7.96l-1.37-1.37c-.4-.4-.92-.59-1.43-.59-.52 0-1.04.2-1.43.59L10.3 9.45l-7.72 7.72c-.78.78-.78 2.05 0 2.83L4 21.41c.39.39.9.59 1.41.59.51 0 1.02-.2 1.41-.59l7.78-7.78 2.81-2.81c.8-.78.8-2.07 0-2.86zM5.41 20L4 18.59l7.72-7.72 1.47 1.35L5.41 20z\"/>\n",
              "  </svg>\n",
              "      </button>\n",
              "      \n",
              "  <style>\n",
              "    .colab-df-container {\n",
              "      display:flex;\n",
              "      flex-wrap:wrap;\n",
              "      gap: 12px;\n",
              "    }\n",
              "\n",
              "    .colab-df-convert {\n",
              "      background-color: #E8F0FE;\n",
              "      border: none;\n",
              "      border-radius: 50%;\n",
              "      cursor: pointer;\n",
              "      display: none;\n",
              "      fill: #1967D2;\n",
              "      height: 32px;\n",
              "      padding: 0 0 0 0;\n",
              "      width: 32px;\n",
              "    }\n",
              "\n",
              "    .colab-df-convert:hover {\n",
              "      background-color: #E2EBFA;\n",
              "      box-shadow: 0px 1px 2px rgba(60, 64, 67, 0.3), 0px 1px 3px 1px rgba(60, 64, 67, 0.15);\n",
              "      fill: #174EA6;\n",
              "    }\n",
              "\n",
              "    [theme=dark] .colab-df-convert {\n",
              "      background-color: #3B4455;\n",
              "      fill: #D2E3FC;\n",
              "    }\n",
              "\n",
              "    [theme=dark] .colab-df-convert:hover {\n",
              "      background-color: #434B5C;\n",
              "      box-shadow: 0px 1px 3px 1px rgba(0, 0, 0, 0.15);\n",
              "      filter: drop-shadow(0px 1px 2px rgba(0, 0, 0, 0.3));\n",
              "      fill: #FFFFFF;\n",
              "    }\n",
              "  </style>\n",
              "\n",
              "      <script>\n",
              "        const buttonEl =\n",
              "          document.querySelector('#df-51da2585-8189-4e51-90af-64075e7af6c0 button.colab-df-convert');\n",
              "        buttonEl.style.display =\n",
              "          google.colab.kernel.accessAllowed ? 'block' : 'none';\n",
              "\n",
              "        async function convertToInteractive(key) {\n",
              "          const element = document.querySelector('#df-51da2585-8189-4e51-90af-64075e7af6c0');\n",
              "          const dataTable =\n",
              "            await google.colab.kernel.invokeFunction('convertToInteractive',\n",
              "                                                     [key], {});\n",
              "          if (!dataTable) return;\n",
              "\n",
              "          const docLinkHtml = 'Like what you see? Visit the ' +\n",
              "            '<a target=\"_blank\" href=https://colab.research.google.com/notebooks/data_table.ipynb>data table notebook</a>'\n",
              "            + ' to learn more about interactive tables.';\n",
              "          element.innerHTML = '';\n",
              "          dataTable['output_type'] = 'display_data';\n",
              "          await google.colab.output.renderOutput(dataTable, element);\n",
              "          const docLink = document.createElement('div');\n",
              "          docLink.innerHTML = docLinkHtml;\n",
              "          element.appendChild(docLink);\n",
              "        }\n",
              "      </script>\n",
              "    </div>\n",
              "  </div>\n",
              "  "
            ]
          },
          "metadata": {},
          "execution_count": 513
        }
      ],
      "source": [
        "full_df.select_dtypes(exclude = \"object\")"
      ]
    },
    {
      "cell_type": "code",
      "source": [
        "full_df.info()"
      ],
      "metadata": {
        "colab": {
          "base_uri": "https://localhost:8080/"
        },
        "id": "9lH1YKYRIOe5",
        "outputId": "e6f6cd62-608c-491a-a9b3-098162d4b16f"
      },
      "id": "9lH1YKYRIOe5",
      "execution_count": null,
      "outputs": [
        {
          "output_type": "stream",
          "name": "stdout",
          "text": [
            "<class 'pandas.core.frame.DataFrame'>\n",
            "Int64Index: 10166 entries, 0 to 10165\n",
            "Data columns (total 20 columns):\n",
            " #   Column                                        Non-Null Count  Dtype         \n",
            "---  ------                                        --------------  -----         \n",
            " 0   date                                          10166 non-null  datetime64[ns]\n",
            " 1   unique_id                                     10166 non-null  object        \n",
            " 2   monthly_sales                                 10166 non-null  float64       \n",
            " 3   monthly_revenue                               10166 non-null  float64       \n",
            " 4   nr_days_with_sales                            10166 non-null  float64       \n",
            " 5   imputed_mean_monthly_price                    10166 non-null  float64       \n",
            " 6   city                                          10166 non-null  object        \n",
            " 7   city_id                                       10166 non-null  int64         \n",
            " 8   shop_name                                     10166 non-null  object        \n",
            " 9   shop_id                                       10166 non-null  int64         \n",
            " 10  item_category_name                            10166 non-null  object        \n",
            " 11  item_category_id                              10166 non-null  int64         \n",
            " 12  item_name                                     10166 non-null  object        \n",
            " 13  item_id                                       10166 non-null  int64         \n",
            " 14  date_item_category_id_monthly_sales_sum       10166 non-null  float64       \n",
            " 15  date_item_category_id_monthly_sales_sum_lag1  9867 non-null   float64       \n",
            " 16  date_item_category_id_monthly_sales_sum_ma_3  9269 non-null   float64       \n",
            " 17  date_city_id_shop_id_monthly_sales_sum        10166 non-null  float64       \n",
            " 18  date_city_id_shop_id_monthly_sales_sum_lag1   9867 non-null   float64       \n",
            " 19  date_city_id_shop_id_monthly_sales_sum_ma_3   9269 non-null   float64       \n",
            "dtypes: datetime64[ns](1), float64(10), int64(4), object(5)\n",
            "memory usage: 1.6+ MB\n"
          ]
        }
      ]
    },
    {
      "cell_type": "code",
      "execution_count": null,
      "id": "1781ed75",
      "metadata": {
        "execution": {
          "iopub.execute_input": "2022-07-20T19:19:01.572217Z",
          "iopub.status.busy": "2022-07-20T19:19:01.571861Z",
          "iopub.status.idle": "2022-07-20T19:19:01.580367Z",
          "shell.execute_reply": "2022-07-20T19:19:01.579538Z"
        },
        "papermill": {
          "duration": 0.031786,
          "end_time": "2022-07-20T19:19:01.582424",
          "exception": false,
          "start_time": "2022-07-20T19:19:01.550638",
          "status": "completed"
        },
        "tags": [],
        "id": "1781ed75"
      },
      "outputs": [],
      "source": [
        "COLUMNS_TO_DROP = [\n",
        "    \"city\",\n",
        "    \"shop_name\",\n",
        "    \"item_category_name\",\n",
        "    \"item_name\",\n",
        "    \"nr_days_with_sales\",\n",
        "    \"monthly_revenue\",\n",
        "    \"date_item_category_id_monthly_sales_sum\",\n",
        "    \"date_city_id_shop_id_monthly_sales_sum\"\n",
        "]\n",
        "\n",
        "full_df.drop(COLUMNS_TO_DROP, axis = 1, inplace = True)"
      ]
    },
    {
      "cell_type": "code",
      "execution_count": null,
      "id": "048698e6",
      "metadata": {
        "execution": {
          "iopub.execute_input": "2022-07-20T19:19:01.634298Z",
          "iopub.status.busy": "2022-07-20T19:19:01.633842Z",
          "iopub.status.idle": "2022-07-20T19:19:01.640129Z",
          "shell.execute_reply": "2022-07-20T19:19:01.638825Z"
        },
        "papermill": {
          "duration": 0.040054,
          "end_time": "2022-07-20T19:19:01.642430",
          "exception": false,
          "start_time": "2022-07-20T19:19:01.602376",
          "status": "completed"
        },
        "tags": [],
        "id": "048698e6"
      },
      "outputs": [],
      "source": [
        "full_df.set_index(\"unique_id\", inplace = True)"
      ]
    },
    {
      "cell_type": "code",
      "execution_count": null,
      "id": "268aa67f",
      "metadata": {
        "execution": {
          "iopub.execute_input": "2022-07-20T19:19:01.698626Z",
          "iopub.status.busy": "2022-07-20T19:19:01.697442Z",
          "iopub.status.idle": "2022-07-20T19:19:01.703193Z",
          "shell.execute_reply": "2022-07-20T19:19:01.702096Z"
        },
        "papermill": {
          "duration": 0.033183,
          "end_time": "2022-07-20T19:19:01.705909",
          "exception": false,
          "start_time": "2022-07-20T19:19:01.672726",
          "status": "completed"
        },
        "tags": [],
        "id": "268aa67f"
      },
      "outputs": [],
      "source": [
        "all_dates = sorted(full_df[\"date\"].unique())"
      ]
    },
    {
      "cell_type": "code",
      "execution_count": null,
      "id": "77c42d7d",
      "metadata": {
        "execution": {
          "iopub.execute_input": "2022-07-20T19:19:01.754290Z",
          "iopub.status.busy": "2022-07-20T19:19:01.753595Z",
          "iopub.status.idle": "2022-07-20T19:19:01.758042Z",
          "shell.execute_reply": "2022-07-20T19:19:01.757077Z"
        },
        "papermill": {
          "duration": 0.028196,
          "end_time": "2022-07-20T19:19:01.759951",
          "exception": false,
          "start_time": "2022-07-20T19:19:01.731755",
          "status": "completed"
        },
        "tags": [],
        "id": "77c42d7d"
      },
      "outputs": [],
      "source": [
        "train_index = all_dates[: -2]\n",
        "test_index = all_dates[-2 : -1]\n",
        "kaggle_predict_index = all_dates[-1] # lo veis como validación - test en kaggle, predicción kaggle"
      ]
    },
    {
      "cell_type": "code",
      "execution_count": null,
      "id": "74a6c9d3",
      "metadata": {
        "execution": {
          "iopub.execute_input": "2022-07-20T19:19:01.803509Z",
          "iopub.status.busy": "2022-07-20T19:19:01.802701Z",
          "iopub.status.idle": "2022-07-20T19:19:01.820961Z",
          "shell.execute_reply": "2022-07-20T19:19:01.819996Z"
        },
        "papermill": {
          "duration": 0.042229,
          "end_time": "2022-07-20T19:19:01.823202",
          "exception": false,
          "start_time": "2022-07-20T19:19:01.780973",
          "status": "completed"
        },
        "tags": [],
        "id": "74a6c9d3"
      },
      "outputs": [],
      "source": [
        "X_train = full_df[full_df[\"date\"].isin(train_index)].drop([\"date\", \"monthly_sales\"], axis = 1)\n",
        "y_train= full_df[full_df[\"date\"].isin(train_index)][\"monthly_sales\"]\n",
        "\n",
        "X_test = full_df[full_df[\"date\"].isin(test_index)].drop([\"date\", \"monthly_sales\"], axis = 1)\n",
        "y_test= full_df[full_df[\"date\"].isin(test_index)][\"monthly_sales\"]\n",
        "\n",
        "X_kaggle_predict = full_df[full_df[\"date\"].isin([kaggle_predict_index])].drop([\"date\", \"monthly_sales\"], axis = 1)\n",
        "y_kaggle_predict = full_df[full_df[\"date\"].isin([kaggle_predict_index])][\"monthly_sales\"]"
      ]
    },
    {
      "cell_type": "code",
      "source": [
        "X_train.head()"
      ],
      "metadata": {
        "colab": {
          "base_uri": "https://localhost:8080/",
          "height": 301
        },
        "id": "uJmOBKhVE1C-",
        "outputId": "7f3a1486-28b0-4cc8-8215-01304047dad1"
      },
      "id": "uJmOBKhVE1C-",
      "execution_count": null,
      "outputs": [
        {
          "output_type": "execute_result",
          "data": {
            "text/plain": [
              "           imputed_mean_monthly_price  city_id  shop_id  item_category_id  \\\n",
              "unique_id                                                                   \n",
              "25-2574                         399.0        7       25                55   \n",
              "25-2808                         999.0        7       25                30   \n",
              "25-2308                         799.0        7       25                30   \n",
              "25-5821                         599.0        7       25                35   \n",
              "25-5822                         999.0        7       25                35   \n",
              "\n",
              "           item_id  date_item_category_id_monthly_sales_sum_lag1  \\\n",
              "unique_id                                                          \n",
              "25-2574       2574                                           NaN   \n",
              "25-2808       2808                                           NaN   \n",
              "25-2308       2308                                           NaN   \n",
              "25-5821       5821                                           NaN   \n",
              "25-5822       5822                                           NaN   \n",
              "\n",
              "           date_item_category_id_monthly_sales_sum_ma_3  \\\n",
              "unique_id                                                 \n",
              "25-2574                                             NaN   \n",
              "25-2808                                             NaN   \n",
              "25-2308                                             NaN   \n",
              "25-5821                                             NaN   \n",
              "25-5822                                             NaN   \n",
              "\n",
              "           date_city_id_shop_id_monthly_sales_sum_lag1  \\\n",
              "unique_id                                                \n",
              "25-2574                                            NaN   \n",
              "25-2808                                            NaN   \n",
              "25-2308                                            NaN   \n",
              "25-5821                                            NaN   \n",
              "25-5822                                            NaN   \n",
              "\n",
              "           date_city_id_shop_id_monthly_sales_sum_ma_3  \n",
              "unique_id                                               \n",
              "25-2574                                            NaN  \n",
              "25-2808                                            NaN  \n",
              "25-2308                                            NaN  \n",
              "25-5821                                            NaN  \n",
              "25-5822                                            NaN  "
            ],
            "text/html": [
              "\n",
              "  <div id=\"df-57cc25aa-245f-47c8-bc2b-56a413795f28\">\n",
              "    <div class=\"colab-df-container\">\n",
              "      <div>\n",
              "<style scoped>\n",
              "    .dataframe tbody tr th:only-of-type {\n",
              "        vertical-align: middle;\n",
              "    }\n",
              "\n",
              "    .dataframe tbody tr th {\n",
              "        vertical-align: top;\n",
              "    }\n",
              "\n",
              "    .dataframe thead th {\n",
              "        text-align: right;\n",
              "    }\n",
              "</style>\n",
              "<table border=\"1\" class=\"dataframe\">\n",
              "  <thead>\n",
              "    <tr style=\"text-align: right;\">\n",
              "      <th></th>\n",
              "      <th>imputed_mean_monthly_price</th>\n",
              "      <th>city_id</th>\n",
              "      <th>shop_id</th>\n",
              "      <th>item_category_id</th>\n",
              "      <th>item_id</th>\n",
              "      <th>date_item_category_id_monthly_sales_sum_lag1</th>\n",
              "      <th>date_item_category_id_monthly_sales_sum_ma_3</th>\n",
              "      <th>date_city_id_shop_id_monthly_sales_sum_lag1</th>\n",
              "      <th>date_city_id_shop_id_monthly_sales_sum_ma_3</th>\n",
              "    </tr>\n",
              "    <tr>\n",
              "      <th>unique_id</th>\n",
              "      <th></th>\n",
              "      <th></th>\n",
              "      <th></th>\n",
              "      <th></th>\n",
              "      <th></th>\n",
              "      <th></th>\n",
              "      <th></th>\n",
              "      <th></th>\n",
              "      <th></th>\n",
              "    </tr>\n",
              "  </thead>\n",
              "  <tbody>\n",
              "    <tr>\n",
              "      <th>25-2574</th>\n",
              "      <td>399.0</td>\n",
              "      <td>7</td>\n",
              "      <td>25</td>\n",
              "      <td>55</td>\n",
              "      <td>2574</td>\n",
              "      <td>NaN</td>\n",
              "      <td>NaN</td>\n",
              "      <td>NaN</td>\n",
              "      <td>NaN</td>\n",
              "    </tr>\n",
              "    <tr>\n",
              "      <th>25-2808</th>\n",
              "      <td>999.0</td>\n",
              "      <td>7</td>\n",
              "      <td>25</td>\n",
              "      <td>30</td>\n",
              "      <td>2808</td>\n",
              "      <td>NaN</td>\n",
              "      <td>NaN</td>\n",
              "      <td>NaN</td>\n",
              "      <td>NaN</td>\n",
              "    </tr>\n",
              "    <tr>\n",
              "      <th>25-2308</th>\n",
              "      <td>799.0</td>\n",
              "      <td>7</td>\n",
              "      <td>25</td>\n",
              "      <td>30</td>\n",
              "      <td>2308</td>\n",
              "      <td>NaN</td>\n",
              "      <td>NaN</td>\n",
              "      <td>NaN</td>\n",
              "      <td>NaN</td>\n",
              "    </tr>\n",
              "    <tr>\n",
              "      <th>25-5821</th>\n",
              "      <td>599.0</td>\n",
              "      <td>7</td>\n",
              "      <td>25</td>\n",
              "      <td>35</td>\n",
              "      <td>5821</td>\n",
              "      <td>NaN</td>\n",
              "      <td>NaN</td>\n",
              "      <td>NaN</td>\n",
              "      <td>NaN</td>\n",
              "    </tr>\n",
              "    <tr>\n",
              "      <th>25-5822</th>\n",
              "      <td>999.0</td>\n",
              "      <td>7</td>\n",
              "      <td>25</td>\n",
              "      <td>35</td>\n",
              "      <td>5822</td>\n",
              "      <td>NaN</td>\n",
              "      <td>NaN</td>\n",
              "      <td>NaN</td>\n",
              "      <td>NaN</td>\n",
              "    </tr>\n",
              "  </tbody>\n",
              "</table>\n",
              "</div>\n",
              "      <button class=\"colab-df-convert\" onclick=\"convertToInteractive('df-57cc25aa-245f-47c8-bc2b-56a413795f28')\"\n",
              "              title=\"Convert this dataframe to an interactive table.\"\n",
              "              style=\"display:none;\">\n",
              "        \n",
              "  <svg xmlns=\"http://www.w3.org/2000/svg\" height=\"24px\"viewBox=\"0 0 24 24\"\n",
              "       width=\"24px\">\n",
              "    <path d=\"M0 0h24v24H0V0z\" fill=\"none\"/>\n",
              "    <path d=\"M18.56 5.44l.94 2.06.94-2.06 2.06-.94-2.06-.94-.94-2.06-.94 2.06-2.06.94zm-11 1L8.5 8.5l.94-2.06 2.06-.94-2.06-.94L8.5 2.5l-.94 2.06-2.06.94zm10 10l.94 2.06.94-2.06 2.06-.94-2.06-.94-.94-2.06-.94 2.06-2.06.94z\"/><path d=\"M17.41 7.96l-1.37-1.37c-.4-.4-.92-.59-1.43-.59-.52 0-1.04.2-1.43.59L10.3 9.45l-7.72 7.72c-.78.78-.78 2.05 0 2.83L4 21.41c.39.39.9.59 1.41.59.51 0 1.02-.2 1.41-.59l7.78-7.78 2.81-2.81c.8-.78.8-2.07 0-2.86zM5.41 20L4 18.59l7.72-7.72 1.47 1.35L5.41 20z\"/>\n",
              "  </svg>\n",
              "      </button>\n",
              "      \n",
              "  <style>\n",
              "    .colab-df-container {\n",
              "      display:flex;\n",
              "      flex-wrap:wrap;\n",
              "      gap: 12px;\n",
              "    }\n",
              "\n",
              "    .colab-df-convert {\n",
              "      background-color: #E8F0FE;\n",
              "      border: none;\n",
              "      border-radius: 50%;\n",
              "      cursor: pointer;\n",
              "      display: none;\n",
              "      fill: #1967D2;\n",
              "      height: 32px;\n",
              "      padding: 0 0 0 0;\n",
              "      width: 32px;\n",
              "    }\n",
              "\n",
              "    .colab-df-convert:hover {\n",
              "      background-color: #E2EBFA;\n",
              "      box-shadow: 0px 1px 2px rgba(60, 64, 67, 0.3), 0px 1px 3px 1px rgba(60, 64, 67, 0.15);\n",
              "      fill: #174EA6;\n",
              "    }\n",
              "\n",
              "    [theme=dark] .colab-df-convert {\n",
              "      background-color: #3B4455;\n",
              "      fill: #D2E3FC;\n",
              "    }\n",
              "\n",
              "    [theme=dark] .colab-df-convert:hover {\n",
              "      background-color: #434B5C;\n",
              "      box-shadow: 0px 1px 3px 1px rgba(0, 0, 0, 0.15);\n",
              "      filter: drop-shadow(0px 1px 2px rgba(0, 0, 0, 0.3));\n",
              "      fill: #FFFFFF;\n",
              "    }\n",
              "  </style>\n",
              "\n",
              "      <script>\n",
              "        const buttonEl =\n",
              "          document.querySelector('#df-57cc25aa-245f-47c8-bc2b-56a413795f28 button.colab-df-convert');\n",
              "        buttonEl.style.display =\n",
              "          google.colab.kernel.accessAllowed ? 'block' : 'none';\n",
              "\n",
              "        async function convertToInteractive(key) {\n",
              "          const element = document.querySelector('#df-57cc25aa-245f-47c8-bc2b-56a413795f28');\n",
              "          const dataTable =\n",
              "            await google.colab.kernel.invokeFunction('convertToInteractive',\n",
              "                                                     [key], {});\n",
              "          if (!dataTable) return;\n",
              "\n",
              "          const docLinkHtml = 'Like what you see? Visit the ' +\n",
              "            '<a target=\"_blank\" href=https://colab.research.google.com/notebooks/data_table.ipynb>data table notebook</a>'\n",
              "            + ' to learn more about interactive tables.';\n",
              "          element.innerHTML = '';\n",
              "          dataTable['output_type'] = 'display_data';\n",
              "          await google.colab.output.renderOutput(dataTable, element);\n",
              "          const docLink = document.createElement('div');\n",
              "          docLink.innerHTML = docLinkHtml;\n",
              "          element.appendChild(docLink);\n",
              "        }\n",
              "      </script>\n",
              "    </div>\n",
              "  </div>\n",
              "  "
            ]
          },
          "metadata": {},
          "execution_count": 520
        }
      ]
    },
    {
      "cell_type": "code",
      "execution_count": null,
      "id": "61ffe77d",
      "metadata": {
        "execution": {
          "iopub.execute_input": "2022-07-20T19:19:01.865835Z",
          "iopub.status.busy": "2022-07-20T19:19:01.864887Z",
          "iopub.status.idle": "2022-07-20T19:19:02.038795Z",
          "shell.execute_reply": "2022-07-20T19:19:02.037589Z"
        },
        "papermill": {
          "duration": 0.197547,
          "end_time": "2022-07-20T19:19:02.041256",
          "exception": false,
          "start_time": "2022-07-20T19:19:01.843709",
          "status": "completed"
        },
        "tags": [],
        "id": "61ffe77d"
      },
      "outputs": [],
      "source": [
        "from xgboost import XGBRegressor"
      ]
    },
    {
      "cell_type": "code",
      "execution_count": null,
      "id": "47a4cd0e",
      "metadata": {
        "execution": {
          "iopub.execute_input": "2022-07-20T19:19:02.082663Z",
          "iopub.status.busy": "2022-07-20T19:19:02.082262Z",
          "iopub.status.idle": "2022-07-20T19:19:02.086576Z",
          "shell.execute_reply": "2022-07-20T19:19:02.085567Z"
        },
        "papermill": {
          "duration": 0.027303,
          "end_time": "2022-07-20T19:19:02.088531",
          "exception": false,
          "start_time": "2022-07-20T19:19:02.061228",
          "status": "completed"
        },
        "tags": [],
        "id": "47a4cd0e"
      },
      "outputs": [],
      "source": [
        "model = XGBRegressor()"
      ]
    },
    {
      "cell_type": "code",
      "execution_count": null,
      "id": "a0d44056",
      "metadata": {
        "execution": {
          "iopub.execute_input": "2022-07-20T19:19:02.129847Z",
          "iopub.status.busy": "2022-07-20T19:19:02.129417Z",
          "iopub.status.idle": "2022-07-20T19:19:02.865899Z",
          "shell.execute_reply": "2022-07-20T19:19:02.865054Z"
        },
        "papermill": {
          "duration": 0.759498,
          "end_time": "2022-07-20T19:19:02.867762",
          "exception": false,
          "start_time": "2022-07-20T19:19:02.108264",
          "status": "completed"
        },
        "tags": [],
        "id": "a0d44056",
        "outputId": "9ebdb656-5c07-44de-c5a3-51b3e0006689",
        "colab": {
          "base_uri": "https://localhost:8080/"
        }
      },
      "outputs": [
        {
          "output_type": "stream",
          "name": "stdout",
          "text": [
            "[10:52:53] WARNING: /workspace/src/objective/regression_obj.cu:152: reg:linear is now deprecated in favor of reg:squarederror.\n",
            "[0]\tvalidation_0-rmse:14.2632\tvalidation_1-rmse:12.791\n",
            "Multiple eval metrics have been passed: 'validation_1-rmse' will be used for early stopping.\n",
            "\n",
            "Will train until validation_1-rmse hasn't improved in 5 rounds.\n",
            "[1]\tvalidation_0-rmse:13.2918\tvalidation_1-rmse:11.8049\n",
            "[2]\tvalidation_0-rmse:12.4481\tvalidation_1-rmse:10.9672\n",
            "[3]\tvalidation_0-rmse:11.6991\tvalidation_1-rmse:10.2854\n",
            "[4]\tvalidation_0-rmse:11.0707\tvalidation_1-rmse:9.65546\n",
            "[5]\tvalidation_0-rmse:10.5133\tvalidation_1-rmse:9.15987\n",
            "[6]\tvalidation_0-rmse:10.0385\tvalidation_1-rmse:8.74337\n",
            "[7]\tvalidation_0-rmse:9.63107\tvalidation_1-rmse:8.39648\n",
            "[8]\tvalidation_0-rmse:9.2846\tvalidation_1-rmse:8.12438\n",
            "[9]\tvalidation_0-rmse:8.98667\tvalidation_1-rmse:7.86501\n",
            "[10]\tvalidation_0-rmse:8.73791\tvalidation_1-rmse:7.66516\n",
            "[11]\tvalidation_0-rmse:8.52993\tvalidation_1-rmse:7.50664\n",
            "[12]\tvalidation_0-rmse:8.33221\tvalidation_1-rmse:7.36616\n",
            "[13]\tvalidation_0-rmse:8.18187\tvalidation_1-rmse:7.2554\n",
            "[14]\tvalidation_0-rmse:8.0473\tvalidation_1-rmse:7.14573\n",
            "[15]\tvalidation_0-rmse:7.92038\tvalidation_1-rmse:7.07658\n",
            "[16]\tvalidation_0-rmse:7.82919\tvalidation_1-rmse:7.01305\n",
            "[17]\tvalidation_0-rmse:7.73716\tvalidation_1-rmse:6.9576\n",
            "[18]\tvalidation_0-rmse:7.66962\tvalidation_1-rmse:6.9132\n",
            "[19]\tvalidation_0-rmse:7.60335\tvalidation_1-rmse:6.88494\n",
            "[20]\tvalidation_0-rmse:7.54154\tvalidation_1-rmse:6.8632\n",
            "[21]\tvalidation_0-rmse:7.47739\tvalidation_1-rmse:6.78592\n",
            "[22]\tvalidation_0-rmse:7.42172\tvalidation_1-rmse:6.73592\n",
            "[23]\tvalidation_0-rmse:7.38196\tvalidation_1-rmse:6.72181\n",
            "[24]\tvalidation_0-rmse:7.34272\tvalidation_1-rmse:6.68963\n",
            "[25]\tvalidation_0-rmse:7.30456\tvalidation_1-rmse:6.65011\n",
            "[26]\tvalidation_0-rmse:7.28511\tvalidation_1-rmse:6.65339\n",
            "[27]\tvalidation_0-rmse:7.24991\tvalidation_1-rmse:6.61464\n",
            "[28]\tvalidation_0-rmse:7.21811\tvalidation_1-rmse:6.58101\n",
            "[29]\tvalidation_0-rmse:7.19185\tvalidation_1-rmse:6.5536\n",
            "[30]\tvalidation_0-rmse:7.17135\tvalidation_1-rmse:6.54312\n",
            "[31]\tvalidation_0-rmse:7.15198\tvalidation_1-rmse:6.52922\n",
            "[32]\tvalidation_0-rmse:7.13016\tvalidation_1-rmse:6.49833\n",
            "[33]\tvalidation_0-rmse:7.108\tvalidation_1-rmse:6.46465\n",
            "[34]\tvalidation_0-rmse:7.09661\tvalidation_1-rmse:6.46242\n",
            "[35]\tvalidation_0-rmse:7.08008\tvalidation_1-rmse:6.43668\n",
            "[36]\tvalidation_0-rmse:7.07242\tvalidation_1-rmse:6.44188\n",
            "[37]\tvalidation_0-rmse:7.05729\tvalidation_1-rmse:6.42325\n",
            "[38]\tvalidation_0-rmse:7.04414\tvalidation_1-rmse:6.40192\n",
            "[39]\tvalidation_0-rmse:7.03637\tvalidation_1-rmse:6.40708\n",
            "[40]\tvalidation_0-rmse:7.0273\tvalidation_1-rmse:6.40322\n",
            "[41]\tvalidation_0-rmse:7.0172\tvalidation_1-rmse:6.39623\n",
            "[42]\tvalidation_0-rmse:7.00119\tvalidation_1-rmse:6.36715\n",
            "[43]\tvalidation_0-rmse:6.99415\tvalidation_1-rmse:6.36584\n",
            "[44]\tvalidation_0-rmse:6.9724\tvalidation_1-rmse:6.34916\n",
            "[45]\tvalidation_0-rmse:6.96093\tvalidation_1-rmse:6.33946\n",
            "[46]\tvalidation_0-rmse:6.95594\tvalidation_1-rmse:6.33978\n",
            "[47]\tvalidation_0-rmse:6.94239\tvalidation_1-rmse:6.32677\n",
            "[48]\tvalidation_0-rmse:6.92552\tvalidation_1-rmse:6.29675\n",
            "[49]\tvalidation_0-rmse:6.92042\tvalidation_1-rmse:6.29302\n",
            "[50]\tvalidation_0-rmse:6.91097\tvalidation_1-rmse:6.27715\n",
            "[51]\tvalidation_0-rmse:6.89901\tvalidation_1-rmse:6.26194\n",
            "[52]\tvalidation_0-rmse:6.88785\tvalidation_1-rmse:6.2546\n",
            "[53]\tvalidation_0-rmse:6.87477\tvalidation_1-rmse:6.23982\n",
            "[54]\tvalidation_0-rmse:6.86515\tvalidation_1-rmse:6.22054\n",
            "[55]\tvalidation_0-rmse:6.8587\tvalidation_1-rmse:6.22299\n",
            "[56]\tvalidation_0-rmse:6.85213\tvalidation_1-rmse:6.21696\n",
            "[57]\tvalidation_0-rmse:6.8384\tvalidation_1-rmse:6.20008\n",
            "[58]\tvalidation_0-rmse:6.83329\tvalidation_1-rmse:6.20017\n",
            "[59]\tvalidation_0-rmse:6.82591\tvalidation_1-rmse:6.1896\n",
            "[60]\tvalidation_0-rmse:6.82092\tvalidation_1-rmse:6.19208\n",
            "[61]\tvalidation_0-rmse:6.81616\tvalidation_1-rmse:6.20094\n",
            "[62]\tvalidation_0-rmse:6.8103\tvalidation_1-rmse:6.19163\n",
            "[63]\tvalidation_0-rmse:6.80019\tvalidation_1-rmse:6.17532\n",
            "[64]\tvalidation_0-rmse:6.79533\tvalidation_1-rmse:6.17269\n",
            "[65]\tvalidation_0-rmse:6.78146\tvalidation_1-rmse:6.1439\n",
            "[66]\tvalidation_0-rmse:6.77282\tvalidation_1-rmse:6.13276\n",
            "[67]\tvalidation_0-rmse:6.76253\tvalidation_1-rmse:6.11399\n",
            "[68]\tvalidation_0-rmse:6.75615\tvalidation_1-rmse:6.10216\n",
            "[69]\tvalidation_0-rmse:6.74877\tvalidation_1-rmse:6.09876\n",
            "[70]\tvalidation_0-rmse:6.74501\tvalidation_1-rmse:6.09955\n",
            "[71]\tvalidation_0-rmse:6.73794\tvalidation_1-rmse:6.09124\n",
            "[72]\tvalidation_0-rmse:6.72828\tvalidation_1-rmse:6.06475\n",
            "[73]\tvalidation_0-rmse:6.72268\tvalidation_1-rmse:6.06202\n",
            "[74]\tvalidation_0-rmse:6.71858\tvalidation_1-rmse:6.06306\n",
            "[75]\tvalidation_0-rmse:6.71227\tvalidation_1-rmse:6.0564\n",
            "[76]\tvalidation_0-rmse:6.70245\tvalidation_1-rmse:6.04409\n",
            "[77]\tvalidation_0-rmse:6.69152\tvalidation_1-rmse:6.02946\n",
            "[78]\tvalidation_0-rmse:6.68868\tvalidation_1-rmse:6.02761\n",
            "[79]\tvalidation_0-rmse:6.68297\tvalidation_1-rmse:6.02171\n",
            "[80]\tvalidation_0-rmse:6.67812\tvalidation_1-rmse:6.0235\n",
            "[81]\tvalidation_0-rmse:6.67467\tvalidation_1-rmse:6.03029\n",
            "[82]\tvalidation_0-rmse:6.6649\tvalidation_1-rmse:6.01627\n",
            "[83]\tvalidation_0-rmse:6.65398\tvalidation_1-rmse:6.00713\n",
            "[84]\tvalidation_0-rmse:6.64496\tvalidation_1-rmse:5.98936\n",
            "[85]\tvalidation_0-rmse:6.63845\tvalidation_1-rmse:5.98442\n",
            "[86]\tvalidation_0-rmse:6.62767\tvalidation_1-rmse:5.98538\n",
            "[87]\tvalidation_0-rmse:6.62024\tvalidation_1-rmse:5.97931\n",
            "[88]\tvalidation_0-rmse:6.6163\tvalidation_1-rmse:5.97732\n",
            "[89]\tvalidation_0-rmse:6.60911\tvalidation_1-rmse:5.95843\n",
            "[90]\tvalidation_0-rmse:6.60036\tvalidation_1-rmse:5.95428\n",
            "[91]\tvalidation_0-rmse:6.59296\tvalidation_1-rmse:5.94365\n",
            "[92]\tvalidation_0-rmse:6.58955\tvalidation_1-rmse:5.9464\n",
            "[93]\tvalidation_0-rmse:6.58565\tvalidation_1-rmse:5.94535\n",
            "[94]\tvalidation_0-rmse:6.57593\tvalidation_1-rmse:5.9307\n",
            "[95]\tvalidation_0-rmse:6.56727\tvalidation_1-rmse:5.91896\n",
            "[96]\tvalidation_0-rmse:6.56307\tvalidation_1-rmse:5.9155\n",
            "[97]\tvalidation_0-rmse:6.56055\tvalidation_1-rmse:5.91545\n",
            "[98]\tvalidation_0-rmse:6.5584\tvalidation_1-rmse:5.91768\n",
            "[99]\tvalidation_0-rmse:6.55545\tvalidation_1-rmse:5.91714\n"
          ]
        },
        {
          "output_type": "execute_result",
          "data": {
            "text/plain": [
              "XGBRegressor()"
            ]
          },
          "metadata": {},
          "execution_count": 523
        }
      ],
      "source": [
        "model.fit(\n",
        "    X = X_train,\n",
        "    y = y_train,\n",
        "    eval_metric = \"rmse\",\n",
        "    eval_set = [(X_train, y_train), (X_test, y_test)],\n",
        "    verbose = True,\n",
        "    early_stopping_rounds = 5\n",
        ")"
      ]
    },
    {
      "cell_type": "markdown",
      "id": "bccdb45f",
      "metadata": {
        "papermill": {
          "duration": 0.022268,
          "end_time": "2022-07-20T19:19:02.912815",
          "exception": false,
          "start_time": "2022-07-20T19:19:02.890547",
          "status": "completed"
        },
        "tags": [],
        "id": "bccdb45f"
      },
      "source": [
        "# Model evaluation"
      ]
    },
    {
      "cell_type": "code",
      "execution_count": null,
      "id": "52f970c9",
      "metadata": {
        "execution": {
          "iopub.execute_input": "2022-07-20T19:19:02.960552Z",
          "iopub.status.busy": "2022-07-20T19:19:02.959551Z",
          "iopub.status.idle": "2022-07-20T19:19:03.239788Z",
          "shell.execute_reply": "2022-07-20T19:19:03.238642Z"
        },
        "papermill": {
          "duration": 0.306468,
          "end_time": "2022-07-20T19:19:03.242246",
          "exception": false,
          "start_time": "2022-07-20T19:19:02.935778",
          "status": "completed"
        },
        "tags": [],
        "id": "52f970c9",
        "outputId": "9d0d53e2-9e88-4d33-c775-45dd193d4041",
        "colab": {
          "base_uri": "https://localhost:8080/",
          "height": 897
        }
      },
      "outputs": [
        {
          "output_type": "display_data",
          "data": {
            "text/plain": [
              "<Figure size 720x1080 with 1 Axes>"
            ],
            "image/png": "[encoded data removed]"
          },
          "metadata": {
            "needs_background": "light"
          }
        }
      ],
      "source": [
        "import matplotlib.pyplot as plt\n",
        "from xgboost import plot_importance\n",
        "\n",
        "importance = model.get_booster().get_score(importance_type = \"gain\")\n",
        "importance = {k: v for k, v in sorted(importance.items(), key = lambda item: item[1])}\n",
        "\n",
        "fig, ax = plt.subplots(figsize = (10, 15))\n",
        "plot_importance(model, importance_type = \"gain\", ax = ax);"
      ]
    },
    {
      "cell_type": "code",
      "execution_count": null,
      "id": "a0c67b4d",
      "metadata": {
        "execution": {
          "iopub.execute_input": "2022-07-20T19:19:03.292295Z",
          "iopub.status.busy": "2022-07-20T19:19:03.291866Z",
          "iopub.status.idle": "2022-07-20T19:19:03.296022Z",
          "shell.execute_reply": "2022-07-20T19:19:03.295248Z"
        },
        "papermill": {
          "duration": 0.031294,
          "end_time": "2022-07-20T19:19:03.297838",
          "exception": false,
          "start_time": "2022-07-20T19:19:03.266544",
          "status": "completed"
        },
        "tags": [],
        "id": "a0c67b4d"
      },
      "outputs": [],
      "source": [
        "model.predict(X_kaggle_predict)"
      ]
    },
    {
      "cell_type": "code",
      "execution_count": null,
      "id": "6ad885bd",
      "metadata": {
        "execution": {
          "iopub.execute_input": "2022-07-20T19:19:03.346389Z",
          "iopub.status.busy": "2022-07-20T19:19:03.345649Z",
          "iopub.status.idle": "2022-07-20T19:19:03.351296Z",
          "shell.execute_reply": "2022-07-20T19:19:03.349976Z"
        },
        "papermill": {
          "duration": 0.032447,
          "end_time": "2022-07-20T19:19:03.353564",
          "exception": false,
          "start_time": "2022-07-20T19:19:03.321117",
          "status": "completed"
        },
        "tags": [],
        "id": "6ad885bd"
      },
      "outputs": [],
      "source": [
        "from sklearn.metrics import mean_squared_error"
      ]
    },
    {
      "cell_type": "code",
      "execution_count": null,
      "id": "14147bcb",
      "metadata": {
        "execution": {
          "iopub.execute_input": "2022-07-20T19:19:03.402585Z",
          "iopub.status.busy": "2022-07-20T19:19:03.402159Z",
          "iopub.status.idle": "2022-07-20T19:19:03.409871Z",
          "shell.execute_reply": "2022-07-20T19:19:03.408804Z"
        },
        "papermill": {
          "duration": 0.03438,
          "end_time": "2022-07-20T19:19:03.412108",
          "exception": false,
          "start_time": "2022-07-20T19:19:03.377728",
          "status": "completed"
        },
        "tags": [],
        "id": "14147bcb",
        "outputId": "7928b940-dfb0-475e-e5d5-5dae43bfcdf3",
        "colab": {
          "base_uri": "https://localhost:8080/",
          "height": 53
        }
      },
      "outputs": [
        {
          "output_type": "execute_result",
          "data": {
            "text/plain": [
              "'\\ny_true = [10, 9, 8, 13, 7]\\n\\ny_pred_1 = [9, 10, 9, 14, 9]\\n\\ny_pred_2 = [10, 9, 8, 13, 100]\\n\\nprint(np.sqrt(mean_squared_error(y_true = y_true, y_pred = y_pred_1)))\\nprint(np.sqrt(mean_squared_error(y_true = y_true, y_pred = y_pred_2)))\\n'"
            ],
            "application/vnd.google.colaboratory.intrinsic+json": {
              "type": "string"
            }
          },
          "metadata": {},
          "execution_count": 527
        }
      ],
      "source": [
        "'''\n",
        "y_true = [10, 9, 8, 13, 7]\n",
        "\n",
        "y_pred_1 = [9, 10, 9, 14, 9]\n",
        "\n",
        "y_pred_2 = [10, 9, 8, 13, 100]\n",
        "\n",
        "print(np.sqrt(mean_squared_error(y_true = y_true, y_pred = y_pred_1)))\n",
        "print(np.sqrt(mean_squared_error(y_true = y_true, y_pred = y_pred_2)))\n",
        "'''"
      ]
    },
    {
      "cell_type": "code",
      "execution_count": null,
      "id": "bfa3ee9a",
      "metadata": {
        "papermill": {
          "duration": 0.023398,
          "end_time": "2022-07-20T19:19:03.459092",
          "exception": false,
          "start_time": "2022-07-20T19:19:03.435694",
          "status": "completed"
        },
        "tags": [],
        "id": "bfa3ee9a",
        "colab": {
          "base_uri": "https://localhost:8080/"
        },
        "outputId": "dea6d9fb-8587-45ba-9281-7bebfb4a448a"
      },
      "outputs": [
        {
          "output_type": "execute_result",
          "data": {
            "text/plain": [
              "5.915451648784287"
            ]
          },
          "metadata": {},
          "execution_count": 528
        }
      ],
      "source": [
        "y_kaggle_predict = model.predict(X_test)\n",
        "\n",
        "rmse_valida = np.sqrt(mean_squared_error(y_test, y_kaggle_predict))\n",
        "rmse_valida"
      ]
    },
    {
      "cell_type": "code",
      "execution_count": null,
      "id": "dd6ac8b2",
      "metadata": {
        "papermill": {
          "duration": 0.023189,
          "end_time": "2022-07-20T19:19:03.505609",
          "exception": false,
          "start_time": "2022-07-20T19:19:03.482420",
          "status": "completed"
        },
        "tags": [],
        "id": "dd6ac8b2",
        "colab": {
          "base_uri": "https://localhost:8080/"
        },
        "outputId": "d5d085d2-e530-41fa-cb08-6ff0c37b58bf"
      },
      "outputs": [
        {
          "output_type": "execute_result",
          "data": {
            "text/plain": [
              "array([ 9.339854 ,  8.128407 ,  8.128407 , 14.276309 , 14.355012 ,\n",
              "       11.314524 ,  5.5339036,  4.018815 , 10.486511 ,  7.852709 ,\n",
              "        6.77963  ,  3.4128687,  7.190988 ,  7.285266 , 19.029959 ,\n",
              "        8.182415 ,  8.182415 ,  8.182415 ,  7.065939 ,  6.701047 ,\n",
              "        6.153765 ,  9.83566  , 15.397311 ,  8.860655 , 13.840425 ,\n",
              "        3.4128687,  6.77963  , 10.486511 ,  5.659727 , 14.960136 ,\n",
              "       14.398924 ,  6.701047 ,  6.153765 ,  7.065939 ,  8.3709545,\n",
              "        5.2751107,  8.128407 ,  8.182415 ,  7.285266 , 19.029959 ,\n",
              "        4.018815 , 14.209912 , 10.486511 ,  4.645702 , 15.977603 ,\n",
              "       15.551296 ,  4.446243 , 10.027698 ,  7.682593 ,  9.948995 ,\n",
              "        9.684737 ,  6.8436418,  7.1006217,  8.691489 ,  8.560389 ,\n",
              "        8.28804  ,  8.28804  ,  8.511198 ,  7.287888 , 10.291726 ,\n",
              "        8.888488 , 13.135019 ,  6.981991 ,  3.6242962,  3.3673165,\n",
              "        4.5349293,  4.5324235, 14.336581 ,  3.3365483,  9.754017 ,\n",
              "       12.046866 ,  7.796944 ,  4.6918   ,  3.560066 ,  9.916783 ,\n",
              "       12.210181 , 13.828152 ,  9.393102 , 14.64095  ,  9.74119  ,\n",
              "       14.4381695, 21.04634  , 21.302889 , 22.811937 , 22.976816 ,\n",
              "       14.333443 ,  9.105182 ,  6.226057 , 11.753959 , 14.440685 ,\n",
              "       14.361982 , 11.675256 ,  8.048964 ,  8.048964 ,  9.917382 ,\n",
              "        5.5949135, 10.319563 ,  7.295075 ,  7.3086076,  6.761326 ,\n",
              "        9.888846 ,  8.048964 ,  7.37395  ,  9.5788765, 18.15002  ,\n",
              "        8.271099 ,  5.765295 ,  8.363285 ,  8.916943 , 13.20272  ,\n",
              "        7.3337984, 11.694697 ,  9.116403 ,  3.1269102,  3.9451466,\n",
              "       19.029959 ,  9.116403 ,  5.6929617,  5.6929617, 14.92725  ,\n",
              "       14.470724 ,  3.4128687,  3.7182548,  1.9890598,  5.4528875,\n",
              "       14.355012 , 14.276309 , 11.314524 ,  7.065939 ,  6.153765 ,\n",
              "        8.024254 ,  1.501756 , 10.258372 ,  8.78074  , 11.093328 ,\n",
              "        6.9303365, 10.28646  , 13.031466 , 13.63736  ,  6.77963  ,\n",
              "        8.290056 ,  8.128407 , 10.487555 , 13.983477 ,  5.9407806,\n",
              "       10.379979 ,  8.048964 ,  8.048964 ,  7.938722 ,  7.850038 ,\n",
              "       14.355012 , 11.314524 , 14.276309 ,  8.128407 , 15.725543 ,\n",
              "       10.027242 ,  8.272121 ,  7.938722 ,  7.938722 ,  8.351564 ,\n",
              "       10.106684 ,  8.516444 ,  8.044582 , 14.981171 ,  8.182415 ,\n",
              "       28.238981 ,  8.182415 , 28.701096 , 28.701096 , 28.293045 ,\n",
              "       28.880005 , 24.619898 , 24.47321  , 29.032593 , 24.057728 ,\n",
              "       28.293045 , 28.370762 , 28.388603 , 28.701096 , 26.210503 ,\n",
              "       29.04858  ,  8.271099 ,  9.5788765,  7.938722 , 28.78978  ,\n",
              "       24.177048 , 27.58531  , 28.293045 , 28.57284  , 28.293045 ,\n",
              "       24.177048 ,  6.2359767, 28.238981 ,  8.120947 , 28.738785 ,\n",
              "       24.07557  , 22.48312  ,  4.247652 , 28.297764 ,  7.851219 ,\n",
              "        6.3321567,  7.686339 ,  6.9187484, 12.3878765, 24.908882 ,\n",
              "       28.23286  , 28.331385 , 28.500315 , 29.096003 , 28.943415 ,\n",
              "        8.367502 ,  7.910067 ,  7.998751 ,  3.8435066, 27.871363 ,\n",
              "        4.8367586,  8.3709545,  9.687015 ,  9.936884 ,  9.796713 ,\n",
              "        5.9407806, 10.280126 ,  3.9451466,  8.436746 ,  8.524614 ,\n",
              "        7.0451207,  9.995948 , 12.3636465, 11.9560995, 12.543353 ,\n",
              "       12.135806 ,  7.938722 ,  9.179491 ,  9.389131 , 10.516315 ,\n",
              "       10.108768 ,  9.389131 ,  9.275089 , 10.949291 , 10.541744 ,\n",
              "        8.571215 ,  9.023525 ,  5.3468943,  4.6133537,  9.217789 ,\n",
              "        4.1889153,  4.979578 ,  7.219146 ,  9.269621 ,  4.3954883,\n",
              "        7.938722 ,  6.9466486,  7.6585803,  8.162264 ,  8.171282 ,\n",
              "        4.979578 ,  7.219146 ,  5.6085877,  7.929216 ,  4.013165 ,\n",
              "       12.3878765,  7.938722 , 12.963108 ,  9.883526 ,  8.044582 ,\n",
              "       11.104775 ,  8.048964 , 10.66534  ,  7.2928214,  9.995567 ,\n",
              "       10.435508 ,  6.216967 ,  7.7824855, 24.07557  , 13.324832 ,\n",
              "       11.614243 , 12.297199 ,  7.432665 ,  4.7433405, 28.213472 ,\n",
              "       12.297199 ,  8.044582 , 24.211832 ,  7.850038 ,  7.938722 ,\n",
              "        3.2671263, 16.369644 , 13.217372 , 24.057728 ,  6.948591 ,\n",
              "       13.798988 , 13.021973 ,  9.262364 ,  7.521349 , 10.106684 ,\n",
              "       11.808886 , 13.798988 , 12.454989 , 13.021973 ], dtype=float32)"
            ]
          },
          "metadata": {},
          "execution_count": 530
        }
      ],
      "source": [
        "y_kaggle_predict"
      ]
    },
    {
      "cell_type": "code",
      "source": [],
      "metadata": {
        "id": "_2cKomQdQuXJ"
      },
      "id": "_2cKomQdQuXJ",
      "execution_count": null,
      "outputs": []
    }
  ],
  "metadata": {
    "kernelspec": {
      "display_name": "Python 3",
      "language": "python",
      "name": "python3"
    },
    "language_info": {
      "codemirror_mode": {
        "name": "ipython",
        "version": 3
      },
      "file_extension": ".py",
      "mimetype": "text/x-python",
      "name": "python",
      "nbconvert_exporter": "python",
      "pygments_lexer": "ipython3",
      "version": "3.7.12"
    },
    "papermill": {
      "default_parameters": {},
      "duration": 23.257088,
      "end_time": "2022-07-20T19:19:04.250860",
      "environment_variables": {},
      "exception": null,
      "input_path": "__notebook__.ipynb",
      "output_path": "__notebook__.ipynb",
      "parameters": {},
      "start_time": "2022-07-20T19:18:40.993772",
      "version": "2.3.4"
    },
    "colab": {
      "provenance": [],
      "collapsed_sections": [],
      "include_colab_link": true
    }
  },
  "nbformat": 4,
  "nbformat_minor": 5
}